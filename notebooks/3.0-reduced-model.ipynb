{
 "cells": [
  {
   "cell_type": "markdown",
   "id": "01dcca24-256c-424b-9ea6-791cd798e00e",
   "metadata": {},
   "source": [
    "# Reduced model"
   ]
  },
  {
   "cell_type": "markdown",
   "id": "83f1b44f-1f96-4233-947b-b6c243190670",
   "metadata": {},
   "source": [
    "## Data Import"
   ]
  },
  {
   "cell_type": "code",
   "execution_count": 1,
   "id": "816e8e13-fe12-424b-abed-f1f737e19f06",
   "metadata": {},
   "outputs": [],
   "source": [
    "# Import libraries\n",
    "\n",
    "# Data & model loading\n",
    "import pandas as pd\n",
    "import numpy as np\n",
    "\n",
    "# preprocessing\n",
    "from sklearn.preprocessing import label_binarize\n",
    "from sklearn.model_selection import train_test_split\n",
    "\n",
    "# Modeling\n",
    "from sklearn.naive_bayes import GaussianNB\n",
    "from sklearn.multiclass import OneVsRestClassifier\n",
    "from sklearn.multioutput import MultiOutputClassifier\n",
    "\n",
    "# Data visualization\n",
    "%matplotlib inline\n",
    "import matplotlib.pyplot as plt\n",
    "import matplotlib\n",
    "from itertools import cycle\n",
    "import seaborn as sns\n",
    "\n",
    "# Performance metrics\n",
    "from sklearn import metrics\n",
    "import joblib"
   ]
  },
  {
   "cell_type": "code",
   "execution_count": 2,
   "id": "dba6dcaf-7fcc-4b61-a214-01fe22d9b74c",
   "metadata": {},
   "outputs": [],
   "source": [
    "X = pd.read_excel('Inputs/X.xlsx', index_col='Scene no.').copy()\n",
    "y = pd.read_excel('Inputs/y.xlsx', index_col='Scene no.').copy()"
   ]
  },
  {
   "cell_type": "code",
   "execution_count": 3,
   "id": "6d439eb6-0c3c-48d8-bbf8-b7709354d56b",
   "metadata": {},
   "outputs": [],
   "source": [
    "# Drop y with Consider class which has only 5 records\n",
    "y = y[y['CDU options'] != 8]\n",
    "X = X.drop(['Scene 26', 'Scene 1247', 'Scene 1380', 'Scene 1655', 'Scene 2109']) # y[y['CDU options'] == 8].index.values\n",
    "\n",
    "# Data\n",
    "X_reduced = X[['evaporation_and_natural_disperson','E_ss', 'E_sl', 'E_sw', 'sufficient_mixing_energy','E_ssC', 'seawater', 'E_ssI','soot_pollution', 'displacement']]\n",
    "\n",
    "# Data Split\n",
    "X_train, X_test, y_train, y_test = train_test_split(X_reduced, y, test_size=0.20, random_state=12)"
   ]
  },
  {
   "cell_type": "code",
   "execution_count": 4,
   "id": "cddcfc64-fd12-4ce3-a308-5a6e4c71429c",
   "metadata": {},
   "outputs": [
    {
     "data": {
      "text/html": [
       "<div>\n",
       "<style scoped>\n",
       "    .dataframe tbody tr th:only-of-type {\n",
       "        vertical-align: middle;\n",
       "    }\n",
       "\n",
       "    .dataframe tbody tr th {\n",
       "        vertical-align: top;\n",
       "    }\n",
       "\n",
       "    .dataframe thead th {\n",
       "        text-align: right;\n",
       "    }\n",
       "</style>\n",
       "<table border=\"1\" class=\"dataframe\">\n",
       "  <thead>\n",
       "    <tr style=\"text-align: right;\">\n",
       "      <th></th>\n",
       "      <th>evaporation_and_natural_disperson</th>\n",
       "      <th>E_ss</th>\n",
       "      <th>E_sl</th>\n",
       "      <th>E_sw</th>\n",
       "      <th>sufficient_mixing_energy</th>\n",
       "      <th>E_ssC</th>\n",
       "      <th>seawater</th>\n",
       "      <th>E_ssI</th>\n",
       "      <th>soot_pollution</th>\n",
       "      <th>displacement</th>\n",
       "    </tr>\n",
       "    <tr>\n",
       "      <th>Scene no.</th>\n",
       "      <th></th>\n",
       "      <th></th>\n",
       "      <th></th>\n",
       "      <th></th>\n",
       "      <th></th>\n",
       "      <th></th>\n",
       "      <th></th>\n",
       "      <th></th>\n",
       "      <th></th>\n",
       "      <th></th>\n",
       "    </tr>\n",
       "  </thead>\n",
       "  <tbody>\n",
       "    <tr>\n",
       "      <th>Scene 1</th>\n",
       "      <td>0.325843</td>\n",
       "      <td>0.5</td>\n",
       "      <td>0.5</td>\n",
       "      <td>0.5</td>\n",
       "      <td>1</td>\n",
       "      <td>1.0</td>\n",
       "      <td>0</td>\n",
       "      <td>1.0</td>\n",
       "      <td>1</td>\n",
       "      <td>0</td>\n",
       "    </tr>\n",
       "    <tr>\n",
       "      <th>Scene 2</th>\n",
       "      <td>0.483146</td>\n",
       "      <td>0.5</td>\n",
       "      <td>0.0</td>\n",
       "      <td>0.5</td>\n",
       "      <td>0</td>\n",
       "      <td>0.5</td>\n",
       "      <td>0</td>\n",
       "      <td>0.5</td>\n",
       "      <td>1</td>\n",
       "      <td>1</td>\n",
       "    </tr>\n",
       "    <tr>\n",
       "      <th>Scene 3</th>\n",
       "      <td>0.764045</td>\n",
       "      <td>1.0</td>\n",
       "      <td>0.5</td>\n",
       "      <td>0.5</td>\n",
       "      <td>1</td>\n",
       "      <td>0.5</td>\n",
       "      <td>0</td>\n",
       "      <td>0.0</td>\n",
       "      <td>1</td>\n",
       "      <td>1</td>\n",
       "    </tr>\n",
       "    <tr>\n",
       "      <th>Scene 4</th>\n",
       "      <td>0.910112</td>\n",
       "      <td>0.5</td>\n",
       "      <td>0.5</td>\n",
       "      <td>0.5</td>\n",
       "      <td>1</td>\n",
       "      <td>0.5</td>\n",
       "      <td>0</td>\n",
       "      <td>0.5</td>\n",
       "      <td>1</td>\n",
       "      <td>0</td>\n",
       "    </tr>\n",
       "    <tr>\n",
       "      <th>Scene 5</th>\n",
       "      <td>0.393258</td>\n",
       "      <td>1.0</td>\n",
       "      <td>0.5</td>\n",
       "      <td>0.5</td>\n",
       "      <td>0</td>\n",
       "      <td>0.5</td>\n",
       "      <td>0</td>\n",
       "      <td>0.5</td>\n",
       "      <td>0</td>\n",
       "      <td>0</td>\n",
       "    </tr>\n",
       "    <tr>\n",
       "      <th>...</th>\n",
       "      <td>...</td>\n",
       "      <td>...</td>\n",
       "      <td>...</td>\n",
       "      <td>...</td>\n",
       "      <td>...</td>\n",
       "      <td>...</td>\n",
       "      <td>...</td>\n",
       "      <td>...</td>\n",
       "      <td>...</td>\n",
       "      <td>...</td>\n",
       "    </tr>\n",
       "    <tr>\n",
       "      <th>Scene 3096</th>\n",
       "      <td>0.539326</td>\n",
       "      <td>0.5</td>\n",
       "      <td>1.0</td>\n",
       "      <td>0.5</td>\n",
       "      <td>0</td>\n",
       "      <td>0.5</td>\n",
       "      <td>0</td>\n",
       "      <td>0.5</td>\n",
       "      <td>0</td>\n",
       "      <td>0</td>\n",
       "    </tr>\n",
       "    <tr>\n",
       "      <th>Scene 3097</th>\n",
       "      <td>0.449438</td>\n",
       "      <td>0.5</td>\n",
       "      <td>1.0</td>\n",
       "      <td>0.5</td>\n",
       "      <td>0</td>\n",
       "      <td>0.5</td>\n",
       "      <td>0</td>\n",
       "      <td>0.5</td>\n",
       "      <td>0</td>\n",
       "      <td>0</td>\n",
       "    </tr>\n",
       "    <tr>\n",
       "      <th>Scene 3098</th>\n",
       "      <td>0.483146</td>\n",
       "      <td>1.0</td>\n",
       "      <td>0.0</td>\n",
       "      <td>0.5</td>\n",
       "      <td>0</td>\n",
       "      <td>1.0</td>\n",
       "      <td>0</td>\n",
       "      <td>0.0</td>\n",
       "      <td>1</td>\n",
       "      <td>1</td>\n",
       "    </tr>\n",
       "    <tr>\n",
       "      <th>Scene 3099</th>\n",
       "      <td>0.606742</td>\n",
       "      <td>1.0</td>\n",
       "      <td>0.0</td>\n",
       "      <td>0.5</td>\n",
       "      <td>1</td>\n",
       "      <td>0.0</td>\n",
       "      <td>0</td>\n",
       "      <td>0.0</td>\n",
       "      <td>1</td>\n",
       "      <td>1</td>\n",
       "    </tr>\n",
       "    <tr>\n",
       "      <th>Scene 3100</th>\n",
       "      <td>0.112360</td>\n",
       "      <td>1.0</td>\n",
       "      <td>0.5</td>\n",
       "      <td>0.5</td>\n",
       "      <td>1</td>\n",
       "      <td>0.5</td>\n",
       "      <td>0</td>\n",
       "      <td>1.0</td>\n",
       "      <td>1</td>\n",
       "      <td>0</td>\n",
       "    </tr>\n",
       "  </tbody>\n",
       "</table>\n",
       "<p>3095 rows × 10 columns</p>\n",
       "</div>"
      ],
      "text/plain": [
       "            evaporation_and_natural_disperson  E_ss  E_sl  E_sw  \\\n",
       "Scene no.                                                         \n",
       "Scene 1                              0.325843   0.5   0.5   0.5   \n",
       "Scene 2                              0.483146   0.5   0.0   0.5   \n",
       "Scene 3                              0.764045   1.0   0.5   0.5   \n",
       "Scene 4                              0.910112   0.5   0.5   0.5   \n",
       "Scene 5                              0.393258   1.0   0.5   0.5   \n",
       "...                                       ...   ...   ...   ...   \n",
       "Scene 3096                           0.539326   0.5   1.0   0.5   \n",
       "Scene 3097                           0.449438   0.5   1.0   0.5   \n",
       "Scene 3098                           0.483146   1.0   0.0   0.5   \n",
       "Scene 3099                           0.606742   1.0   0.0   0.5   \n",
       "Scene 3100                           0.112360   1.0   0.5   0.5   \n",
       "\n",
       "            sufficient_mixing_energy  E_ssC  seawater  E_ssI  soot_pollution  \\\n",
       "Scene no.                                                                      \n",
       "Scene 1                            1    1.0         0    1.0               1   \n",
       "Scene 2                            0    0.5         0    0.5               1   \n",
       "Scene 3                            1    0.5         0    0.0               1   \n",
       "Scene 4                            1    0.5         0    0.5               1   \n",
       "Scene 5                            0    0.5         0    0.5               0   \n",
       "...                              ...    ...       ...    ...             ...   \n",
       "Scene 3096                         0    0.5         0    0.5               0   \n",
       "Scene 3097                         0    0.5         0    0.5               0   \n",
       "Scene 3098                         0    1.0         0    0.0               1   \n",
       "Scene 3099                         1    0.0         0    0.0               1   \n",
       "Scene 3100                         1    0.5         0    1.0               1   \n",
       "\n",
       "            displacement  \n",
       "Scene no.                 \n",
       "Scene 1                0  \n",
       "Scene 2                1  \n",
       "Scene 3                1  \n",
       "Scene 4                0  \n",
       "Scene 5                0  \n",
       "...                  ...  \n",
       "Scene 3096             0  \n",
       "Scene 3097             0  \n",
       "Scene 3098             1  \n",
       "Scene 3099             1  \n",
       "Scene 3100             0  \n",
       "\n",
       "[3095 rows x 10 columns]"
      ]
     },
     "metadata": {},
     "output_type": "display_data"
    }
   ],
   "source": [
    "display(X_reduced)"
   ]
  },
  {
   "cell_type": "markdown",
   "id": "b1a3c2bc-35b4-47aa-a594-4538a00adff1",
   "metadata": {},
   "source": [
    "## Modeling\n",
    "### Training"
   ]
  },
  {
   "cell_type": "code",
   "execution_count": 5,
   "id": "04847380-b5a3-48a3-b13f-372a7de9ab37",
   "metadata": {},
   "outputs": [],
   "source": [
    "# modeling\n",
    "model_GB_ins =  GaussianNB()\n",
    "model_BIMReTA = MultiOutputClassifier(model_GB_ins).fit(X_train, y_train)"
   ]
  },
  {
   "cell_type": "markdown",
   "source": [
    "### Save the reduced model"
   ],
   "metadata": {
    "collapsed": false
   },
   "id": "8f4bd83edfa8db1d"
  },
  {
   "cell_type": "code",
   "outputs": [],
   "source": [
    "joblib.dump(model_BIMReTA, '../models/model_BIMReTA.pkl')"
   ],
   "metadata": {
    "collapsed": false
   },
   "id": "c392e3894e6da28b"
  },
  {
   "cell_type": "markdown",
   "source": [
    "### Classification/ Ranking"
   ],
   "metadata": {
    "collapsed": false
   },
   "id": "f3965b06c0f23b7e"
  },
  {
   "cell_type": "code",
   "execution_count": 6,
   "id": "4eaaa1e8-c34d-4c08-96af-10ea3fae60f8",
   "metadata": {},
   "outputs": [
    {
     "data": {
      "text/plain": [
       "(619, 10)"
      ]
     },
     "execution_count": 6,
     "metadata": {},
     "output_type": "execute_result"
    }
   ],
   "source": [
    "# Classify\n",
    "print(X_test.shape)\n",
    "y_pred = model_BIMReTA.predict(X_test)\n",
    "y_score = model_BIMReTA.predict_proba(X_test)"
   ]
  },
  {
   "cell_type": "markdown",
   "id": "83e043d6-8283-4f13-a22d-614aec00d134",
   "metadata": {},
   "source": [
    "### Model Assessment"
   ]
  },
  {
   "cell_type": "code",
   "execution_count": 7,
   "id": "c542aad7-5f85-4548-8832-dd4fbb46bbbd",
   "metadata": {},
   "outputs": [
    {
     "name": "stdout",
     "output_type": "stream",
     "text": [
      "----------------------------Confusion Matrix--------------\n",
      "MCR\n"
     ]
    },
    {
     "data": {
      "text/plain": [
       "array([[146,   0,   0,  83],\n",
       "       [  0,   1,  24,   0],\n",
       "       [  0,   0,  80,   0],\n",
       "       [ 76,   0,  86, 123]], dtype=int64)"
      ]
     },
     "metadata": {},
     "output_type": "display_data"
    },
    {
     "name": "stdout",
     "output_type": "stream",
     "text": [
      "CDU\n"
     ]
    },
    {
     "data": {
      "text/plain": [
       "array([[317,  13,  84],\n",
       "       [  0,  27,   0],\n",
       "       [  2,  13, 163]], dtype=int64)"
      ]
     },
     "metadata": {},
     "output_type": "display_data"
    },
    {
     "name": "stdout",
     "output_type": "stream",
     "text": [
      "ISB\n"
     ]
    },
    {
     "data": {
      "text/plain": [
       "array([[ 32,   0,   0],\n",
       "       [ 33, 126,   0],\n",
       "       [ 38,   0, 390]], dtype=int64)"
      ]
     },
     "metadata": {},
     "output_type": "display_data"
    },
    {
     "name": "stdout",
     "output_type": "stream",
     "text": [
      "----------------------------Classification Report--------------\n",
      "MCR\n",
      "              precision    recall  f1-score   support\n",
      "\n",
      "          -2       0.66      0.64      0.65       229\n",
      "           2       1.00      0.04      0.08        25\n",
      "           8       0.42      1.00      0.59        80\n",
      "          10       0.60      0.43      0.50       285\n",
      "\n",
      "    accuracy                           0.57       619\n",
      "   macro avg       0.67      0.53      0.45       619\n",
      "weighted avg       0.61      0.57      0.55       619\n",
      "\n",
      "CDU\n",
      "              precision    recall  f1-score   support\n",
      "\n",
      "         -10       0.99      0.77      0.86       414\n",
      "          -2       0.51      1.00      0.67        27\n",
      "          10       0.66      0.92      0.77       178\n",
      "\n",
      "    accuracy                           0.82       619\n",
      "   macro avg       0.72      0.89      0.77       619\n",
      "weighted avg       0.88      0.82      0.83       619\n",
      "\n",
      "ISB\n",
      "              precision    recall  f1-score   support\n",
      "\n",
      "          -2       0.31      1.00      0.47        32\n",
      "           8       1.00      0.79      0.88       159\n",
      "          10       1.00      0.91      0.95       428\n",
      "\n",
      "    accuracy                           0.89       619\n",
      "   macro avg       0.77      0.90      0.77       619\n",
      "weighted avg       0.96      0.89      0.91       619\n"
     ]
    }
   ],
   "source": [
    "print('----------------------------Confusion Matrix--------------')\n",
    "print('MCR')\n",
    "display(metrics.confusion_matrix(y_test.iloc[:,0], y_pred[:,0]))\n",
    "\n",
    "print('CDU')\n",
    "display(metrics.confusion_matrix(y_test.iloc[:,1], y_pred[:,1]))\n",
    "\n",
    "print('ISB')\n",
    "display(metrics.confusion_matrix(y_test.iloc[:,2], y_pred[:,2]))\n",
    "\n",
    "\n",
    "print('----------------------------Classification Report--------------')\n",
    "print('MCR')\n",
    "print(metrics.classification_report(y_test.iloc[:,0],y_pred[:,0]))\n",
    "print('CDU')\n",
    "print(metrics.classification_report(y_test.iloc[:,1],y_pred[:,1]))\n",
    "print('ISB')\n",
    "print(metrics.classification_report(y_test.iloc[:,2],y_pred[:,2]))"
   ]
  },
  {
   "cell_type": "code",
   "execution_count": 25,
   "id": "0d74dc61-34d0-4817-82ee-8ce9a0f3421c",
   "metadata": {},
   "outputs": [
    {
     "name": "stdout",
     "output_type": "stream",
     "text": [
      "----------------------------ROC AUC--------------\n",
      "MCR\n",
      "0.8078831734084119\n",
      "CDU\n",
      "0.9453979459384841\n",
      "ISB\n",
      "0.957310448260154\n"
     ]
    }
   ],
   "source": [
    "print('----------------------------ROC AUC--------------')\n",
    "print('MCR')\n",
    "print(metrics.roc_auc_score(y_test.iloc[:,0],y_score[0], multi_class='ovo'))\n",
    "print('CDU')\n",
    "print(metrics.roc_auc_score(y_test.iloc[:,1],y_score[1], multi_class='ovo'))\n",
    "print('ISB')\n",
    "print(metrics.roc_auc_score(y_test.iloc[:,2],y_score[2], multi_class='ovo'))"
   ]
  },
  {
   "cell_type": "code",
   "execution_count": 9,
   "id": "1608e546-1fb1-4410-8933-9ac176659e00",
   "metadata": {},
   "outputs": [
    {
     "data": {
      "text/plain": [
       "array([[1.00000000e+00, 0.00000000e+00, 0.00000000e+00],\n",
       "       [1.00000000e+00, 0.00000000e+00, 0.00000000e+00],\n",
       "       [1.00000000e+00, 0.00000000e+00, 0.00000000e+00],\n",
       "       ...,\n",
       "       [8.25222870e-06, 0.00000000e+00, 9.99991748e-01],\n",
       "       [7.28517906e-06, 0.00000000e+00, 9.99992715e-01],\n",
       "       [1.00000000e+00, 0.00000000e+00, 0.00000000e+00]])"
      ]
     },
     "execution_count": 9,
     "metadata": {},
     "output_type": "execute_result"
    }
   ],
   "source": [
    "y_score[1]"
   ]
  },
  {
   "cell_type": "markdown",
   "id": "62afa1fc-2466-4f21-922b-96607fc86418",
   "metadata": {},
   "source": [
    "## Compare with Full model"
   ]
  },
  {
   "cell_type": "markdown",
   "id": "f1ed73c2-2ab2-4930-be9f-6688a80da540",
   "metadata": {},
   "source": [
    "### Data of full & reduced model"
   ]
  },
  {
   "cell_type": "code",
   "execution_count": 10,
   "id": "b8ed11f1-287b-4824-9d68-6ccd504c4f0d",
   "metadata": {},
   "outputs": [],
   "source": [
    "# \n",
    "# import data\n",
    "X = pd.read_excel('Inputs/X.xlsx', index_col='Scene no.').copy()\n",
    "y = pd.read_excel('Inputs/y.xlsx', index_col='Scene no.').copy()\n",
    "\n",
    "# Drop y with Consider class which has only 5 records\n",
    "#y = y[y['CDU options'] != 8]\n",
    "#X = X.drop(['Scene 26', 'Scene 1247', 'Scene 1380', 'Scene 1655', 'Scene 2109']) # y[y['CDU options'] == 8].index.values\n",
    "\n"
   ]
  },
  {
   "cell_type": "code",
   "execution_count": 11,
   "id": "8e14e5e7-a213-420f-bd61-5c0d1843f292",
   "metadata": {},
   "outputs": [],
   "source": [
    "# Data for reduced model\n",
    "# MCR\n",
    "# Data\n",
    "X_reduced_mcr = X[['evaporation_and_natural_disperson','E_ss', 'E_sl', 'E_sw']]\n",
    "y_m_b = label_binarize(y['MCR options'], classes=[10, 8, 2, -2])\n",
    "n_classes = y_m_b.shape[1]\n",
    "X_train_mcr, X_test_mcr, y_train_mcr, y_test_mcr = train_test_split(X_reduced_mcr, y_m_b, test_size=0.20, random_state=12)\n",
    "\n",
    "# CDU\n",
    "X_reduced_cdu = X[[ 'sufficient_mixing_energy','E_ssC', 'seawater']]\n",
    "y_c_b = label_binarize(y['CDU options'], classes=[10, 8, -2, -10])\n",
    "n_classes = y_c_b.shape[1]\n",
    "X_train_cdu, X_test_cdu, y_train_cdu, y_test_cdu = train_test_split(X_reduced_cdu, y_c_b, test_size=0.20, random_state=12)\n",
    "\n",
    "# ISB\n",
    "X_reduced_isb = X[[ 'E_ssI','soot_pollution', 'displacement']]\n",
    "y_i_b = label_binarize(y['ISB options'], classes=[10, 8, -2])\n",
    "n_classes = y_i_b.shape[1]\n",
    "X_train_isb, X_test_isb, y_train_isb, y_test_isb = train_test_split(X_reduced_isb, y_i_b, test_size=0.20, random_state=12)\n"
   ]
  },
  {
   "cell_type": "code",
   "execution_count": 12,
   "id": "4c58f1dc-892e-49d8-b323-6d815b622f85",
   "metadata": {},
   "outputs": [
    {
     "name": "stderr",
     "output_type": "stream",
     "text": [
      "C:\\Users\\tanmo\\.conda\\envs\\preference_py\\lib\\site-packages\\sklearn\\model_selection\\_validation.py:771: UserWarning: Scoring failed. The score on this train-test partition for these parameters will be set to nan. Details: \n",
      "Traceback (most recent call last):\n",
      "  File \"C:\\Users\\tanmo\\.conda\\envs\\preference_py\\lib\\site-packages\\sklearn\\model_selection\\_validation.py\", line 762, in _score\n",
      "    scores = scorer(estimator, X_test, y_test)\n",
      "  File \"C:\\Users\\tanmo\\.conda\\envs\\preference_py\\lib\\site-packages\\sklearn\\metrics\\_scorer.py\", line 103, in __call__\n",
      "    score = scorer._score(cached_call, estimator, *args, **kwargs)\n",
      "  File \"C:\\Users\\tanmo\\.conda\\envs\\preference_py\\lib\\site-packages\\sklearn\\metrics\\_scorer.py\", line 381, in _score\n",
      "    return self._sign * self._score_func(y, y_pred, **self._kwargs)\n",
      "  File \"C:\\Users\\tanmo\\.conda\\envs\\preference_py\\lib\\site-packages\\sklearn\\metrics\\_ranking.py\", line 575, in roc_auc_score\n",
      "    return _average_binary_score(\n",
      "  File \"C:\\Users\\tanmo\\.conda\\envs\\preference_py\\lib\\site-packages\\sklearn\\metrics\\_base.py\", line 118, in _average_binary_score\n",
      "    score[c] = binary_metric(y_true_c, y_score_c, sample_weight=score_weight)\n",
      "  File \"C:\\Users\\tanmo\\.conda\\envs\\preference_py\\lib\\site-packages\\sklearn\\metrics\\_ranking.py\", line 337, in _binary_roc_auc_score\n",
      "    raise ValueError(\n",
      "ValueError: Only one class present in y_true. ROC AUC score is not defined in that case.\n",
      "\n",
      "  warnings.warn(\n",
      "C:\\Users\\tanmo\\.conda\\envs\\preference_py\\lib\\site-packages\\sklearn\\model_selection\\_validation.py:771: UserWarning: Scoring failed. The score on this train-test partition for these parameters will be set to nan. Details: \n",
      "Traceback (most recent call last):\n",
      "  File \"C:\\Users\\tanmo\\.conda\\envs\\preference_py\\lib\\site-packages\\sklearn\\model_selection\\_validation.py\", line 762, in _score\n",
      "    scores = scorer(estimator, X_test, y_test)\n",
      "  File \"C:\\Users\\tanmo\\.conda\\envs\\preference_py\\lib\\site-packages\\sklearn\\metrics\\_scorer.py\", line 103, in __call__\n",
      "    score = scorer._score(cached_call, estimator, *args, **kwargs)\n",
      "  File \"C:\\Users\\tanmo\\.conda\\envs\\preference_py\\lib\\site-packages\\sklearn\\metrics\\_scorer.py\", line 381, in _score\n",
      "    return self._sign * self._score_func(y, y_pred, **self._kwargs)\n",
      "  File \"C:\\Users\\tanmo\\.conda\\envs\\preference_py\\lib\\site-packages\\sklearn\\metrics\\_ranking.py\", line 575, in roc_auc_score\n",
      "    return _average_binary_score(\n",
      "  File \"C:\\Users\\tanmo\\.conda\\envs\\preference_py\\lib\\site-packages\\sklearn\\metrics\\_base.py\", line 118, in _average_binary_score\n",
      "    score[c] = binary_metric(y_true_c, y_score_c, sample_weight=score_weight)\n",
      "  File \"C:\\Users\\tanmo\\.conda\\envs\\preference_py\\lib\\site-packages\\sklearn\\metrics\\_ranking.py\", line 337, in _binary_roc_auc_score\n",
      "    raise ValueError(\n",
      "ValueError: Only one class present in y_true. ROC AUC score is not defined in that case.\n",
      "\n",
      "  warnings.warn(\n",
      "C:\\Users\\tanmo\\.conda\\envs\\preference_py\\lib\\site-packages\\sklearn\\model_selection\\_validation.py:771: UserWarning: Scoring failed. The score on this train-test partition for these parameters will be set to nan. Details: \n",
      "Traceback (most recent call last):\n",
      "  File \"C:\\Users\\tanmo\\.conda\\envs\\preference_py\\lib\\site-packages\\sklearn\\model_selection\\_validation.py\", line 762, in _score\n",
      "    scores = scorer(estimator, X_test, y_test)\n",
      "  File \"C:\\Users\\tanmo\\.conda\\envs\\preference_py\\lib\\site-packages\\sklearn\\metrics\\_scorer.py\", line 103, in __call__\n",
      "    score = scorer._score(cached_call, estimator, *args, **kwargs)\n",
      "  File \"C:\\Users\\tanmo\\.conda\\envs\\preference_py\\lib\\site-packages\\sklearn\\metrics\\_scorer.py\", line 381, in _score\n",
      "    return self._sign * self._score_func(y, y_pred, **self._kwargs)\n",
      "  File \"C:\\Users\\tanmo\\.conda\\envs\\preference_py\\lib\\site-packages\\sklearn\\metrics\\_ranking.py\", line 575, in roc_auc_score\n",
      "    return _average_binary_score(\n",
      "  File \"C:\\Users\\tanmo\\.conda\\envs\\preference_py\\lib\\site-packages\\sklearn\\metrics\\_base.py\", line 118, in _average_binary_score\n",
      "    score[c] = binary_metric(y_true_c, y_score_c, sample_weight=score_weight)\n",
      "  File \"C:\\Users\\tanmo\\.conda\\envs\\preference_py\\lib\\site-packages\\sklearn\\metrics\\_ranking.py\", line 337, in _binary_roc_auc_score\n",
      "    raise ValueError(\n",
      "ValueError: Only one class present in y_true. ROC AUC score is not defined in that case.\n",
      "\n",
      "  warnings.warn(\n",
      "C:\\Users\\tanmo\\.conda\\envs\\preference_py\\lib\\site-packages\\sklearn\\model_selection\\_validation.py:771: UserWarning: Scoring failed. The score on this train-test partition for these parameters will be set to nan. Details: \n",
      "Traceback (most recent call last):\n",
      "  File \"C:\\Users\\tanmo\\.conda\\envs\\preference_py\\lib\\site-packages\\sklearn\\model_selection\\_validation.py\", line 762, in _score\n",
      "    scores = scorer(estimator, X_test, y_test)\n",
      "  File \"C:\\Users\\tanmo\\.conda\\envs\\preference_py\\lib\\site-packages\\sklearn\\metrics\\_scorer.py\", line 103, in __call__\n",
      "    score = scorer._score(cached_call, estimator, *args, **kwargs)\n",
      "  File \"C:\\Users\\tanmo\\.conda\\envs\\preference_py\\lib\\site-packages\\sklearn\\metrics\\_scorer.py\", line 381, in _score\n",
      "    return self._sign * self._score_func(y, y_pred, **self._kwargs)\n",
      "  File \"C:\\Users\\tanmo\\.conda\\envs\\preference_py\\lib\\site-packages\\sklearn\\metrics\\_ranking.py\", line 575, in roc_auc_score\n",
      "    return _average_binary_score(\n",
      "  File \"C:\\Users\\tanmo\\.conda\\envs\\preference_py\\lib\\site-packages\\sklearn\\metrics\\_base.py\", line 118, in _average_binary_score\n",
      "    score[c] = binary_metric(y_true_c, y_score_c, sample_weight=score_weight)\n",
      "  File \"C:\\Users\\tanmo\\.conda\\envs\\preference_py\\lib\\site-packages\\sklearn\\metrics\\_ranking.py\", line 337, in _binary_roc_auc_score\n",
      "    raise ValueError(\n",
      "ValueError: Only one class present in y_true. ROC AUC score is not defined in that case.\n",
      "\n",
      "  warnings.warn(\n",
      "C:\\Users\\tanmo\\.conda\\envs\\preference_py\\lib\\site-packages\\sklearn\\model_selection\\_validation.py:771: UserWarning: Scoring failed. The score on this train-test partition for these parameters will be set to nan. Details: \n",
      "Traceback (most recent call last):\n",
      "  File \"C:\\Users\\tanmo\\.conda\\envs\\preference_py\\lib\\site-packages\\sklearn\\model_selection\\_validation.py\", line 762, in _score\n",
      "    scores = scorer(estimator, X_test, y_test)\n",
      "  File \"C:\\Users\\tanmo\\.conda\\envs\\preference_py\\lib\\site-packages\\sklearn\\metrics\\_scorer.py\", line 103, in __call__\n",
      "    score = scorer._score(cached_call, estimator, *args, **kwargs)\n",
      "  File \"C:\\Users\\tanmo\\.conda\\envs\\preference_py\\lib\\site-packages\\sklearn\\metrics\\_scorer.py\", line 381, in _score\n",
      "    return self._sign * self._score_func(y, y_pred, **self._kwargs)\n",
      "  File \"C:\\Users\\tanmo\\.conda\\envs\\preference_py\\lib\\site-packages\\sklearn\\metrics\\_ranking.py\", line 575, in roc_auc_score\n",
      "    return _average_binary_score(\n",
      "  File \"C:\\Users\\tanmo\\.conda\\envs\\preference_py\\lib\\site-packages\\sklearn\\metrics\\_base.py\", line 118, in _average_binary_score\n",
      "    score[c] = binary_metric(y_true_c, y_score_c, sample_weight=score_weight)\n",
      "  File \"C:\\Users\\tanmo\\.conda\\envs\\preference_py\\lib\\site-packages\\sklearn\\metrics\\_ranking.py\", line 337, in _binary_roc_auc_score\n",
      "    raise ValueError(\n",
      "ValueError: Only one class present in y_true. ROC AUC score is not defined in that case.\n",
      "\n",
      "  warnings.warn(\n",
      "C:\\Users\\tanmo\\.conda\\envs\\preference_py\\lib\\site-packages\\sklearn\\model_selection\\_validation.py:771: UserWarning: Scoring failed. The score on this train-test partition for these parameters will be set to nan. Details: \n",
      "Traceback (most recent call last):\n",
      "  File \"C:\\Users\\tanmo\\.conda\\envs\\preference_py\\lib\\site-packages\\sklearn\\model_selection\\_validation.py\", line 762, in _score\n",
      "    scores = scorer(estimator, X_test, y_test)\n",
      "  File \"C:\\Users\\tanmo\\.conda\\envs\\preference_py\\lib\\site-packages\\sklearn\\metrics\\_scorer.py\", line 103, in __call__\n",
      "    score = scorer._score(cached_call, estimator, *args, **kwargs)\n",
      "  File \"C:\\Users\\tanmo\\.conda\\envs\\preference_py\\lib\\site-packages\\sklearn\\metrics\\_scorer.py\", line 381, in _score\n",
      "    return self._sign * self._score_func(y, y_pred, **self._kwargs)\n",
      "  File \"C:\\Users\\tanmo\\.conda\\envs\\preference_py\\lib\\site-packages\\sklearn\\metrics\\_ranking.py\", line 575, in roc_auc_score\n",
      "    return _average_binary_score(\n",
      "  File \"C:\\Users\\tanmo\\.conda\\envs\\preference_py\\lib\\site-packages\\sklearn\\metrics\\_base.py\", line 118, in _average_binary_score\n",
      "    score[c] = binary_metric(y_true_c, y_score_c, sample_weight=score_weight)\n",
      "  File \"C:\\Users\\tanmo\\.conda\\envs\\preference_py\\lib\\site-packages\\sklearn\\metrics\\_ranking.py\", line 337, in _binary_roc_auc_score\n",
      "    raise ValueError(\n",
      "ValueError: Only one class present in y_true. ROC AUC score is not defined in that case.\n",
      "\n",
      "  warnings.warn(\n",
      "C:\\Users\\tanmo\\.conda\\envs\\preference_py\\lib\\site-packages\\sklearn\\model_selection\\_validation.py:771: UserWarning: Scoring failed. The score on this train-test partition for these parameters will be set to nan. Details: \n",
      "Traceback (most recent call last):\n",
      "  File \"C:\\Users\\tanmo\\.conda\\envs\\preference_py\\lib\\site-packages\\sklearn\\model_selection\\_validation.py\", line 762, in _score\n",
      "    scores = scorer(estimator, X_test, y_test)\n",
      "  File \"C:\\Users\\tanmo\\.conda\\envs\\preference_py\\lib\\site-packages\\sklearn\\metrics\\_scorer.py\", line 103, in __call__\n",
      "    score = scorer._score(cached_call, estimator, *args, **kwargs)\n",
      "  File \"C:\\Users\\tanmo\\.conda\\envs\\preference_py\\lib\\site-packages\\sklearn\\metrics\\_scorer.py\", line 381, in _score\n",
      "    return self._sign * self._score_func(y, y_pred, **self._kwargs)\n",
      "  File \"C:\\Users\\tanmo\\.conda\\envs\\preference_py\\lib\\site-packages\\sklearn\\metrics\\_ranking.py\", line 575, in roc_auc_score\n",
      "    return _average_binary_score(\n",
      "  File \"C:\\Users\\tanmo\\.conda\\envs\\preference_py\\lib\\site-packages\\sklearn\\metrics\\_base.py\", line 118, in _average_binary_score\n",
      "    score[c] = binary_metric(y_true_c, y_score_c, sample_weight=score_weight)\n",
      "  File \"C:\\Users\\tanmo\\.conda\\envs\\preference_py\\lib\\site-packages\\sklearn\\metrics\\_ranking.py\", line 337, in _binary_roc_auc_score\n",
      "    raise ValueError(\n",
      "ValueError: Only one class present in y_true. ROC AUC score is not defined in that case.\n",
      "\n",
      "  warnings.warn(\n",
      "C:\\Users\\tanmo\\.conda\\envs\\preference_py\\lib\\site-packages\\sklearn\\model_selection\\_validation.py:771: UserWarning: Scoring failed. The score on this train-test partition for these parameters will be set to nan. Details: \n",
      "Traceback (most recent call last):\n",
      "  File \"C:\\Users\\tanmo\\.conda\\envs\\preference_py\\lib\\site-packages\\sklearn\\model_selection\\_validation.py\", line 762, in _score\n",
      "    scores = scorer(estimator, X_test, y_test)\n",
      "  File \"C:\\Users\\tanmo\\.conda\\envs\\preference_py\\lib\\site-packages\\sklearn\\metrics\\_scorer.py\", line 103, in __call__\n",
      "    score = scorer._score(cached_call, estimator, *args, **kwargs)\n",
      "  File \"C:\\Users\\tanmo\\.conda\\envs\\preference_py\\lib\\site-packages\\sklearn\\metrics\\_scorer.py\", line 381, in _score\n",
      "    return self._sign * self._score_func(y, y_pred, **self._kwargs)\n",
      "  File \"C:\\Users\\tanmo\\.conda\\envs\\preference_py\\lib\\site-packages\\sklearn\\metrics\\_ranking.py\", line 575, in roc_auc_score\n",
      "    return _average_binary_score(\n",
      "  File \"C:\\Users\\tanmo\\.conda\\envs\\preference_py\\lib\\site-packages\\sklearn\\metrics\\_base.py\", line 118, in _average_binary_score\n",
      "    score[c] = binary_metric(y_true_c, y_score_c, sample_weight=score_weight)\n",
      "  File \"C:\\Users\\tanmo\\.conda\\envs\\preference_py\\lib\\site-packages\\sklearn\\metrics\\_ranking.py\", line 337, in _binary_roc_auc_score\n",
      "    raise ValueError(\n",
      "ValueError: Only one class present in y_true. ROC AUC score is not defined in that case.\n",
      "\n",
      "  warnings.warn(\n",
      "C:\\Users\\tanmo\\.conda\\envs\\preference_py\\lib\\site-packages\\sklearn\\model_selection\\_validation.py:771: UserWarning: Scoring failed. The score on this train-test partition for these parameters will be set to nan. Details: \n",
      "Traceback (most recent call last):\n",
      "  File \"C:\\Users\\tanmo\\.conda\\envs\\preference_py\\lib\\site-packages\\sklearn\\model_selection\\_validation.py\", line 762, in _score\n",
      "    scores = scorer(estimator, X_test, y_test)\n",
      "  File \"C:\\Users\\tanmo\\.conda\\envs\\preference_py\\lib\\site-packages\\sklearn\\metrics\\_scorer.py\", line 103, in __call__\n",
      "    score = scorer._score(cached_call, estimator, *args, **kwargs)\n",
      "  File \"C:\\Users\\tanmo\\.conda\\envs\\preference_py\\lib\\site-packages\\sklearn\\metrics\\_scorer.py\", line 381, in _score\n",
      "    return self._sign * self._score_func(y, y_pred, **self._kwargs)\n",
      "  File \"C:\\Users\\tanmo\\.conda\\envs\\preference_py\\lib\\site-packages\\sklearn\\metrics\\_ranking.py\", line 575, in roc_auc_score\n",
      "    return _average_binary_score(\n",
      "  File \"C:\\Users\\tanmo\\.conda\\envs\\preference_py\\lib\\site-packages\\sklearn\\metrics\\_base.py\", line 118, in _average_binary_score\n",
      "    score[c] = binary_metric(y_true_c, y_score_c, sample_weight=score_weight)\n",
      "  File \"C:\\Users\\tanmo\\.conda\\envs\\preference_py\\lib\\site-packages\\sklearn\\metrics\\_ranking.py\", line 337, in _binary_roc_auc_score\n",
      "    raise ValueError(\n",
      "ValueError: Only one class present in y_true. ROC AUC score is not defined in that case.\n",
      "\n",
      "  warnings.warn(\n",
      "C:\\Users\\tanmo\\.conda\\envs\\preference_py\\lib\\site-packages\\sklearn\\model_selection\\_validation.py:771: UserWarning: Scoring failed. The score on this train-test partition for these parameters will be set to nan. Details: \n",
      "Traceback (most recent call last):\n",
      "  File \"C:\\Users\\tanmo\\.conda\\envs\\preference_py\\lib\\site-packages\\sklearn\\model_selection\\_validation.py\", line 762, in _score\n",
      "    scores = scorer(estimator, X_test, y_test)\n",
      "  File \"C:\\Users\\tanmo\\.conda\\envs\\preference_py\\lib\\site-packages\\sklearn\\metrics\\_scorer.py\", line 103, in __call__\n",
      "    score = scorer._score(cached_call, estimator, *args, **kwargs)\n",
      "  File \"C:\\Users\\tanmo\\.conda\\envs\\preference_py\\lib\\site-packages\\sklearn\\metrics\\_scorer.py\", line 381, in _score\n",
      "    return self._sign * self._score_func(y, y_pred, **self._kwargs)\n",
      "  File \"C:\\Users\\tanmo\\.conda\\envs\\preference_py\\lib\\site-packages\\sklearn\\metrics\\_ranking.py\", line 575, in roc_auc_score\n",
      "    return _average_binary_score(\n",
      "  File \"C:\\Users\\tanmo\\.conda\\envs\\preference_py\\lib\\site-packages\\sklearn\\metrics\\_base.py\", line 118, in _average_binary_score\n",
      "    score[c] = binary_metric(y_true_c, y_score_c, sample_weight=score_weight)\n",
      "  File \"C:\\Users\\tanmo\\.conda\\envs\\preference_py\\lib\\site-packages\\sklearn\\metrics\\_ranking.py\", line 337, in _binary_roc_auc_score\n",
      "    raise ValueError(\n",
      "ValueError: Only one class present in y_true. ROC AUC score is not defined in that case.\n",
      "\n",
      "  warnings.warn(\n",
      "C:\\Users\\tanmo\\.conda\\envs\\preference_py\\lib\\site-packages\\sklearn\\model_selection\\_validation.py:771: UserWarning: Scoring failed. The score on this train-test partition for these parameters will be set to nan. Details: \n",
      "Traceback (most recent call last):\n",
      "  File \"C:\\Users\\tanmo\\.conda\\envs\\preference_py\\lib\\site-packages\\sklearn\\model_selection\\_validation.py\", line 762, in _score\n",
      "    scores = scorer(estimator, X_test, y_test)\n",
      "  File \"C:\\Users\\tanmo\\.conda\\envs\\preference_py\\lib\\site-packages\\sklearn\\metrics\\_scorer.py\", line 103, in __call__\n",
      "    score = scorer._score(cached_call, estimator, *args, **kwargs)\n",
      "  File \"C:\\Users\\tanmo\\.conda\\envs\\preference_py\\lib\\site-packages\\sklearn\\metrics\\_scorer.py\", line 381, in _score\n",
      "    return self._sign * self._score_func(y, y_pred, **self._kwargs)\n",
      "  File \"C:\\Users\\tanmo\\.conda\\envs\\preference_py\\lib\\site-packages\\sklearn\\metrics\\_ranking.py\", line 575, in roc_auc_score\n",
      "    return _average_binary_score(\n",
      "  File \"C:\\Users\\tanmo\\.conda\\envs\\preference_py\\lib\\site-packages\\sklearn\\metrics\\_base.py\", line 118, in _average_binary_score\n",
      "    score[c] = binary_metric(y_true_c, y_score_c, sample_weight=score_weight)\n",
      "  File \"C:\\Users\\tanmo\\.conda\\envs\\preference_py\\lib\\site-packages\\sklearn\\metrics\\_ranking.py\", line 337, in _binary_roc_auc_score\n",
      "    raise ValueError(\n",
      "ValueError: Only one class present in y_true. ROC AUC score is not defined in that case.\n",
      "\n",
      "  warnings.warn(\n",
      "C:\\Users\\tanmo\\.conda\\envs\\preference_py\\lib\\site-packages\\sklearn\\model_selection\\_validation.py:771: UserWarning: Scoring failed. The score on this train-test partition for these parameters will be set to nan. Details: \n",
      "Traceback (most recent call last):\n",
      "  File \"C:\\Users\\tanmo\\.conda\\envs\\preference_py\\lib\\site-packages\\sklearn\\model_selection\\_validation.py\", line 762, in _score\n",
      "    scores = scorer(estimator, X_test, y_test)\n",
      "  File \"C:\\Users\\tanmo\\.conda\\envs\\preference_py\\lib\\site-packages\\sklearn\\metrics\\_scorer.py\", line 103, in __call__\n",
      "    score = scorer._score(cached_call, estimator, *args, **kwargs)\n",
      "  File \"C:\\Users\\tanmo\\.conda\\envs\\preference_py\\lib\\site-packages\\sklearn\\metrics\\_scorer.py\", line 381, in _score\n",
      "    return self._sign * self._score_func(y, y_pred, **self._kwargs)\n",
      "  File \"C:\\Users\\tanmo\\.conda\\envs\\preference_py\\lib\\site-packages\\sklearn\\metrics\\_ranking.py\", line 575, in roc_auc_score\n",
      "    return _average_binary_score(\n",
      "  File \"C:\\Users\\tanmo\\.conda\\envs\\preference_py\\lib\\site-packages\\sklearn\\metrics\\_base.py\", line 118, in _average_binary_score\n",
      "    score[c] = binary_metric(y_true_c, y_score_c, sample_weight=score_weight)\n",
      "  File \"C:\\Users\\tanmo\\.conda\\envs\\preference_py\\lib\\site-packages\\sklearn\\metrics\\_ranking.py\", line 337, in _binary_roc_auc_score\n",
      "    raise ValueError(\n",
      "ValueError: Only one class present in y_true. ROC AUC score is not defined in that case.\n",
      "\n",
      "  warnings.warn(\n"
     ]
    }
   ],
   "source": [
    "# Compare Algorithms\n",
    "import pandas\n",
    "import matplotlib.pyplot as plt\n",
    "from sklearn import model_selection\n",
    "from sklearn.naive_bayes import GaussianNB\n",
    "from sklearn import metrics\n",
    "\n",
    "# prepare configuration for cross validation test harness\n",
    "seed = 7\n",
    "# prepare models\n",
    "models = []\n",
    "#models.append(('LR', LogisticRegression()))\n",
    "models.append(('NB', OneVsRestClassifier(GaussianNB())))\n",
    "# evaluate each model in turn\n",
    "results = []\n",
    "names = []\n",
    "kfold = model_selection.KFold(n_splits=10)\n",
    "\n",
    "for name, model in models:\n",
    "\tkfold = model_selection.KFold(n_splits=10)\n",
    "\tcv_results_m = model_selection.cross_val_score(model, X_reduced_mcr, y_m_b, cv=kfold, scoring='f1_samples') # , =scoring\n",
    "\t#cv_results2 = model_selection.cross_val_score(model, X_reduced_cdu, y_c_b, cv=kfold, scoring='roc_auc') # , =scoring\n",
    "\tresults.append(cv_results_m)\n",
    "\tnames.append(name)\n",
    "    \n",
    "\n",
    "cv_results_m = model_selection.cross_val_score(model, X, y_m_b, cv=kfold, scoring='roc_auc') # , =scoring\n",
    "results.append(cv_results_m)\n",
    "names.append('MCR_F')\n",
    "\n",
    "cv_results_c = model_selection.cross_val_score(model, X, y_c_b, cv=kfold, scoring='roc_auc') # , =scoring\n",
    "results.append(cv_results_c)\n",
    "names.append('CDU_F')\n",
    "\n",
    "cv_results_i = model_selection.cross_val_score(model, X, y_i_b, cv=kfold, scoring='roc_auc') # , =scoring\n",
    "results.append(cv_results_i)\n",
    "names.append('ISB_F')\n",
    "\n",
    "\n",
    "cv_results_m2 = model_selection.cross_val_score(model, X_reduced_mcr, y_m_b, cv=kfold, scoring='roc_auc') # , =scoring\n",
    "results.append(cv_results_m2)\n",
    "names.append('MCR_r')\n",
    "\n",
    "cv_results_c2 = model_selection.cross_val_score(model, X_reduced_cdu, y_c_b, cv=kfold, scoring='roc_auc') # , =scoring\n",
    "results.append(cv_results_c2)\n",
    "names.append('CDU_r')\n",
    "\n",
    "cv_results_i2 = model_selection.cross_val_score(model, X_reduced_isb, y_i_b, cv=kfold, scoring='roc_auc') # , =scoring\n",
    "results.append(cv_results_i2)\n",
    "names.append('ISB_r')\n",
    "\n"
   ]
  },
  {
   "cell_type": "code",
   "execution_count": 13,
   "id": "d05af8a5-2393-4939-9202-819a4ab13994",
   "metadata": {},
   "outputs": [
    {
     "data": {
      "text/plain": [
       "0    0.506613\n",
       "1    0.815521\n",
       "2    0.932605\n",
       "3    0.964228\n",
       "4    0.822531\n",
       "5    0.934289\n",
       "6    0.961211\n",
       "dtype: float64"
      ]
     },
     "execution_count": 13,
     "metadata": {},
     "output_type": "execute_result"
    },
    {
     "data": {
      "image/png": "[encoded data removed]",
      "text/plain": [
       "<Figure size 576x720 with 1 Axes>"
      ]
     },
     "metadata": {
      "needs_background": "light"
     },
     "output_type": "display_data"
    }
   ],
   "source": [
    "#sns.boxplot(x=results, y=names, palette=\"Set3\")\n",
    "boxplot_df = pd.DataFrame(results).T\n",
    "\n",
    "fig4, ax = plt.subplots(figsize=(8,10))\n",
    "\n",
    "sns.boxplot(data=boxplot_df, boxprops=dict(alpha=.3))\n",
    "fig4.savefig('Outputs/boxplot_.png', dpi = 600)\n",
    "\n",
    "boxplot_df.mean(axis=0)"
   ]
  },
  {
   "cell_type": "markdown",
   "id": "8bd8ac62-f556-40ed-a959-3ba3295fdd66",
   "metadata": {},
   "source": [
    "### ROC Curve of reduced model"
   ]
  },
  {
   "cell_type": "code",
   "execution_count": 14,
   "id": "9692f684-04ee-4583-b0f7-3e69708aaea0",
   "metadata": {},
   "outputs": [
    {
     "data": {
      "text/plain": [
       "array([[0, 0, 1, 0],\n",
       "       [0, 0, 0, 1],\n",
       "       [0, 0, 0, 1],\n",
       "       ...,\n",
       "       [0, 1, 0, 0],\n",
       "       [0, 0, 1, 0],\n",
       "       [1, 0, 0, 0]])"
      ]
     },
     "execution_count": 14,
     "metadata": {},
     "output_type": "execute_result"
    }
   ],
   "source": [
    "y_train_mcr"
   ]
  },
  {
   "cell_type": "markdown",
   "id": "853edf5f-c20d-4a7e-a41d-7552bba867a2",
   "metadata": {},
   "source": [
    "#### MCR ROC curve"
   ]
  },
  {
   "cell_type": "code",
   "execution_count": 15,
   "id": "c1da395e-0711-4178-92ad-b2409ba9adb7",
   "metadata": {},
   "outputs": [],
   "source": [
    "classifier_mcr = OneVsRestClassifier(GaussianNB()).fit(X_train_mcr, y_train_mcr)\n",
    "y_score_mcr = classifier_mcr.predict_proba(X_test_mcr)\n",
    "y_pred_mcr = classifier_mcr.predict(X_test_mcr)"
   ]
  },
  {
   "cell_type": "code",
   "execution_count": 16,
   "id": "dfe8c5f3-3851-468d-9891-b0d5ebec73de",
   "metadata": {},
   "outputs": [
    {
     "data": {
      "image/png": "[encoded data removed]",
      "text/plain": [
       "<Figure size 432x288 with 1 Axes>"
      ]
     },
     "metadata": {
      "needs_background": "light"
     },
     "output_type": "display_data"
    }
   ],
   "source": [
    "# Compute ROC curve and ROC area for each class\n",
    "fpr = dict()\n",
    "tpr = dict()\n",
    "roc_auc = dict()\n",
    "n_classes = y_test_mcr.shape[1]\n",
    "for i in range(n_classes):\n",
    "    fpr[i], tpr[i], _ = metrics.roc_curve(y_test_mcr[:, i], y_score_mcr[:, i])\n",
    "    roc_auc[i] = metrics.auc(fpr[i], tpr[i])\n",
    "\n",
    "# Compute micro-average ROC curve and ROC area\n",
    "fpr[\"micro\"], tpr[\"micro\"], _ = metrics.roc_curve(y_test_mcr.ravel(), y_score_mcr.ravel())\n",
    "roc_auc[\"micro\"] = metrics.auc(fpr[\"micro\"], tpr[\"micro\"])\n",
    "\n",
    "# First aggregate all false positive rates\n",
    "all_fpr = np.unique(np.concatenate([fpr[i] for i in range(n_classes)]))\n",
    "\n",
    "# Then interpolate all ROC curves at this points\n",
    "mean_tpr = np.zeros_like(all_fpr)\n",
    "for i in range(n_classes):\n",
    "    mean_tpr += np.interp(all_fpr, fpr[i], tpr[i])\n",
    "\n",
    "# Finally average it and compute AUC\n",
    "mean_tpr /= n_classes\n",
    "\n",
    "fpr[\"macro\"] = all_fpr\n",
    "tpr[\"macro\"] = mean_tpr\n",
    "roc_auc[\"macro\"] = metrics.auc(fpr[\"macro\"], tpr[\"macro\"])\n",
    "\n",
    "# Plot all ROC curves\n",
    "fig1_mcrReduced = plt.figure()\n",
    "\n",
    "colors = cycle(['limegreen', 'lightgreen', 'gray', 'lightgray'])\n",
    "for i, color in zip(range(n_classes), colors):\n",
    "    plt.plot(\n",
    "        fpr[i],\n",
    "        tpr[i],\n",
    "        color=color,\n",
    "        lw=1,\n",
    "        label=\"ROC curve of class {0} (area = {1:0.2f})\".format(i, roc_auc[i]),\n",
    "    )\n",
    "\n",
    "plt.plot([0, 1], [0, 1], \"--\", color='lightgray')\n",
    "plt.xlim([0.0, 1.0])\n",
    "plt.ylim([0.0, 1.05])\n",
    "plt.xlabel(\"False Positive Rate\")\n",
    "plt.ylabel(\"True Positive Rate\")\n",
    "plt.title(\"MCR\")\n",
    "plt.legend(loc=\"lower right\")\n",
    "plt.show()\n"
   ]
  },
  {
   "cell_type": "code",
   "execution_count": 17,
   "id": "5f235121-0ea0-46b3-b050-2db99d6ea170",
   "metadata": {},
   "outputs": [
    {
     "data": {
      "image/png": "[encoded data removed]",
      "text/plain": [
       "<Figure size 432x288 with 1 Axes>"
      ]
     },
     "metadata": {
      "needs_background": "light"
     },
     "output_type": "display_data"
    }
   ],
   "source": [
    "# \n",
    "fig2_reduced = plt.figure()\n",
    "fpr = dict()\n",
    "tpr = dict()\n",
    "roc_auc = dict()\n",
    "for i in range(n_classes):\n",
    "    fpr[i], tpr[i], _ = metrics.roc_curve(y_test_mcr[:, i], y_score_mcr[:, i])\n",
    "    roc_auc[i] = metrics.auc(fpr[i], tpr[i])\n",
    "color_c = ['green', 'limegreen', 'blue', 'lightgray']\n",
    "class_c = ['OK', 'Consider', 'Go next season','Unknown']\n",
    "lw = [3,3,1,3]\n",
    "#linestyle = ['solid', 'dashed', '-.', '-.']\n",
    "# opacity/ transparency in lineplot ++\n",
    "\n",
    "for i, color in zip(range(n_classes), color_c):\n",
    "    plt.plot(fpr[i], tpr[i], color=color, lw=lw[i], \n",
    "             label=class_c[i]) \n",
    "plt.plot([0, 1], [0, 1], '--', color= 'lightgray',lw=1)\n",
    "plt.xlim([-0.05, 1.0])\n",
    "plt.ylim([0.0, 1.05])\n",
    "\n",
    "plt.ylabel('True Positive Rate')\n",
    "\n",
    "plt.xlabel('False Positive Rate')\n",
    "plt.legend(loc=\"lower right\")\n",
    "\n",
    "plt.show()\n",
    "fig2_reduced.savefig('Outputs/ROC curve MCR 1 reduced.png', dpi = 600)"
   ]
  },
  {
   "cell_type": "markdown",
   "id": "ecdb82e6-1b2e-4578-afa2-b4c20b1346f0",
   "metadata": {},
   "source": [
    "#### CDU ROC curve"
   ]
  },
  {
   "cell_type": "code",
   "execution_count": 18,
   "id": "b331a5f9-3061-4db5-b726-5ca40c034e6c",
   "metadata": {},
   "outputs": [
    {
     "name": "stderr",
     "output_type": "stream",
     "text": [
      "C:\\Users\\tanmo\\.conda\\envs\\preference_py\\lib\\site-packages\\sklearn\\metrics\\_ranking.py:999: UndefinedMetricWarning: No positive samples in y_true, true positive value should be meaningless\n",
      "  warnings.warn(\n"
     ]
    },
    {
     "data": {
      "image/png": "[encoded data removed]",
      "text/plain": [
       "<Figure size 432x288 with 1 Axes>"
      ]
     },
     "metadata": {
      "needs_background": "light"
     },
     "output_type": "display_data"
    },
    {
     "name": "stderr",
     "output_type": "stream",
     "text": [
      "C:\\Users\\tanmo\\.conda\\envs\\preference_py\\lib\\site-packages\\sklearn\\metrics\\_ranking.py:999: UndefinedMetricWarning: No positive samples in y_true, true positive value should be meaningless\n",
      "  warnings.warn(\n"
     ]
    },
    {
     "data": {
      "text/plain": [
       "{0: 0.8988032515429776, 1: nan, 2: 0.9773869346733669, 3: 0.8878225095503969}"
      ]
     },
     "execution_count": 18,
     "metadata": {},
     "output_type": "execute_result"
    }
   ],
   "source": [
    "# CDU\n",
    "classifier = OneVsRestClassifier(GaussianNB()).fit(X_train_cdu, y_train_cdu)\n",
    "y_score_cdu = classifier.predict_proba(X_test_cdu)\n",
    "y_pred_cdu = classifier.predict(X_test_cdu)\n",
    "n_classes = y_test_cdu.shape[1]\n",
    "\n",
    "fig2_reduced = plt.figure()\n",
    "fpr = dict()\n",
    "tpr = dict()\n",
    "roc_auc = dict()\n",
    "for i in range(n_classes):\n",
    "    fpr[i], tpr[i], _ = metrics.roc_curve(y_test_cdu[:, i], y_score_cdu[:, i])\n",
    "    roc_auc[i] = metrics.auc(fpr[i], tpr[i])\n",
    "color_c = ['green', 'blue', 'red', 'darkgray']\n",
    "class_c = ['OK', 'Consider', 'Not recommended','Unknown']\n",
    "linestyle = ['solid', 'dashed', 'solid', 'solid']\n",
    "lw = [3,3,1,3]\n",
    "# opacity/ transparency in lineplot ++\n",
    "\n",
    "for i, color in zip(range(n_classes), color_c):\n",
    "    plt.plot(fpr[i], tpr[i], color=color, lw=lw[i], linestyle=linestyle[i],\n",
    "             label=class_c[i]) \n",
    "plt.plot([0, 1], [0, 1], '--', color= 'lightgray',lw=1)\n",
    "plt.xlim([-0.05, 1.0])\n",
    "plt.ylim([0.0, 1.05])\n",
    "plt.xlabel('False Positive Rate')\n",
    "plt.ylabel('True Positive Rate')\n",
    "plt.legend(loc=\"lower right\")\n",
    "\n",
    "plt.show()\n",
    "fig2_reduced.savefig('Outputs/ROC curve cdu 1 reduced.png', dpi = 600)\n",
    "\n",
    "for i in range(n_classes):\n",
    "    fpr[i], tpr[i], _ = metrics.roc_curve(y_test_cdu[:, i], y_score_cdu[:, i])\n",
    "    roc_auc[i] = metrics.auc(fpr[i], tpr[i])\n",
    "roc_auc"
   ]
  },
  {
   "cell_type": "markdown",
   "id": "e2fbecd9-173a-425c-9060-df094bea9125",
   "metadata": {},
   "source": [
    "#### ISB ROC Curve"
   ]
  },
  {
   "cell_type": "code",
   "execution_count": 19,
   "id": "94316689-362a-493d-8a50-77d636bc37dc",
   "metadata": {},
   "outputs": [
    {
     "data": {
      "image/png": "[encoded data removed]",
      "text/plain": [
       "<Figure size 432x288 with 1 Axes>"
      ]
     },
     "metadata": {
      "needs_background": "light"
     },
     "output_type": "display_data"
    },
    {
     "data": {
      "text/plain": [
       "{0: 0.9491600885637275, 1: 0.9754771241830065, 2: 0.9534447034447034}"
      ]
     },
     "execution_count": 19,
     "metadata": {},
     "output_type": "execute_result"
    }
   ],
   "source": [
    "# ISB\n",
    "classifier = OneVsRestClassifier(GaussianNB()).fit(X_train_isb, y_train_isb)\n",
    "y_score_isb = classifier.predict_proba(X_test_isb)\n",
    "y_pred_isb = classifier.predict(X_test_isb)\n",
    "n_classes = y_test_isb.shape[1]\n",
    "\n",
    "fig4 = plt.figure()\n",
    "fpr = dict()\n",
    "tpr = dict()\n",
    "roc_auc = dict()\n",
    "for i in range(y_test_isb.shape[1]):\n",
    "    fpr[i], tpr[i], _ = metrics.roc_curve(y_test_isb[:, i], y_score_isb[:, i])\n",
    "    roc_auc[i] = metrics.auc(fpr[i], tpr[i])\n",
    "color_i = ['green', 'limegreen',  'darkgray']\n",
    "class_i = ['OK', 'Consider', 'Unknown']\n",
    "linestyle = ['solid', 'solid', 'solid']\n",
    "\n",
    "for i, color in zip(range(y_test_isb.shape[1]), color_i):\n",
    "    plt.plot(fpr[i], tpr[i], color=color, lw=lw[i], \n",
    "             label=class_i[i], linestyle=linestyle[i]) \n",
    "plt.plot([0, 1], [0, 1], '--', lw=1, color='lightgray')\n",
    "plt.xlim([-0.05, 1.0])\n",
    "plt.ylim([0.0, 1.05])\n",
    "plt.xlabel('False Positive Rate')\n",
    "plt.ylabel('True Positive Rate')\n",
    "plt.legend(loc=\"lower right\")\n",
    "\n",
    "plt.show()\n",
    "fig4.savefig('Outputs/ROC curve isb, reduced, name.png', dpi = 600)\n",
    "\n",
    "# print roc values\n",
    "for i in range(n_classes):\n",
    "    fpr[i], tpr[i], _ = metrics.roc_curve(y_test_isb[:, i], y_score_isb[:, i])\n",
    "    roc_auc[i] = metrics.auc(fpr[i], tpr[i])\n",
    "roc_auc"
   ]
  },
  {
   "cell_type": "code",
   "execution_count": 20,
   "id": "5267c0dc-a4b3-41a4-bb49-ce21b05540f4",
   "metadata": {},
   "outputs": [
    {
     "data": {
      "text/plain": [
       "'1. ROC curve in this Notebook is for OnevsRest classifier (not Multioutput classifier)\\n\\n'"
      ]
     },
     "execution_count": 20,
     "metadata": {},
     "output_type": "execute_result"
    }
   ],
   "source": [
    "\"\"\"1. ROC curve in this Notebook is for OnevsRest classifier (not Multioutput classifier)\n",
    "\n",
    "\"\"\""
   ]
  },
  {
   "cell_type": "code",
   "execution_count": null,
   "id": "37aafa8b-2d38-4742-8a41-41381953469d",
   "metadata": {},
   "outputs": [],
   "source": []
  }
 ],
 "metadata": {
  "kernelspec": {
   "display_name": "Python 3 (ipykernel)",
   "language": "python",
   "name": "python3"
  },
  "language_info": {
   "codemirror_mode": {
    "name": "ipython",
    "version": 3
   },
   "file_extension": ".py",
   "mimetype": "text/x-python",
   "name": "python",
   "nbconvert_exporter": "python",
   "pygments_lexer": "ipython3",
   "version": "3.8.12"
  }
 },
 "nbformat": 4,
 "nbformat_minor": 5
}

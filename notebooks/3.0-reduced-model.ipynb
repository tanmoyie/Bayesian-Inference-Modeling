{
 "cells": [
  {
   "cell_type": "markdown",
   "id": "01dcca24-256c-424b-9ea6-791cd798e00e",
   "metadata": {},
   "source": [
    "# Reduced model"
   ]
  },
  {
   "cell_type": "markdown",
   "id": "83f1b44f-1f96-4233-947b-b6c243190670",
   "metadata": {},
   "source": [
    "## Data Import"
   ]
  },
  {
   "cell_type": "code",
   "execution_count": 1,
   "id": "816e8e13-fe12-424b-abed-f1f737e19f06",
   "metadata": {
    "ExecuteTime": {
     "end_time": "2024-04-03T22:49:15.318286Z",
     "start_time": "2024-04-03T22:49:15.226267Z"
    }
   },
   "outputs": [],
   "source": [
    "# Import libraries\n",
    "import pandas as pd\n",
    "import numpy as np\n",
    "# preprocessing\n",
    "from sklearn.preprocessing import label_binarize, MinMaxScaler, OneHotEncoder\n",
    "from sklearn.compose import ColumnTransformer\n",
    "from sklearn.model_selection import train_test_split\n",
    "from sklearn.pipeline import Pipeline, FeatureUnion\n",
    "\n",
    "# Modeling\n",
    "from sklearn.naive_bayes import GaussianNB\n",
    "from sklearn.multiclass import OneVsRestClassifier\n",
    "from sklearn.multioutput import MultiOutputClassifier\n",
    "# Data visualization\n",
    "%matplotlib inline\n",
    "from itertools import cycle\n",
    "import seaborn as sns\n",
    "\n",
    "# Performance metrics\n",
    "from sklearn import metrics\n",
    "import joblib"
   ]
  },
  {
   "cell_type": "code",
   "execution_count": 2,
   "id": "dba6dcaf-7fcc-4b61-a214-01fe22d9b74c",
   "metadata": {
    "ExecuteTime": {
     "end_time": "2024-04-03T22:49:15.684712Z",
     "start_time": "2024-04-03T22:49:15.310655Z"
    }
   },
   "outputs": [
    {
     "name": "stdout",
     "output_type": "stream",
     "text": [
      "Index(['oil_spill_size', 'evaporation_and_natural_disperson', 'persistence',\n",
      "       'oil_amount_to_recover', 'E_ss', 'E_sl', 'E_sw', 'E_sb',\n",
      "       'sufficient_mixing_energy', 'seasurface', 'seawater', 'Rtime_ss',\n",
      "       'Rtime_sw', 'E_ssC', 'E_slC', 'E_swC', 'E_sbC', 'soot_pollution',\n",
      "       'residue_recovery', 'displacement', 'E_ssI', 'E_slI', 'E_swI', 'E_sbI',\n",
      "       'shoreline_length', 'distance_to_inhabitation', 'mcr_DT_output',\n",
      "       'cdu_DT_output', 'isb_DT_output'],\n",
      "      dtype='object')\n"
     ]
    }
   ],
   "source": [
    "data = pd.read_excel('../data/processed/cleaned_data.xlsx', index_col='Scene no.').copy()\n",
    "print(data.columns)\n",
    "features_10 = ['evaporation_and_natural_disperson','E_ss', 'E_sl', 'E_sw', 'sufficient_mixing_energy','E_ssC', 'seawater', 'E_ssI','soot_pollution', 'displacement']\n",
    "\n",
    "X_reduced = data[features_10]\n",
    "y = data[['mcr_DT_output', 'cdu_DT_output', 'isb_DT_output']]\n",
    "\n",
    "# Train test Split\n",
    "X_train, X_test, y_train, y_test = train_test_split(X_reduced, y, test_size=0.20, random_state=12)"
   ]
  },
  {
   "cell_type": "code",
   "execution_count": 3,
   "id": "6d439eb6-0c3c-48d8-bbf8-b7709354d56b",
   "metadata": {
    "ExecuteTime": {
     "end_time": "2024-04-03T22:49:15.685253Z",
     "start_time": "2024-04-03T22:49:15.682534Z"
    }
   },
   "outputs": [],
   "source": [
    "# Drop y with Consider class which has only 5 records\n",
    "#y = y[y['CDU options'] != 8]\n",
    "#X = X.drop(['Scene 26', 'Scene 1247', 'Scene 1380', 'Scene 1655', 'Scene 2109']) # y[y['CDU options'] == 8].index.values"
   ]
  },
  {
   "cell_type": "code",
   "execution_count": 13,
   "id": "cddcfc64-fd12-4ce3-a308-5a6e4c71429c",
   "metadata": {
    "ExecuteTime": {
     "end_time": "2024-04-03T23:25:03.851759Z",
     "start_time": "2024-04-03T23:25:03.846262Z"
    }
   },
   "outputs": [
    {
     "data": {
      "text/plain": "            evaporation_and_natural_disperson  E_ss  E_sl  E_sw  \\\nScene no.                                                         \nScene 1                                    16     0     0     1   \nScene 2                                    34    -1     1    -1   \nScene 3                                    74     0     1     0   \nScene 4                                    41     0     0    -1   \nScene 5                                    55    -1     0     0   \n...                                       ...   ...   ...   ...   \nScene 2696                                 20    -1     1    -1   \nScene 2697                                 74     0     0     0   \nScene 2698                                 52     0    -1    -1   \nScene 2699                                 50     1     1     0   \nScene 2700                                 23     1     0     0   \n\n           sufficient_mixing_energy  E_ssC seawater  E_ssI  \\\nScene no.                                                    \nScene 1                          no      0    Small      0   \nScene 2                         yes     -1    Large      0   \nScene 3                         yes      1    Large      1   \nScene 4                          no      0    Large      0   \nScene 5                         yes      0    Large      1   \n...                             ...    ...      ...    ...   \nScene 2696                       no      1    Large      1   \nScene 2697                       no     -1    Large     -1   \nScene 2698                      yes      0    Large      0   \nScene 2699                      yes      0    Large      0   \nScene 2700                      yes     -1    Large      0   \n\n                soot_pollution displacement  \nScene no.                                    \nScene 1     YES soot pollution          yes  \nScene 2     YES soot pollution           no  \nScene 3      NO soot pollution           no  \nScene 4     YES soot pollution          yes  \nScene 5      NO soot pollution           no  \n...                        ...          ...  \nScene 2696  YES soot pollution          yes  \nScene 2697   NO soot pollution          yes  \nScene 2698  YES soot pollution          yes  \nScene 2699  YES soot pollution          yes  \nScene 2700  YES soot pollution           no  \n\n[2700 rows x 10 columns]",
      "text/html": "<div>\n<style scoped>\n    .dataframe tbody tr th:only-of-type {\n        vertical-align: middle;\n    }\n\n    .dataframe tbody tr th {\n        vertical-align: top;\n    }\n\n    .dataframe thead th {\n        text-align: right;\n    }\n</style>\n<table border=\"1\" class=\"dataframe\">\n  <thead>\n    <tr style=\"text-align: right;\">\n      <th></th>\n      <th>evaporation_and_natural_disperson</th>\n      <th>E_ss</th>\n      <th>E_sl</th>\n      <th>E_sw</th>\n      <th>sufficient_mixing_energy</th>\n      <th>E_ssC</th>\n      <th>seawater</th>\n      <th>E_ssI</th>\n      <th>soot_pollution</th>\n      <th>displacement</th>\n    </tr>\n    <tr>\n      <th>Scene no.</th>\n      <th></th>\n      <th></th>\n      <th></th>\n      <th></th>\n      <th></th>\n      <th></th>\n      <th></th>\n      <th></th>\n      <th></th>\n      <th></th>\n    </tr>\n  </thead>\n  <tbody>\n    <tr>\n      <th>Scene 1</th>\n      <td>16</td>\n      <td>0</td>\n      <td>0</td>\n      <td>1</td>\n      <td>no</td>\n      <td>0</td>\n      <td>Small</td>\n      <td>0</td>\n      <td>YES soot pollution</td>\n      <td>yes</td>\n    </tr>\n    <tr>\n      <th>Scene 2</th>\n      <td>34</td>\n      <td>-1</td>\n      <td>1</td>\n      <td>-1</td>\n      <td>yes</td>\n      <td>-1</td>\n      <td>Large</td>\n      <td>0</td>\n      <td>YES soot pollution</td>\n      <td>no</td>\n    </tr>\n    <tr>\n      <th>Scene 3</th>\n      <td>74</td>\n      <td>0</td>\n      <td>1</td>\n      <td>0</td>\n      <td>yes</td>\n      <td>1</td>\n      <td>Large</td>\n      <td>1</td>\n      <td>NO soot pollution</td>\n      <td>no</td>\n    </tr>\n    <tr>\n      <th>Scene 4</th>\n      <td>41</td>\n      <td>0</td>\n      <td>0</td>\n      <td>-1</td>\n      <td>no</td>\n      <td>0</td>\n      <td>Large</td>\n      <td>0</td>\n      <td>YES soot pollution</td>\n      <td>yes</td>\n    </tr>\n    <tr>\n      <th>Scene 5</th>\n      <td>55</td>\n      <td>-1</td>\n      <td>0</td>\n      <td>0</td>\n      <td>yes</td>\n      <td>0</td>\n      <td>Large</td>\n      <td>1</td>\n      <td>NO soot pollution</td>\n      <td>no</td>\n    </tr>\n    <tr>\n      <th>...</th>\n      <td>...</td>\n      <td>...</td>\n      <td>...</td>\n      <td>...</td>\n      <td>...</td>\n      <td>...</td>\n      <td>...</td>\n      <td>...</td>\n      <td>...</td>\n      <td>...</td>\n    </tr>\n    <tr>\n      <th>Scene 2696</th>\n      <td>20</td>\n      <td>-1</td>\n      <td>1</td>\n      <td>-1</td>\n      <td>no</td>\n      <td>1</td>\n      <td>Large</td>\n      <td>1</td>\n      <td>YES soot pollution</td>\n      <td>yes</td>\n    </tr>\n    <tr>\n      <th>Scene 2697</th>\n      <td>74</td>\n      <td>0</td>\n      <td>0</td>\n      <td>0</td>\n      <td>no</td>\n      <td>-1</td>\n      <td>Large</td>\n      <td>-1</td>\n      <td>NO soot pollution</td>\n      <td>yes</td>\n    </tr>\n    <tr>\n      <th>Scene 2698</th>\n      <td>52</td>\n      <td>0</td>\n      <td>-1</td>\n      <td>-1</td>\n      <td>yes</td>\n      <td>0</td>\n      <td>Large</td>\n      <td>0</td>\n      <td>YES soot pollution</td>\n      <td>yes</td>\n    </tr>\n    <tr>\n      <th>Scene 2699</th>\n      <td>50</td>\n      <td>1</td>\n      <td>1</td>\n      <td>0</td>\n      <td>yes</td>\n      <td>0</td>\n      <td>Large</td>\n      <td>0</td>\n      <td>YES soot pollution</td>\n      <td>yes</td>\n    </tr>\n    <tr>\n      <th>Scene 2700</th>\n      <td>23</td>\n      <td>1</td>\n      <td>0</td>\n      <td>0</td>\n      <td>yes</td>\n      <td>-1</td>\n      <td>Large</td>\n      <td>0</td>\n      <td>YES soot pollution</td>\n      <td>no</td>\n    </tr>\n  </tbody>\n</table>\n<p>2700 rows × 10 columns</p>\n</div>"
     },
     "metadata": {},
     "output_type": "display_data"
    },
    {
     "name": "stdout",
     "output_type": "stream",
     "text": [
      "Index(['evaporation_and_natural_disperson', 'E_ss', 'E_sl', 'E_sw',\n",
      "       'sufficient_mixing_energy', 'E_ssC', 'seawater', 'E_ssI',\n",
      "       'soot_pollution', 'displacement'],\n",
      "      dtype='object')\n"
     ]
    }
   ],
   "source": [
    "display(X_reduced)\n",
    "print(X_test.columns)"
   ]
  },
  {
   "cell_type": "markdown",
   "id": "b1a3c2bc-35b4-47aa-a594-4538a00adff1",
   "metadata": {},
   "source": [
    "## Modeling\n",
    "### Training"
   ]
  },
  {
   "cell_type": "code",
   "execution_count": 5,
   "id": "04847380-b5a3-48a3-b13f-372a7de9ab37",
   "metadata": {
    "ExecuteTime": {
     "end_time": "2024-04-03T22:49:15.718952Z",
     "start_time": "2024-04-03T22:49:15.695991Z"
    }
   },
   "outputs": [
    {
     "name": "stderr",
     "output_type": "stream",
     "text": [
      "/Users/tanmoydas/Applications/anaconda3/envs/PhD_venv/lib/python3.11/site-packages/sklearn/preprocessing/_encoders.py:868: FutureWarning: `sparse` was renamed to `sparse_output` in version 1.2 and will be removed in 1.4. `sparse_output` is ignored unless you leave `sparse` to its default value.\n",
      "  warnings.warn(\n"
     ]
    }
   ],
   "source": [
    "# modeling\n",
    "numerical_features = tuple(X_reduced._get_numeric_data().columns)\n",
    "categorical_features = list(set(X_reduced.columns) - set(numerical_features) - set(['displacement.1', 'oil_spill_size', 'Rtime_ss', 'Rtime_sw']))\n",
    "\n",
    "numerical_transformer = Pipeline(steps=[(\"MinMaxScaler\", MinMaxScaler(feature_range=(1,2)))]) # numerical_features\n",
    "categorical_transformer = Pipeline(steps=[(\"ohe\", OneHotEncoder(handle_unknown=\"ignore\",sparse=False))])\n",
    "# ++ need to add spill size convert 4,699,9999\n",
    "\n",
    "# TRANSFORM NUMERICAL & CATEGORICAL FEATURES SEPARATELY USING ColumnTransformer\n",
    "feature_pipeline = ColumnTransformer(transformers=[\n",
    "            ('num', numerical_transformer, numerical_features),\n",
    "            ('cat', categorical_transformer, categorical_features)],\n",
    "         remainder='drop')\n",
    "\n",
    "\n",
    "steps=[(\"feature_pipeline\", feature_pipeline),\n",
    "      (\"model\",MultiOutputClassifier(GaussianNB()))]\n",
    "\n",
    "pipe=Pipeline(steps)\n",
    "#model_BIMReTA = MultiOutputClassifier(model_GB_ins).fit(X_train, y_train)\n",
    "model_BIMReTA = pipe.fit(X_train,y_train)"
   ]
  },
  {
   "cell_type": "markdown",
   "source": [
    "### Save the reduced model"
   ],
   "metadata": {
    "collapsed": false
   },
   "id": "8f4bd83edfa8db1d"
  },
  {
   "cell_type": "code",
   "outputs": [
    {
     "data": {
      "text/plain": "['../models/model_BIMReTA.pkl']"
     },
     "execution_count": 6,
     "metadata": {},
     "output_type": "execute_result"
    }
   ],
   "source": [
    "joblib.dump(model_BIMReTA, '../models/model_BIMReTA.pkl')"
   ],
   "metadata": {
    "collapsed": false,
    "ExecuteTime": {
     "end_time": "2024-04-03T22:49:15.731619Z",
     "start_time": "2024-04-03T22:49:15.709328Z"
    }
   },
   "id": "c392e3894e6da28b",
   "execution_count": 6
  },
  {
   "cell_type": "markdown",
   "source": [
    "### Classification/ Ranking"
   ],
   "metadata": {
    "collapsed": false
   },
   "id": "f3965b06c0f23b7e"
  },
  {
   "cell_type": "code",
   "execution_count": 7,
   "id": "4eaaa1e8-c34d-4c08-96af-10ea3fae60f8",
   "metadata": {
    "ExecuteTime": {
     "end_time": "2024-04-03T22:49:15.733100Z",
     "start_time": "2024-04-03T22:49:15.715699Z"
    }
   },
   "outputs": [
    {
     "name": "stdout",
     "output_type": "stream",
     "text": [
      "(540, 10)\n",
      "[['ok ' 'Not recommended ' 'Unknown']\n",
      " ['ok ' 'OK ' 'OK ']\n",
      " ['ok ' 'Not recommended ' 'Consider ']\n",
      " ...\n",
      " ['ok ' 'Not recommended ' 'Unknown']\n",
      " ['Unknown' 'OK ' 'Consider ']\n",
      " ['ok ' 'Not recommended ' 'OK ']]\n"
     ]
    }
   ],
   "source": [
    "# Classify\n",
    "y_pred=model_BIMReTA.predict(X_test) \n",
    "\n",
    "print(X_test.shape)\n",
    "#y_pred = model_BIMReTA.predict(X_test)\n",
    "y_score = model_BIMReTA.predict_proba(X_test)\n",
    "print(y_pred)"
   ]
  },
  {
   "cell_type": "code",
   "outputs": [
    {
     "data": {
      "text/plain": "Index(['evaporation_and_natural_disperson', 'E_ss', 'E_sl', 'E_sw',\n       'sufficient_mixing_energy', 'E_ssC', 'seawater', 'E_ssI',\n       'soot_pollution', 'displacement'],\n      dtype='object')"
     },
     "execution_count": 44,
     "metadata": {},
     "output_type": "execute_result"
    }
   ],
   "source": [
    "X_test.columns"
   ],
   "metadata": {
    "collapsed": false,
    "ExecuteTime": {
     "end_time": "2024-04-04T01:21:11.637147Z",
     "start_time": "2024-04-04T01:21:11.631460Z"
    }
   },
   "id": "b4e1eb910f311d20",
   "execution_count": 44
  },
  {
   "cell_type": "code",
   "outputs": [
    {
     "data": {
      "text/plain": "array([['ok ', 'Not recommended ', 'OK ']], dtype='<U18')"
     },
     "execution_count": 50,
     "metadata": {},
     "output_type": "execute_result"
    }
   ],
   "source": [
    "X1 = pd.DataFrame(np.array([[99, 1, 1, 1, 'no', 0, 'Small', 1, 0, 'yes']]))\n",
    "X1.columns = ['evaporation_and_natural_disperson', 'E_ss', 'E_sl', 'E_sw',\n",
    "       'sufficient_mixing_energy', 'E_ssC', 'seawater', 'E_ssI',\n",
    "       'soot_pollution', 'displacement']\n",
    "\n",
    "y_pred1=model_BIMReTA.predict(X1) \n",
    "y_pred1\n",
    "#mody_pred1el.predict([[dispersion, E_ss, E_sl, E_sw, sufficient_mixing_energy,\n",
    "#                                 E_ssC, seawater, E_ssI, soot_pollution, displacement]])\n",
    "#model_BIMReTA.predict(y_pred1)"
   ],
   "metadata": {
    "collapsed": false,
    "ExecuteTime": {
     "end_time": "2024-04-04T01:24:03.849733Z",
     "start_time": "2024-04-04T01:24:03.845255Z"
    }
   },
   "id": "cb7d65968a028adf",
   "execution_count": 50
  },
  {
   "cell_type": "code",
   "outputs": [
    {
     "ename": "ValueError",
     "evalue": "Length mismatch: Expected axis has 0 elements, new values have 1 elements",
     "output_type": "error",
     "traceback": [
      "\u001B[0;31m---------------------------------------------------------------------------\u001B[0m",
      "\u001B[0;31mValueError\u001B[0m                                Traceback (most recent call last)",
      "Cell \u001B[0;32mIn[53], line 4\u001B[0m\n\u001B[1;32m      2\u001B[0m           \u001B[38;5;66;03m#                          E_ssC, seawater, E_ssI, soot_pollution, displacement)\u001B[39;00m\n\u001B[1;32m      3\u001B[0m result_df \u001B[38;5;241m=\u001B[39m pd\u001B[38;5;241m.\u001B[39mDataFrame(columns\u001B[38;5;241m=\u001B[39m[\u001B[38;5;124m\"\u001B[39m\u001B[38;5;124mMCR\u001B[39m\u001B[38;5;124m\"\u001B[39m, \u001B[38;5;124m\"\u001B[39m\u001B[38;5;124mCDU\u001B[39m\u001B[38;5;124m\"\u001B[39m, \u001B[38;5;124m\"\u001B[39m\u001B[38;5;124mISB\u001B[39m\u001B[38;5;124m\"\u001B[39m])\n\u001B[0;32m----> 4\u001B[0m result_df\u001B[38;5;241m.\u001B[39mindex \u001B[38;5;241m=\u001B[39m [\u001B[38;5;124m'\u001B[39m\u001B[38;5;124mRanking\u001B[39m\u001B[38;5;124m'\u001B[39m]\n\u001B[1;32m      5\u001B[0m result_df\u001B[38;5;241m.\u001B[39mappend(result)\n\u001B[1;32m      6\u001B[0m result_df\n",
      "File \u001B[0;32m~/Applications/anaconda3/envs/PhD_venv/lib/python3.11/site-packages/pandas/core/generic.py:6002\u001B[0m, in \u001B[0;36mNDFrame.__setattr__\u001B[0;34m(self, name, value)\u001B[0m\n\u001B[1;32m   6000\u001B[0m \u001B[38;5;28;01mtry\u001B[39;00m:\n\u001B[1;32m   6001\u001B[0m     \u001B[38;5;28mobject\u001B[39m\u001B[38;5;241m.\u001B[39m\u001B[38;5;21m__getattribute__\u001B[39m(\u001B[38;5;28mself\u001B[39m, name)\n\u001B[0;32m-> 6002\u001B[0m     \u001B[38;5;28;01mreturn\u001B[39;00m \u001B[38;5;28mobject\u001B[39m\u001B[38;5;241m.\u001B[39m\u001B[38;5;21m__setattr__\u001B[39m(\u001B[38;5;28mself\u001B[39m, name, value)\n\u001B[1;32m   6003\u001B[0m \u001B[38;5;28;01mexcept\u001B[39;00m \u001B[38;5;167;01mAttributeError\u001B[39;00m:\n\u001B[1;32m   6004\u001B[0m     \u001B[38;5;28;01mpass\u001B[39;00m\n",
      "File \u001B[0;32m~/Applications/anaconda3/envs/PhD_venv/lib/python3.11/site-packages/pandas/_libs/properties.pyx:69\u001B[0m, in \u001B[0;36mpandas._libs.properties.AxisProperty.__set__\u001B[0;34m()\u001B[0m\n",
      "File \u001B[0;32m~/Applications/anaconda3/envs/PhD_venv/lib/python3.11/site-packages/pandas/core/generic.py:730\u001B[0m, in \u001B[0;36mNDFrame._set_axis\u001B[0;34m(self, axis, labels)\u001B[0m\n\u001B[1;32m    725\u001B[0m \u001B[38;5;250m\u001B[39m\u001B[38;5;124;03m\"\"\"\u001B[39;00m\n\u001B[1;32m    726\u001B[0m \u001B[38;5;124;03mThis is called from the cython code when we set the `index` attribute\u001B[39;00m\n\u001B[1;32m    727\u001B[0m \u001B[38;5;124;03mdirectly, e.g. `series.index = [1, 2, 3]`.\u001B[39;00m\n\u001B[1;32m    728\u001B[0m \u001B[38;5;124;03m\"\"\"\u001B[39;00m\n\u001B[1;32m    729\u001B[0m labels \u001B[38;5;241m=\u001B[39m ensure_index(labels)\n\u001B[0;32m--> 730\u001B[0m \u001B[38;5;28mself\u001B[39m\u001B[38;5;241m.\u001B[39m_mgr\u001B[38;5;241m.\u001B[39mset_axis(axis, labels)\n\u001B[1;32m    731\u001B[0m \u001B[38;5;28mself\u001B[39m\u001B[38;5;241m.\u001B[39m_clear_item_cache()\n",
      "File \u001B[0;32m~/Applications/anaconda3/envs/PhD_venv/lib/python3.11/site-packages/pandas/core/internals/managers.py:225\u001B[0m, in \u001B[0;36mBaseBlockManager.set_axis\u001B[0;34m(self, axis, new_labels)\u001B[0m\n\u001B[1;32m    223\u001B[0m \u001B[38;5;28;01mdef\u001B[39;00m \u001B[38;5;21mset_axis\u001B[39m(\u001B[38;5;28mself\u001B[39m, axis: AxisInt, new_labels: Index) \u001B[38;5;241m-\u001B[39m\u001B[38;5;241m>\u001B[39m \u001B[38;5;28;01mNone\u001B[39;00m:\n\u001B[1;32m    224\u001B[0m     \u001B[38;5;66;03m# Caller is responsible for ensuring we have an Index object.\u001B[39;00m\n\u001B[0;32m--> 225\u001B[0m     \u001B[38;5;28mself\u001B[39m\u001B[38;5;241m.\u001B[39m_validate_set_axis(axis, new_labels)\n\u001B[1;32m    226\u001B[0m     \u001B[38;5;28mself\u001B[39m\u001B[38;5;241m.\u001B[39maxes[axis] \u001B[38;5;241m=\u001B[39m new_labels\n",
      "File \u001B[0;32m~/Applications/anaconda3/envs/PhD_venv/lib/python3.11/site-packages/pandas/core/internals/base.py:70\u001B[0m, in \u001B[0;36mDataManager._validate_set_axis\u001B[0;34m(self, axis, new_labels)\u001B[0m\n\u001B[1;32m     67\u001B[0m     \u001B[38;5;28;01mpass\u001B[39;00m\n\u001B[1;32m     69\u001B[0m \u001B[38;5;28;01melif\u001B[39;00m new_len \u001B[38;5;241m!=\u001B[39m old_len:\n\u001B[0;32m---> 70\u001B[0m     \u001B[38;5;28;01mraise\u001B[39;00m \u001B[38;5;167;01mValueError\u001B[39;00m(\n\u001B[1;32m     71\u001B[0m         \u001B[38;5;124mf\u001B[39m\u001B[38;5;124m\"\u001B[39m\u001B[38;5;124mLength mismatch: Expected axis has \u001B[39m\u001B[38;5;132;01m{\u001B[39;00mold_len\u001B[38;5;132;01m}\u001B[39;00m\u001B[38;5;124m elements, new \u001B[39m\u001B[38;5;124m\"\u001B[39m\n\u001B[1;32m     72\u001B[0m         \u001B[38;5;124mf\u001B[39m\u001B[38;5;124m\"\u001B[39m\u001B[38;5;124mvalues have \u001B[39m\u001B[38;5;132;01m{\u001B[39;00mnew_len\u001B[38;5;132;01m}\u001B[39;00m\u001B[38;5;124m elements\u001B[39m\u001B[38;5;124m\"\u001B[39m\n\u001B[1;32m     73\u001B[0m     )\n",
      "\u001B[0;31mValueError\u001B[0m: Length mismatch: Expected axis has 0 elements, new values have 1 elements"
     ]
    }
   ],
   "source": [
    "result = y_pred1# rank_response_technologies(dispersion, E_ss, E_sl, E_sw, sufficient_mixing_energy,\n",
    "          #                          E_ssC, seawater, E_ssI, soot_pollution, displacement)\n",
    "result_df = pd.DataFrame(columns=[\"MCR\", \"CDU\", \"ISB\"])\n",
    "result_df.index = ['Ranking']\n",
    "result_df.append(result)\n",
    "result_df\n",
    "#df.index = [100, 200, 300]"
   ],
   "metadata": {
    "collapsed": false,
    "ExecuteTime": {
     "end_time": "2024-04-04T01:51:58.888234Z",
     "start_time": "2024-04-04T01:51:58.870534Z"
    }
   },
   "id": "3c2697ef4e9ecd16",
   "execution_count": 53
  },
  {
   "cell_type": "code",
   "outputs": [
    {
     "data": {
      "text/plain": "         MCR   CDU    ISB\nRanking    1  1.23  Hello",
      "text/html": "<div>\n<style scoped>\n    .dataframe tbody tr th:only-of-type {\n        vertical-align: middle;\n    }\n\n    .dataframe tbody tr th {\n        vertical-align: top;\n    }\n\n    .dataframe thead th {\n        text-align: right;\n    }\n</style>\n<table border=\"1\" class=\"dataframe\">\n  <thead>\n    <tr style=\"text-align: right;\">\n      <th></th>\n      <th>MCR</th>\n      <th>CDU</th>\n      <th>ISB</th>\n    </tr>\n  </thead>\n  <tbody>\n    <tr>\n      <th>Ranking</th>\n      <td>1</td>\n      <td>1.23</td>\n      <td>Hello</td>\n    </tr>\n  </tbody>\n</table>\n</div>"
     },
     "execution_count": 55,
     "metadata": {},
     "output_type": "execute_result"
    }
   ],
   "source": [
    "data = dict(MCR=1, CDU=1.23, ISB='Hello')\n",
    "df = pd.DataFrame(data, index=['Ranking'])\n",
    "df"
   ],
   "metadata": {
    "collapsed": false,
    "ExecuteTime": {
     "end_time": "2024-04-04T02:34:35.661616Z",
     "start_time": "2024-04-04T02:34:35.655914Z"
    }
   },
   "id": "c49aa451411cabc3",
   "execution_count": 55
  },
  {
   "cell_type": "code",
   "outputs": [
    {
     "ename": "KeyError",
     "evalue": "\"None of [Index([0], dtype='int64')] are in the [columns]\"",
     "output_type": "error",
     "traceback": [
      "\u001B[0;31m---------------------------------------------------------------------------\u001B[0m",
      "\u001B[0;31mKeyError\u001B[0m                                  Traceback (most recent call last)",
      "Cell \u001B[0;32mIn[28], line 1\u001B[0m\n\u001B[0;32m----> 1\u001B[0m X_test[[\u001B[38;5;241m0\u001B[39m]]\n",
      "File \u001B[0;32m~/Applications/anaconda3/envs/PhD_venv/lib/python3.11/site-packages/pandas/core/frame.py:3767\u001B[0m, in \u001B[0;36mDataFrame.__getitem__\u001B[0;34m(self, key)\u001B[0m\n\u001B[1;32m   3765\u001B[0m     \u001B[38;5;28;01mif\u001B[39;00m is_iterator(key):\n\u001B[1;32m   3766\u001B[0m         key \u001B[38;5;241m=\u001B[39m \u001B[38;5;28mlist\u001B[39m(key)\n\u001B[0;32m-> 3767\u001B[0m     indexer \u001B[38;5;241m=\u001B[39m \u001B[38;5;28mself\u001B[39m\u001B[38;5;241m.\u001B[39mcolumns\u001B[38;5;241m.\u001B[39m_get_indexer_strict(key, \u001B[38;5;124m\"\u001B[39m\u001B[38;5;124mcolumns\u001B[39m\u001B[38;5;124m\"\u001B[39m)[\u001B[38;5;241m1\u001B[39m]\n\u001B[1;32m   3769\u001B[0m \u001B[38;5;66;03m# take() does not accept boolean indexers\u001B[39;00m\n\u001B[1;32m   3770\u001B[0m \u001B[38;5;28;01mif\u001B[39;00m \u001B[38;5;28mgetattr\u001B[39m(indexer, \u001B[38;5;124m\"\u001B[39m\u001B[38;5;124mdtype\u001B[39m\u001B[38;5;124m\"\u001B[39m, \u001B[38;5;28;01mNone\u001B[39;00m) \u001B[38;5;241m==\u001B[39m \u001B[38;5;28mbool\u001B[39m:\n",
      "File \u001B[0;32m~/Applications/anaconda3/envs/PhD_venv/lib/python3.11/site-packages/pandas/core/indexes/base.py:5877\u001B[0m, in \u001B[0;36mIndex._get_indexer_strict\u001B[0;34m(self, key, axis_name)\u001B[0m\n\u001B[1;32m   5874\u001B[0m \u001B[38;5;28;01melse\u001B[39;00m:\n\u001B[1;32m   5875\u001B[0m     keyarr, indexer, new_indexer \u001B[38;5;241m=\u001B[39m \u001B[38;5;28mself\u001B[39m\u001B[38;5;241m.\u001B[39m_reindex_non_unique(keyarr)\n\u001B[0;32m-> 5877\u001B[0m \u001B[38;5;28mself\u001B[39m\u001B[38;5;241m.\u001B[39m_raise_if_missing(keyarr, indexer, axis_name)\n\u001B[1;32m   5879\u001B[0m keyarr \u001B[38;5;241m=\u001B[39m \u001B[38;5;28mself\u001B[39m\u001B[38;5;241m.\u001B[39mtake(indexer)\n\u001B[1;32m   5880\u001B[0m \u001B[38;5;28;01mif\u001B[39;00m \u001B[38;5;28misinstance\u001B[39m(key, Index):\n\u001B[1;32m   5881\u001B[0m     \u001B[38;5;66;03m# GH 42790 - Preserve name from an Index\u001B[39;00m\n",
      "File \u001B[0;32m~/Applications/anaconda3/envs/PhD_venv/lib/python3.11/site-packages/pandas/core/indexes/base.py:5938\u001B[0m, in \u001B[0;36mIndex._raise_if_missing\u001B[0;34m(self, key, indexer, axis_name)\u001B[0m\n\u001B[1;32m   5936\u001B[0m     \u001B[38;5;28;01mif\u001B[39;00m use_interval_msg:\n\u001B[1;32m   5937\u001B[0m         key \u001B[38;5;241m=\u001B[39m \u001B[38;5;28mlist\u001B[39m(key)\n\u001B[0;32m-> 5938\u001B[0m     \u001B[38;5;28;01mraise\u001B[39;00m \u001B[38;5;167;01mKeyError\u001B[39;00m(\u001B[38;5;124mf\u001B[39m\u001B[38;5;124m\"\u001B[39m\u001B[38;5;124mNone of [\u001B[39m\u001B[38;5;132;01m{\u001B[39;00mkey\u001B[38;5;132;01m}\u001B[39;00m\u001B[38;5;124m] are in the [\u001B[39m\u001B[38;5;132;01m{\u001B[39;00maxis_name\u001B[38;5;132;01m}\u001B[39;00m\u001B[38;5;124m]\u001B[39m\u001B[38;5;124m\"\u001B[39m)\n\u001B[1;32m   5940\u001B[0m not_found \u001B[38;5;241m=\u001B[39m \u001B[38;5;28mlist\u001B[39m(ensure_index(key)[missing_mask\u001B[38;5;241m.\u001B[39mnonzero()[\u001B[38;5;241m0\u001B[39m]]\u001B[38;5;241m.\u001B[39munique())\n\u001B[1;32m   5941\u001B[0m \u001B[38;5;28;01mraise\u001B[39;00m \u001B[38;5;167;01mKeyError\u001B[39;00m(\u001B[38;5;124mf\u001B[39m\u001B[38;5;124m\"\u001B[39m\u001B[38;5;132;01m{\u001B[39;00mnot_found\u001B[38;5;132;01m}\u001B[39;00m\u001B[38;5;124m not in index\u001B[39m\u001B[38;5;124m\"\u001B[39m)\n",
      "\u001B[0;31mKeyError\u001B[0m: \"None of [Index([0], dtype='int64')] are in the [columns]\""
     ]
    }
   ],
   "source": [
    "X_test[[0]]"
   ],
   "metadata": {
    "collapsed": false,
    "ExecuteTime": {
     "end_time": "2024-04-04T01:12:09.251598Z",
     "start_time": "2024-04-04T01:12:09.234126Z"
    }
   },
   "id": "54c24c4b21f9ed34",
   "execution_count": 28
  },
  {
   "cell_type": "markdown",
   "id": "83e043d6-8283-4f13-a22d-614aec00d134",
   "metadata": {},
   "source": [
    "### Model Assessment"
   ]
  },
  {
   "cell_type": "code",
   "execution_count": 8,
   "id": "c542aad7-5f85-4548-8832-dd4fbb46bbbd",
   "metadata": {
    "ExecuteTime": {
     "end_time": "2024-04-03T22:49:15.846054Z",
     "start_time": "2024-04-03T22:49:15.723987Z"
    }
   },
   "outputs": [
    {
     "name": "stdout",
     "output_type": "stream",
     "text": [
      "----------------------------Confusion Matrix--------------\n",
      "MCR\n"
     ]
    },
    {
     "data": {
      "text/plain": "array([[ 54,   2,   0,   0],\n       [ 25,   0,   0,   0],\n       [  0,   0, 112,  89],\n       [ 68,   1,  68, 121]])"
     },
     "metadata": {},
     "output_type": "display_data"
    },
    {
     "name": "stdout",
     "output_type": "stream",
     "text": [
      "CDU\n"
     ]
    },
    {
     "data": {
      "text/plain": "array([[  1,   0,   0,   0],\n       [  8, 249,  81,   0],\n       [ 10,   0, 173,   0],\n       [ 18,   0,   0,   0]])"
     },
     "metadata": {},
     "output_type": "display_data"
    },
    {
     "name": "stdout",
     "output_type": "stream",
     "text": [
      "ISB\n"
     ]
    },
    {
     "data": {
      "text/plain": "array([[103,   0,  33],\n       [  0, 349,  24],\n       [  0,   0,  31]])"
     },
     "metadata": {},
     "output_type": "display_data"
    },
    {
     "name": "stdout",
     "output_type": "stream",
     "text": [
      "----------------------------Classification Report--------------\n",
      "MCR\n",
      "                    precision    recall  f1-score   support\n",
      "\n",
      "         Consider        0.37      0.96      0.53        56\n",
      "Go to next season        0.00      0.00      0.00        25\n",
      "           Unknown       0.62      0.56      0.59       201\n",
      "               ok        0.58      0.47      0.52       258\n",
      "\n",
      "          accuracy                           0.53       540\n",
      "         macro avg       0.39      0.50      0.41       540\n",
      "      weighted avg       0.54      0.53      0.52       540\n",
      "\n",
      "CDU\n",
      "                  precision    recall  f1-score   support\n",
      "\n",
      "       Consider        0.03      1.00      0.05         1\n",
      "Not recommended        1.00      0.74      0.85       338\n",
      "             OK        0.68      0.95      0.79       183\n",
      "         Unknown       0.00      0.00      0.00        18\n",
      "\n",
      "        accuracy                           0.78       540\n",
      "       macro avg       0.43      0.67      0.42       540\n",
      "    weighted avg       0.86      0.78      0.80       540\n",
      "\n",
      "ISB\n",
      "              precision    recall  f1-score   support\n",
      "\n",
      "   Consider        1.00      0.76      0.86       136\n",
      "         OK        1.00      0.94      0.97       373\n",
      "     Unknown       0.35      1.00      0.52        31\n",
      "\n",
      "    accuracy                           0.89       540\n",
      "   macro avg       0.78      0.90      0.78       540\n",
      "weighted avg       0.96      0.89      0.91       540\n"
     ]
    },
    {
     "name": "stderr",
     "output_type": "stream",
     "text": [
      "/Users/tanmoydas/Applications/anaconda3/envs/PhD_venv/lib/python3.11/site-packages/sklearn/metrics/_classification.py:1344: UndefinedMetricWarning: Precision and F-score are ill-defined and being set to 0.0 in labels with no predicted samples. Use `zero_division` parameter to control this behavior.\n",
      "  _warn_prf(average, modifier, msg_start, len(result))\n",
      "/Users/tanmoydas/Applications/anaconda3/envs/PhD_venv/lib/python3.11/site-packages/sklearn/metrics/_classification.py:1344: UndefinedMetricWarning: Precision and F-score are ill-defined and being set to 0.0 in labels with no predicted samples. Use `zero_division` parameter to control this behavior.\n",
      "  _warn_prf(average, modifier, msg_start, len(result))\n",
      "/Users/tanmoydas/Applications/anaconda3/envs/PhD_venv/lib/python3.11/site-packages/sklearn/metrics/_classification.py:1344: UndefinedMetricWarning: Precision and F-score are ill-defined and being set to 0.0 in labels with no predicted samples. Use `zero_division` parameter to control this behavior.\n",
      "  _warn_prf(average, modifier, msg_start, len(result))\n"
     ]
    }
   ],
   "source": [
    "print('----------------------------Confusion Matrix--------------')\n",
    "print('MCR')\n",
    "display(metrics.confusion_matrix(y_test.iloc[:,0], y_pred[:,0]))\n",
    "\n",
    "print('CDU')\n",
    "display(metrics.confusion_matrix(y_test.iloc[:,1], y_pred[:,1]))\n",
    "\n",
    "print('ISB')\n",
    "display(metrics.confusion_matrix(y_test.iloc[:,2], y_pred[:,2]))\n",
    "\n",
    "\n",
    "print('----------------------------Classification Report--------------')\n",
    "print('MCR')\n",
    "print(metrics.classification_report(y_test.iloc[:,0],y_pred[:,0]))\n",
    "print('CDU')\n",
    "print(metrics.classification_report(y_test.iloc[:,1],y_pred[:,1]))\n",
    "print('ISB')\n",
    "print(metrics.classification_report(y_test.iloc[:,2],y_pred[:,2]))"
   ]
  },
  {
   "cell_type": "code",
   "execution_count": 9,
   "id": "0d74dc61-34d0-4817-82ee-8ce9a0f3421c",
   "metadata": {
    "ExecuteTime": {
     "end_time": "2024-04-03T22:49:15.882344Z",
     "start_time": "2024-04-03T22:49:15.749663Z"
    }
   },
   "outputs": [
    {
     "name": "stdout",
     "output_type": "stream",
     "text": [
      "----------------------------ROC AUC--------------\n",
      "MCR\n",
      "0.799523529454977\n",
      "CDU\n",
      "0.892749832640543\n",
      "ISB\n",
      "0.9703177647431885\n"
     ]
    }
   ],
   "source": [
    "print('----------------------------ROC AUC--------------')\n",
    "print('MCR')\n",
    "print(metrics.roc_auc_score(y_test.iloc[:,0],y_score[0], multi_class='ovo'))\n",
    "print('CDU')\n",
    "print(metrics.roc_auc_score(y_test.iloc[:,1],y_score[1], multi_class='ovo'))\n",
    "print('ISB')\n",
    "print(metrics.roc_auc_score(y_test.iloc[:,2],y_score[2], multi_class='ovo'))"
   ]
  },
  {
   "cell_type": "code",
   "execution_count": 10,
   "id": "1608e546-1fb1-4410-8933-9ac176659e00",
   "metadata": {
    "ExecuteTime": {
     "end_time": "2024-04-03T22:49:15.882994Z",
     "start_time": "2024-04-03T22:49:15.760321Z"
    }
   },
   "outputs": [
    {
     "data": {
      "text/plain": "array([[0.00000000e+00, 1.00000000e+00, 0.00000000e+00, 0.00000000e+00],\n       [0.00000000e+00, 7.96371104e-11, 1.00000000e+00, 0.00000000e+00],\n       [0.00000000e+00, 1.00000000e+00, 0.00000000e+00, 0.00000000e+00],\n       ...,\n       [0.00000000e+00, 1.00000000e+00, 0.00000000e+00, 0.00000000e+00],\n       [0.00000000e+00, 1.07401390e-10, 1.00000000e+00, 0.00000000e+00],\n       [0.00000000e+00, 1.00000000e+00, 0.00000000e+00, 0.00000000e+00]])"
     },
     "execution_count": 10,
     "metadata": {},
     "output_type": "execute_result"
    }
   ],
   "source": [
    "y_score[1]"
   ]
  },
  {
   "cell_type": "markdown",
   "id": "62afa1fc-2466-4f21-922b-96607fc86418",
   "metadata": {},
   "source": [
    "## Compare with Full model"
   ]
  },
  {
   "cell_type": "markdown",
   "id": "f1ed73c2-2ab2-4930-be9f-6688a80da540",
   "metadata": {},
   "source": [
    "### Data of full & reduced model"
   ]
  },
  {
   "cell_type": "code",
   "execution_count": 11,
   "id": "b8ed11f1-287b-4824-9d68-6ccd504c4f0d",
   "metadata": {
    "ExecuteTime": {
     "end_time": "2024-04-03T22:49:16.176453Z",
     "start_time": "2024-04-03T22:49:15.762881Z"
    }
   },
   "outputs": [
    {
     "ename": "FileNotFoundError",
     "evalue": "[Errno 2] No such file or directory: 'Inputs/X.xlsx'",
     "output_type": "error",
     "traceback": [
      "\u001B[0;31m---------------------------------------------------------------------------\u001B[0m",
      "\u001B[0;31mFileNotFoundError\u001B[0m                         Traceback (most recent call last)",
      "Cell \u001B[0;32mIn[11], line 3\u001B[0m\n\u001B[1;32m      1\u001B[0m \u001B[38;5;66;03m# \u001B[39;00m\n\u001B[1;32m      2\u001B[0m \u001B[38;5;66;03m# import data\u001B[39;00m\n\u001B[0;32m----> 3\u001B[0m X \u001B[38;5;241m=\u001B[39m pd\u001B[38;5;241m.\u001B[39mread_excel(\u001B[38;5;124m'\u001B[39m\u001B[38;5;124mInputs/X.xlsx\u001B[39m\u001B[38;5;124m'\u001B[39m, index_col\u001B[38;5;241m=\u001B[39m\u001B[38;5;124m'\u001B[39m\u001B[38;5;124mScene no.\u001B[39m\u001B[38;5;124m'\u001B[39m)\u001B[38;5;241m.\u001B[39mcopy()\n\u001B[1;32m      4\u001B[0m y \u001B[38;5;241m=\u001B[39m pd\u001B[38;5;241m.\u001B[39mread_excel(\u001B[38;5;124m'\u001B[39m\u001B[38;5;124mInputs/y.xlsx\u001B[39m\u001B[38;5;124m'\u001B[39m, index_col\u001B[38;5;241m=\u001B[39m\u001B[38;5;124m'\u001B[39m\u001B[38;5;124mScene no.\u001B[39m\u001B[38;5;124m'\u001B[39m)\u001B[38;5;241m.\u001B[39mcopy()\n",
      "File \u001B[0;32m~/Applications/anaconda3/envs/PhD_venv/lib/python3.11/site-packages/pandas/io/excel/_base.py:478\u001B[0m, in \u001B[0;36mread_excel\u001B[0;34m(io, sheet_name, header, names, index_col, usecols, dtype, engine, converters, true_values, false_values, skiprows, nrows, na_values, keep_default_na, na_filter, verbose, parse_dates, date_parser, date_format, thousands, decimal, comment, skipfooter, storage_options, dtype_backend)\u001B[0m\n\u001B[1;32m    476\u001B[0m \u001B[38;5;28;01mif\u001B[39;00m \u001B[38;5;129;01mnot\u001B[39;00m \u001B[38;5;28misinstance\u001B[39m(io, ExcelFile):\n\u001B[1;32m    477\u001B[0m     should_close \u001B[38;5;241m=\u001B[39m \u001B[38;5;28;01mTrue\u001B[39;00m\n\u001B[0;32m--> 478\u001B[0m     io \u001B[38;5;241m=\u001B[39m ExcelFile(io, storage_options\u001B[38;5;241m=\u001B[39mstorage_options, engine\u001B[38;5;241m=\u001B[39mengine)\n\u001B[1;32m    479\u001B[0m \u001B[38;5;28;01melif\u001B[39;00m engine \u001B[38;5;129;01mand\u001B[39;00m engine \u001B[38;5;241m!=\u001B[39m io\u001B[38;5;241m.\u001B[39mengine:\n\u001B[1;32m    480\u001B[0m     \u001B[38;5;28;01mraise\u001B[39;00m \u001B[38;5;167;01mValueError\u001B[39;00m(\n\u001B[1;32m    481\u001B[0m         \u001B[38;5;124m\"\u001B[39m\u001B[38;5;124mEngine should not be specified when passing \u001B[39m\u001B[38;5;124m\"\u001B[39m\n\u001B[1;32m    482\u001B[0m         \u001B[38;5;124m\"\u001B[39m\u001B[38;5;124man ExcelFile - ExcelFile already has the engine set\u001B[39m\u001B[38;5;124m\"\u001B[39m\n\u001B[1;32m    483\u001B[0m     )\n",
      "File \u001B[0;32m~/Applications/anaconda3/envs/PhD_venv/lib/python3.11/site-packages/pandas/io/excel/_base.py:1496\u001B[0m, in \u001B[0;36mExcelFile.__init__\u001B[0;34m(self, path_or_buffer, engine, storage_options)\u001B[0m\n\u001B[1;32m   1494\u001B[0m     ext \u001B[38;5;241m=\u001B[39m \u001B[38;5;124m\"\u001B[39m\u001B[38;5;124mxls\u001B[39m\u001B[38;5;124m\"\u001B[39m\n\u001B[1;32m   1495\u001B[0m \u001B[38;5;28;01melse\u001B[39;00m:\n\u001B[0;32m-> 1496\u001B[0m     ext \u001B[38;5;241m=\u001B[39m inspect_excel_format(\n\u001B[1;32m   1497\u001B[0m         content_or_path\u001B[38;5;241m=\u001B[39mpath_or_buffer, storage_options\u001B[38;5;241m=\u001B[39mstorage_options\n\u001B[1;32m   1498\u001B[0m     )\n\u001B[1;32m   1499\u001B[0m     \u001B[38;5;28;01mif\u001B[39;00m ext \u001B[38;5;129;01mis\u001B[39;00m \u001B[38;5;28;01mNone\u001B[39;00m:\n\u001B[1;32m   1500\u001B[0m         \u001B[38;5;28;01mraise\u001B[39;00m \u001B[38;5;167;01mValueError\u001B[39;00m(\n\u001B[1;32m   1501\u001B[0m             \u001B[38;5;124m\"\u001B[39m\u001B[38;5;124mExcel file format cannot be determined, you must specify \u001B[39m\u001B[38;5;124m\"\u001B[39m\n\u001B[1;32m   1502\u001B[0m             \u001B[38;5;124m\"\u001B[39m\u001B[38;5;124man engine manually.\u001B[39m\u001B[38;5;124m\"\u001B[39m\n\u001B[1;32m   1503\u001B[0m         )\n",
      "File \u001B[0;32m~/Applications/anaconda3/envs/PhD_venv/lib/python3.11/site-packages/pandas/io/excel/_base.py:1371\u001B[0m, in \u001B[0;36minspect_excel_format\u001B[0;34m(content_or_path, storage_options)\u001B[0m\n\u001B[1;32m   1368\u001B[0m \u001B[38;5;28;01mif\u001B[39;00m \u001B[38;5;28misinstance\u001B[39m(content_or_path, \u001B[38;5;28mbytes\u001B[39m):\n\u001B[1;32m   1369\u001B[0m     content_or_path \u001B[38;5;241m=\u001B[39m BytesIO(content_or_path)\n\u001B[0;32m-> 1371\u001B[0m \u001B[38;5;28;01mwith\u001B[39;00m get_handle(\n\u001B[1;32m   1372\u001B[0m     content_or_path, \u001B[38;5;124m\"\u001B[39m\u001B[38;5;124mrb\u001B[39m\u001B[38;5;124m\"\u001B[39m, storage_options\u001B[38;5;241m=\u001B[39mstorage_options, is_text\u001B[38;5;241m=\u001B[39m\u001B[38;5;28;01mFalse\u001B[39;00m\n\u001B[1;32m   1373\u001B[0m ) \u001B[38;5;28;01mas\u001B[39;00m handle:\n\u001B[1;32m   1374\u001B[0m     stream \u001B[38;5;241m=\u001B[39m handle\u001B[38;5;241m.\u001B[39mhandle\n\u001B[1;32m   1375\u001B[0m     stream\u001B[38;5;241m.\u001B[39mseek(\u001B[38;5;241m0\u001B[39m)\n",
      "File \u001B[0;32m~/Applications/anaconda3/envs/PhD_venv/lib/python3.11/site-packages/pandas/io/common.py:868\u001B[0m, in \u001B[0;36mget_handle\u001B[0;34m(path_or_buf, mode, encoding, compression, memory_map, is_text, errors, storage_options)\u001B[0m\n\u001B[1;32m    859\u001B[0m         handle \u001B[38;5;241m=\u001B[39m \u001B[38;5;28mopen\u001B[39m(\n\u001B[1;32m    860\u001B[0m             handle,\n\u001B[1;32m    861\u001B[0m             ioargs\u001B[38;5;241m.\u001B[39mmode,\n\u001B[0;32m   (...)\u001B[0m\n\u001B[1;32m    864\u001B[0m             newline\u001B[38;5;241m=\u001B[39m\u001B[38;5;124m\"\u001B[39m\u001B[38;5;124m\"\u001B[39m,\n\u001B[1;32m    865\u001B[0m         )\n\u001B[1;32m    866\u001B[0m     \u001B[38;5;28;01melse\u001B[39;00m:\n\u001B[1;32m    867\u001B[0m         \u001B[38;5;66;03m# Binary mode\u001B[39;00m\n\u001B[0;32m--> 868\u001B[0m         handle \u001B[38;5;241m=\u001B[39m \u001B[38;5;28mopen\u001B[39m(handle, ioargs\u001B[38;5;241m.\u001B[39mmode)\n\u001B[1;32m    869\u001B[0m     handles\u001B[38;5;241m.\u001B[39mappend(handle)\n\u001B[1;32m    871\u001B[0m \u001B[38;5;66;03m# Convert BytesIO or file objects passed with an encoding\u001B[39;00m\n",
      "\u001B[0;31mFileNotFoundError\u001B[0m: [Errno 2] No such file or directory: 'Inputs/X.xlsx'"
     ]
    }
   ],
   "source": [
    "# \n",
    "# import data\n",
    "X = pd.read_excel('Inputs/X.xlsx', index_col='Scene no.').copy()\n",
    "y = pd.read_excel('Inputs/y.xlsx', index_col='Scene no.').copy()\n",
    "\n",
    "# Drop y with Consider class which has only 5 records\n",
    "#y = y[y['CDU options'] != 8]\n",
    "#X = X.drop(['Scene 26', 'Scene 1247', 'Scene 1380', 'Scene 1655', 'Scene 2109']) # y[y['CDU options'] == 8].index.values\n",
    "\n"
   ]
  },
  {
   "cell_type": "code",
   "execution_count": null,
   "id": "8e14e5e7-a213-420f-bd61-5c0d1843f292",
   "metadata": {
    "ExecuteTime": {
     "end_time": "2024-04-03T22:49:16.180965Z",
     "start_time": "2024-04-03T22:49:16.177226Z"
    }
   },
   "outputs": [],
   "source": [
    "# Data for reduced model\n",
    "# MCR\n",
    "# Data\n",
    "X_reduced_mcr = X[['evaporation_and_natural_disperson','E_ss', 'E_sl', 'E_sw']]\n",
    "y_m_b = label_binarize(y['MCR options'], classes=[10, 8, 2, -2])\n",
    "n_classes = y_m_b.shape[1]\n",
    "X_train_mcr, X_test_mcr, y_train_mcr, y_test_mcr = train_test_split(X_reduced_mcr, y_m_b, test_size=0.20, random_state=12)\n",
    "\n",
    "# CDU\n",
    "X_reduced_cdu = X[[ 'sufficient_mixing_energy','E_ssC', 'seawater']]\n",
    "y_c_b = label_binarize(y['CDU options'], classes=[10, 8, -2, -10])\n",
    "n_classes = y_c_b.shape[1]\n",
    "X_train_cdu, X_test_cdu, y_train_cdu, y_test_cdu = train_test_split(X_reduced_cdu, y_c_b, test_size=0.20, random_state=12)\n",
    "\n",
    "# ISB\n",
    "X_reduced_isb = X[[ 'E_ssI','soot_pollution', 'displacement']]\n",
    "y_i_b = label_binarize(y['ISB options'], classes=[10, 8, -2])\n",
    "n_classes = y_i_b.shape[1]\n",
    "X_train_isb, X_test_isb, y_train_isb, y_test_isb = train_test_split(X_reduced_isb, y_i_b, test_size=0.20, random_state=12)\n"
   ]
  },
  {
   "cell_type": "code",
   "execution_count": null,
   "id": "4c58f1dc-892e-49d8-b323-6d815b622f85",
   "metadata": {
    "ExecuteTime": {
     "start_time": "2024-04-03T22:49:16.178350Z"
    }
   },
   "outputs": [],
   "source": [
    "# Compare Algorithms\n",
    "import pandas\n",
    "import matplotlib.pyplot as plt\n",
    "from sklearn import model_selection\n",
    "from sklearn.naive_bayes import GaussianNB\n",
    "from sklearn import metrics\n",
    "\n",
    "# prepare configuration for cross validation test harness\n",
    "seed = 7\n",
    "# prepare models\n",
    "models = []\n",
    "#models.append(('LR', LogisticRegression()))\n",
    "models.append(('NB', OneVsRestClassifier(GaussianNB())))\n",
    "# evaluate each model in turn\n",
    "results = []\n",
    "names = []\n",
    "kfold = model_selection.KFold(n_splits=10)\n",
    "\n",
    "for name, model in models:\n",
    "\tkfold = model_selection.KFold(n_splits=10)\n",
    "\tcv_results_m = model_selection.cross_val_score(model, X_reduced_mcr, y_m_b, cv=kfold, scoring='f1_samples') # , =scoring\n",
    "\t#cv_results2 = model_selection.cross_val_score(model, X_reduced_cdu, y_c_b, cv=kfold, scoring='roc_auc') # , =scoring\n",
    "\tresults.append(cv_results_m)\n",
    "\tnames.append(name)\n",
    "    \n",
    "\n",
    "cv_results_m = model_selection.cross_val_score(model, X, y_m_b, cv=kfold, scoring='roc_auc') # , =scoring\n",
    "results.append(cv_results_m)\n",
    "names.append('MCR_F')\n",
    "\n",
    "cv_results_c = model_selection.cross_val_score(model, X, y_c_b, cv=kfold, scoring='roc_auc') # , =scoring\n",
    "results.append(cv_results_c)\n",
    "names.append('CDU_F')\n",
    "\n",
    "cv_results_i = model_selection.cross_val_score(model, X, y_i_b, cv=kfold, scoring='roc_auc') # , =scoring\n",
    "results.append(cv_results_i)\n",
    "names.append('ISB_F')\n",
    "\n",
    "\n",
    "cv_results_m2 = model_selection.cross_val_score(model, X_reduced_mcr, y_m_b, cv=kfold, scoring='roc_auc') # , =scoring\n",
    "results.append(cv_results_m2)\n",
    "names.append('MCR_r')\n",
    "\n",
    "cv_results_c2 = model_selection.cross_val_score(model, X_reduced_cdu, y_c_b, cv=kfold, scoring='roc_auc') # , =scoring\n",
    "results.append(cv_results_c2)\n",
    "names.append('CDU_r')\n",
    "\n",
    "cv_results_i2 = model_selection.cross_val_score(model, X_reduced_isb, y_i_b, cv=kfold, scoring='roc_auc') # , =scoring\n",
    "results.append(cv_results_i2)\n",
    "names.append('ISB_r')\n",
    "\n"
   ]
  },
  {
   "cell_type": "code",
   "execution_count": null,
   "id": "d05af8a5-2393-4939-9202-819a4ab13994",
   "metadata": {
    "ExecuteTime": {
     "start_time": "2024-04-03T22:49:16.179453Z"
    }
   },
   "outputs": [],
   "source": [
    "#sns.boxplot(x=results, y=names, palette=\"Set3\")\n",
    "boxplot_df = pd.DataFrame(results).T\n",
    "\n",
    "fig4, ax = plt.subplots(figsize=(8,10))\n",
    "\n",
    "sns.boxplot(data=boxplot_df, boxprops=dict(alpha=.3))\n",
    "fig4.savefig('Outputs/boxplot_.png', dpi = 600)\n",
    "\n",
    "boxplot_df.mean(axis=0)"
   ]
  },
  {
   "cell_type": "markdown",
   "id": "8bd8ac62-f556-40ed-a959-3ba3295fdd66",
   "metadata": {},
   "source": [
    "### ROC Curve of reduced model"
   ]
  },
  {
   "cell_type": "code",
   "execution_count": null,
   "id": "9692f684-04ee-4583-b0f7-3e69708aaea0",
   "metadata": {
    "ExecuteTime": {
     "start_time": "2024-04-03T22:49:16.180499Z"
    }
   },
   "outputs": [],
   "source": [
    "y_train_mcr"
   ]
  },
  {
   "cell_type": "markdown",
   "id": "853edf5f-c20d-4a7e-a41d-7552bba867a2",
   "metadata": {},
   "source": [
    "#### MCR ROC curve"
   ]
  },
  {
   "cell_type": "code",
   "execution_count": null,
   "id": "c1da395e-0711-4178-92ad-b2409ba9adb7",
   "metadata": {
    "ExecuteTime": {
     "end_time": "2024-04-03T22:49:16.181808Z",
     "start_time": "2024-04-03T22:49:16.181549Z"
    }
   },
   "outputs": [],
   "source": [
    "classifier_mcr = OneVsRestClassifier(GaussianNB()).fit(X_train_mcr, y_train_mcr)\n",
    "y_score_mcr = classifier_mcr.predict_proba(X_test_mcr)\n",
    "y_pred_mcr = classifier_mcr.predict(X_test_mcr)"
   ]
  },
  {
   "cell_type": "code",
   "execution_count": null,
   "id": "dfe8c5f3-3851-468d-9891-b0d5ebec73de",
   "metadata": {
    "ExecuteTime": {
     "start_time": "2024-04-03T22:49:16.182288Z"
    }
   },
   "outputs": [],
   "source": [
    "# Compute ROC curve and ROC area for each class\n",
    "fpr = dict()\n",
    "tpr = dict()\n",
    "roc_auc = dict()\n",
    "n_classes = y_test_mcr.shape[1]\n",
    "for i in range(n_classes):\n",
    "    fpr[i], tpr[i], _ = metrics.roc_curve(y_test_mcr[:, i], y_score_mcr[:, i])\n",
    "    roc_auc[i] = metrics.auc(fpr[i], tpr[i])\n",
    "\n",
    "# Compute micro-average ROC curve and ROC area\n",
    "fpr[\"micro\"], tpr[\"micro\"], _ = metrics.roc_curve(y_test_mcr.ravel(), y_score_mcr.ravel())\n",
    "roc_auc[\"micro\"] = metrics.auc(fpr[\"micro\"], tpr[\"micro\"])\n",
    "\n",
    "# First aggregate all false positive rates\n",
    "all_fpr = np.unique(np.concatenate([fpr[i] for i in range(n_classes)]))\n",
    "\n",
    "# Then interpolate all ROC curves at this points\n",
    "mean_tpr = np.zeros_like(all_fpr)\n",
    "for i in range(n_classes):\n",
    "    mean_tpr += np.interp(all_fpr, fpr[i], tpr[i])\n",
    "\n",
    "# Finally average it and compute AUC\n",
    "mean_tpr /= n_classes\n",
    "\n",
    "fpr[\"macro\"] = all_fpr\n",
    "tpr[\"macro\"] = mean_tpr\n",
    "roc_auc[\"macro\"] = metrics.auc(fpr[\"macro\"], tpr[\"macro\"])\n",
    "\n",
    "# Plot all ROC curves\n",
    "fig1_mcrReduced = plt.figure()\n",
    "\n",
    "colors = cycle(['limegreen', 'lightgreen', 'gray', 'lightgray'])\n",
    "for i, color in zip(range(n_classes), colors):\n",
    "    plt.plot(\n",
    "        fpr[i],\n",
    "        tpr[i],\n",
    "        color=color,\n",
    "        lw=1,\n",
    "        label=\"ROC curve of class {0} (area = {1:0.2f})\".format(i, roc_auc[i]),\n",
    "    )\n",
    "\n",
    "plt.plot([0, 1], [0, 1], \"--\", color='lightgray')\n",
    "plt.xlim([0.0, 1.0])\n",
    "plt.ylim([0.0, 1.05])\n",
    "plt.xlabel(\"False Positive Rate\")\n",
    "plt.ylabel(\"True Positive Rate\")\n",
    "plt.title(\"MCR\")\n",
    "plt.legend(loc=\"lower right\")\n",
    "plt.show()\n"
   ]
  },
  {
   "cell_type": "code",
   "execution_count": null,
   "id": "5f235121-0ea0-46b3-b050-2db99d6ea170",
   "metadata": {
    "ExecuteTime": {
     "start_time": "2024-04-03T22:49:16.183109Z"
    }
   },
   "outputs": [],
   "source": [
    "# \n",
    "fig2_reduced = plt.figure()\n",
    "fpr = dict()\n",
    "tpr = dict()\n",
    "roc_auc = dict()\n",
    "for i in range(n_classes):\n",
    "    fpr[i], tpr[i], _ = metrics.roc_curve(y_test_mcr[:, i], y_score_mcr[:, i])\n",
    "    roc_auc[i] = metrics.auc(fpr[i], tpr[i])\n",
    "color_c = ['green', 'limegreen', 'blue', 'lightgray']\n",
    "class_c = ['OK', 'Consider', 'Go next season','Unknown']\n",
    "lw = [3,3,1,3]\n",
    "#linestyle = ['solid', 'dashed', '-.', '-.']\n",
    "# opacity/ transparency in lineplot ++\n",
    "\n",
    "for i, color in zip(range(n_classes), color_c):\n",
    "    plt.plot(fpr[i], tpr[i], color=color, lw=lw[i], \n",
    "             label=class_c[i]) \n",
    "plt.plot([0, 1], [0, 1], '--', color= 'lightgray',lw=1)\n",
    "plt.xlim([-0.05, 1.0])\n",
    "plt.ylim([0.0, 1.05])\n",
    "\n",
    "plt.ylabel('True Positive Rate')\n",
    "\n",
    "plt.xlabel('False Positive Rate')\n",
    "plt.legend(loc=\"lower right\")\n",
    "\n",
    "plt.show()\n",
    "fig2_reduced.savefig('Outputs/ROC curve MCR 1 reduced.png', dpi = 600)"
   ]
  },
  {
   "cell_type": "markdown",
   "id": "ecdb82e6-1b2e-4578-afa2-b4c20b1346f0",
   "metadata": {},
   "source": [
    "#### CDU ROC curve"
   ]
  },
  {
   "cell_type": "code",
   "execution_count": null,
   "id": "b331a5f9-3061-4db5-b726-5ca40c034e6c",
   "metadata": {
    "ExecuteTime": {
     "start_time": "2024-04-03T22:49:16.184011Z"
    }
   },
   "outputs": [],
   "source": [
    "# CDU\n",
    "classifier = OneVsRestClassifier(GaussianNB()).fit(X_train_cdu, y_train_cdu)\n",
    "y_score_cdu = classifier.predict_proba(X_test_cdu)\n",
    "y_pred_cdu = classifier.predict(X_test_cdu)\n",
    "n_classes = y_test_cdu.shape[1]\n",
    "\n",
    "fig2_reduced = plt.figure()\n",
    "fpr = dict()\n",
    "tpr = dict()\n",
    "roc_auc = dict()\n",
    "for i in range(n_classes):\n",
    "    fpr[i], tpr[i], _ = metrics.roc_curve(y_test_cdu[:, i], y_score_cdu[:, i])\n",
    "    roc_auc[i] = metrics.auc(fpr[i], tpr[i])\n",
    "color_c = ['green', 'blue', 'red', 'darkgray']\n",
    "class_c = ['OK', 'Consider', 'Not recommended','Unknown']\n",
    "linestyle = ['solid', 'dashed', 'solid', 'solid']\n",
    "lw = [3,3,1,3]\n",
    "# opacity/ transparency in lineplot ++\n",
    "\n",
    "for i, color in zip(range(n_classes), color_c):\n",
    "    plt.plot(fpr[i], tpr[i], color=color, lw=lw[i], linestyle=linestyle[i],\n",
    "             label=class_c[i]) \n",
    "plt.plot([0, 1], [0, 1], '--', color= 'lightgray',lw=1)\n",
    "plt.xlim([-0.05, 1.0])\n",
    "plt.ylim([0.0, 1.05])\n",
    "plt.xlabel('False Positive Rate')\n",
    "plt.ylabel('True Positive Rate')\n",
    "plt.legend(loc=\"lower right\")\n",
    "\n",
    "plt.show()\n",
    "fig2_reduced.savefig('Outputs/ROC curve cdu 1 reduced.png', dpi = 600)\n",
    "\n",
    "for i in range(n_classes):\n",
    "    fpr[i], tpr[i], _ = metrics.roc_curve(y_test_cdu[:, i], y_score_cdu[:, i])\n",
    "    roc_auc[i] = metrics.auc(fpr[i], tpr[i])\n",
    "roc_auc"
   ]
  },
  {
   "cell_type": "markdown",
   "id": "e2fbecd9-173a-425c-9060-df094bea9125",
   "metadata": {},
   "source": [
    "#### ISB ROC Curve"
   ]
  },
  {
   "cell_type": "code",
   "execution_count": null,
   "id": "94316689-362a-493d-8a50-77d636bc37dc",
   "metadata": {
    "ExecuteTime": {
     "start_time": "2024-04-03T22:49:16.184636Z"
    }
   },
   "outputs": [],
   "source": [
    "# ISB\n",
    "classifier = OneVsRestClassifier(GaussianNB()).fit(X_train_isb, y_train_isb)\n",
    "y_score_isb = classifier.predict_proba(X_test_isb)\n",
    "y_pred_isb = classifier.predict(X_test_isb)\n",
    "n_classes = y_test_isb.shape[1]\n",
    "\n",
    "fig4 = plt.figure()\n",
    "fpr = dict()\n",
    "tpr = dict()\n",
    "roc_auc = dict()\n",
    "for i in range(y_test_isb.shape[1]):\n",
    "    fpr[i], tpr[i], _ = metrics.roc_curve(y_test_isb[:, i], y_score_isb[:, i])\n",
    "    roc_auc[i] = metrics.auc(fpr[i], tpr[i])\n",
    "color_i = ['green', 'limegreen',  'darkgray']\n",
    "class_i = ['OK', 'Consider', 'Unknown']\n",
    "linestyle = ['solid', 'solid', 'solid']\n",
    "\n",
    "for i, color in zip(range(y_test_isb.shape[1]), color_i):\n",
    "    plt.plot(fpr[i], tpr[i], color=color, lw=lw[i], \n",
    "             label=class_i[i], linestyle=linestyle[i]) \n",
    "plt.plot([0, 1], [0, 1], '--', lw=1, color='lightgray')\n",
    "plt.xlim([-0.05, 1.0])\n",
    "plt.ylim([0.0, 1.05])\n",
    "plt.xlabel('False Positive Rate')\n",
    "plt.ylabel('True Positive Rate')\n",
    "plt.legend(loc=\"lower right\")\n",
    "\n",
    "plt.show()\n",
    "fig4.savefig('Outputs/ROC curve isb, reduced, name.png', dpi = 600)\n",
    "\n",
    "# print roc values\n",
    "for i in range(n_classes):\n",
    "    fpr[i], tpr[i], _ = metrics.roc_curve(y_test_isb[:, i], y_score_isb[:, i])\n",
    "    roc_auc[i] = metrics.auc(fpr[i], tpr[i])\n",
    "roc_auc"
   ]
  },
  {
   "cell_type": "code",
   "execution_count": null,
   "id": "5267c0dc-a4b3-41a4-bb49-ce21b05540f4",
   "metadata": {
    "ExecuteTime": {
     "start_time": "2024-04-03T22:49:16.185136Z"
    }
   },
   "outputs": [],
   "source": [
    "\"\"\"1. ROC curve in this Notebook is for OnevsRest classifier (not Multioutput classifier)\n",
    "\n",
    "\"\"\""
   ]
  },
  {
   "cell_type": "code",
   "execution_count": null,
   "id": "37aafa8b-2d38-4742-8a41-41381953469d",
   "metadata": {
    "ExecuteTime": {
     "start_time": "2024-04-03T22:49:16.185652Z"
    }
   },
   "outputs": [],
   "source": []
  }
 ],
 "metadata": {
  "kernelspec": {
   "display_name": "Python 3 (ipykernel)",
   "language": "python",
   "name": "python3"
  },
  "language_info": {
   "codemirror_mode": {
    "name": "ipython",
    "version": 3
   },
   "file_extension": ".py",
   "mimetype": "text/x-python",
   "name": "python",
   "nbconvert_exporter": "python",
   "pygments_lexer": "ipython3",
   "version": "3.8.12"
  }
 },
 "nbformat": 4,
 "nbformat_minor": 5
}

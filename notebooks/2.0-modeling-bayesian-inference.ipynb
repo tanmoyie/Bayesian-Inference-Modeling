{
 "cells": [
  {
   "cell_type": "markdown",
   "id": "83308f62-b6ea-4206-9f1d-7ae666615ef1",
   "metadata": {},
   "source": [
    "Modeling Preference Learning using Bayesian Inference\n",
    "\n",
    "Developer: Tanmoy Das <br>\n",
    "Date: June 13, 2022\n",
    "\n",
    "Outline: \n",
    "- Data processing <br>\n",
    "- Modeling <br>\n",
    "- Model Assessment and Validation <br>\n",
    "- Model Selection\n",
    "\n",
    "Content for the manuscript:\n",
    "- Figure 6: Visualizing performance of the full model; ROC curve of multiclass of MCR, CDU and ISB are shown in (a), (b), (c), respectively."
   ]
  },
  {
   "cell_type": "code",
   "execution_count": null,
   "id": "eafbd53b-fd82-475f-a956-21fd2508cd51",
   "metadata": {
    "ExecuteTime": {
     "end_time": "2024-04-06T19:23:57.186231Z",
     "start_time": "2024-04-06T19:23:57.177450Z"
    }
   },
   "outputs": [],
   "source": []
  },
  {
   "cell_type": "markdown",
   "id": "3c88e13d-a39f-42f9-9c88-0a04453b9ffb",
   "metadata": {},
   "source": [
    "# Data  "
   ]
  },
  {
   "cell_type": "code",
   "execution_count": null,
   "id": "e1748256-9802-48a0-8c8b-9dc5e1cbeb3d",
   "metadata": {
    "is_executing": true
   },
   "outputs": [],
   "source": [
    "# Import required Python libraries\n",
    "import pandas as pd\n",
    "import numpy as np\n",
    "\n",
    "# Preprocessing\n",
    "from sklearn.model_selection import train_test_split, StratifiedShuffleSplit\n",
    "\n",
    "# Modeling\n",
    "from itertools import cycle\n",
    "\n",
    "from sklearn.naive_bayes import GaussianNB\n",
    "from sklearn.multioutput import MultiOutputClassifier\n",
    "from sklearn.multiclass import OneVsRestClassifier \n",
    "\n",
    "# Metric\n",
    "from sklearn.metrics import confusion_matrix, multilabel_confusion_matrix, label_ranking_average_precision_score\n",
    "from sklearn import metrics\n",
    "\n",
    "# Visualization\n",
    "import matplotlib.pyplot as plt\n",
    "from sklearn.preprocessing import label_binarize\n",
    "from sklearn.metrics import roc_curve, auc\n",
    "\n",
    "\n",
    "# Saving model\n",
    "import joblib"
   ]
  },
  {
   "cell_type": "code",
   "execution_count": 2,
   "id": "4b309b72-5343-47a6-9c52-00e6c85e0066",
   "metadata": {
    "ExecuteTime": {
     "end_time": "2024-04-06T19:23:59.574796Z",
     "start_time": "2024-04-06T19:23:59.188515Z"
    }
   },
   "outputs": [
    {
     "ename": "FileNotFoundError",
     "evalue": "[Errno 2] No such file or directory: 'Inputs/data_engineered_PLeR_Modeling input.xlsx'",
     "output_type": "error",
     "traceback": [
      "\u001B[0;31m---------------------------------------------------------------------------\u001B[0m",
      "\u001B[0;31mFileNotFoundError\u001B[0m                         Traceback (most recent call last)",
      "Cell \u001B[0;32mIn[2], line 2\u001B[0m\n\u001B[1;32m      1\u001B[0m \u001B[38;5;66;03m# import data\u001B[39;00m\n\u001B[0;32m----> 2\u001B[0m data_engineered_PLeR_modeling \u001B[38;5;241m=\u001B[39m pd\u001B[38;5;241m.\u001B[39mread_excel(\u001B[38;5;124m\"\u001B[39m\u001B[38;5;124mInputs/data_engineered_PLeR_Modeling input.xlsx\u001B[39m\u001B[38;5;124m\"\u001B[39m, index_col\u001B[38;5;241m=\u001B[39m\u001B[38;5;124m'\u001B[39m\u001B[38;5;124mScene no.\u001B[39m\u001B[38;5;124m'\u001B[39m)\u001B[38;5;241m.\u001B[39mcopy()\n\u001B[1;32m      3\u001B[0m data_engineered_PLeR_modeling \u001B[38;5;241m=\u001B[39m data_engineered_PLeR_modeling\u001B[38;5;241m.\u001B[39mrename({\u001B[38;5;124m'\u001B[39m\u001B[38;5;124mmcr_DT_output\u001B[39m\u001B[38;5;124m'\u001B[39m: \u001B[38;5;124m'\u001B[39m\u001B[38;5;124mMCR options\u001B[39m\u001B[38;5;124m'\u001B[39m, \u001B[38;5;124m'\u001B[39m\u001B[38;5;124mcdu_DT_output\u001B[39m\u001B[38;5;124m'\u001B[39m: \u001B[38;5;124m'\u001B[39m\u001B[38;5;124mCDU options\u001B[39m\u001B[38;5;124m'\u001B[39m, \u001B[38;5;124m'\u001B[39m\u001B[38;5;124misb_DT_output\u001B[39m\u001B[38;5;124m'\u001B[39m:\u001B[38;5;124m'\u001B[39m\u001B[38;5;124mISB options\u001B[39m\u001B[38;5;124m'\u001B[39m}, axis\u001B[38;5;241m=\u001B[39m\u001B[38;5;124m'\u001B[39m\u001B[38;5;124mcolumns\u001B[39m\u001B[38;5;124m'\u001B[39m)\n\u001B[1;32m      4\u001B[0m display(data_engineered_PLeR_modeling)\n",
      "File \u001B[0;32m~/Applications/anaconda3/lib/python3.11/site-packages/pandas/util/_decorators.py:211\u001B[0m, in \u001B[0;36mdeprecate_kwarg.<locals>._deprecate_kwarg.<locals>.wrapper\u001B[0;34m(*args, **kwargs)\u001B[0m\n\u001B[1;32m    209\u001B[0m     \u001B[38;5;28;01melse\u001B[39;00m:\n\u001B[1;32m    210\u001B[0m         kwargs[new_arg_name] \u001B[38;5;241m=\u001B[39m new_arg_value\n\u001B[0;32m--> 211\u001B[0m \u001B[38;5;28;01mreturn\u001B[39;00m func(\u001B[38;5;241m*\u001B[39margs, \u001B[38;5;241m*\u001B[39m\u001B[38;5;241m*\u001B[39mkwargs)\n",
      "File \u001B[0;32m~/Applications/anaconda3/lib/python3.11/site-packages/pandas/util/_decorators.py:331\u001B[0m, in \u001B[0;36mdeprecate_nonkeyword_arguments.<locals>.decorate.<locals>.wrapper\u001B[0;34m(*args, **kwargs)\u001B[0m\n\u001B[1;32m    325\u001B[0m \u001B[38;5;28;01mif\u001B[39;00m \u001B[38;5;28mlen\u001B[39m(args) \u001B[38;5;241m>\u001B[39m num_allow_args:\n\u001B[1;32m    326\u001B[0m     warnings\u001B[38;5;241m.\u001B[39mwarn(\n\u001B[1;32m    327\u001B[0m         msg\u001B[38;5;241m.\u001B[39mformat(arguments\u001B[38;5;241m=\u001B[39m_format_argument_list(allow_args)),\n\u001B[1;32m    328\u001B[0m         \u001B[38;5;167;01mFutureWarning\u001B[39;00m,\n\u001B[1;32m    329\u001B[0m         stacklevel\u001B[38;5;241m=\u001B[39mfind_stack_level(),\n\u001B[1;32m    330\u001B[0m     )\n\u001B[0;32m--> 331\u001B[0m \u001B[38;5;28;01mreturn\u001B[39;00m func(\u001B[38;5;241m*\u001B[39margs, \u001B[38;5;241m*\u001B[39m\u001B[38;5;241m*\u001B[39mkwargs)\n",
      "File \u001B[0;32m~/Applications/anaconda3/lib/python3.11/site-packages/pandas/io/excel/_base.py:482\u001B[0m, in \u001B[0;36mread_excel\u001B[0;34m(io, sheet_name, header, names, index_col, usecols, squeeze, dtype, engine, converters, true_values, false_values, skiprows, nrows, na_values, keep_default_na, na_filter, verbose, parse_dates, date_parser, thousands, decimal, comment, skipfooter, convert_float, mangle_dupe_cols, storage_options)\u001B[0m\n\u001B[1;32m    480\u001B[0m \u001B[38;5;28;01mif\u001B[39;00m \u001B[38;5;129;01mnot\u001B[39;00m \u001B[38;5;28misinstance\u001B[39m(io, ExcelFile):\n\u001B[1;32m    481\u001B[0m     should_close \u001B[38;5;241m=\u001B[39m \u001B[38;5;28;01mTrue\u001B[39;00m\n\u001B[0;32m--> 482\u001B[0m     io \u001B[38;5;241m=\u001B[39m ExcelFile(io, storage_options\u001B[38;5;241m=\u001B[39mstorage_options, engine\u001B[38;5;241m=\u001B[39mengine)\n\u001B[1;32m    483\u001B[0m \u001B[38;5;28;01melif\u001B[39;00m engine \u001B[38;5;129;01mand\u001B[39;00m engine \u001B[38;5;241m!=\u001B[39m io\u001B[38;5;241m.\u001B[39mengine:\n\u001B[1;32m    484\u001B[0m     \u001B[38;5;28;01mraise\u001B[39;00m \u001B[38;5;167;01mValueError\u001B[39;00m(\n\u001B[1;32m    485\u001B[0m         \u001B[38;5;124m\"\u001B[39m\u001B[38;5;124mEngine should not be specified when passing \u001B[39m\u001B[38;5;124m\"\u001B[39m\n\u001B[1;32m    486\u001B[0m         \u001B[38;5;124m\"\u001B[39m\u001B[38;5;124man ExcelFile - ExcelFile already has the engine set\u001B[39m\u001B[38;5;124m\"\u001B[39m\n\u001B[1;32m    487\u001B[0m     )\n",
      "File \u001B[0;32m~/Applications/anaconda3/lib/python3.11/site-packages/pandas/io/excel/_base.py:1652\u001B[0m, in \u001B[0;36mExcelFile.__init__\u001B[0;34m(self, path_or_buffer, engine, storage_options)\u001B[0m\n\u001B[1;32m   1650\u001B[0m     ext \u001B[38;5;241m=\u001B[39m \u001B[38;5;124m\"\u001B[39m\u001B[38;5;124mxls\u001B[39m\u001B[38;5;124m\"\u001B[39m\n\u001B[1;32m   1651\u001B[0m \u001B[38;5;28;01melse\u001B[39;00m:\n\u001B[0;32m-> 1652\u001B[0m     ext \u001B[38;5;241m=\u001B[39m inspect_excel_format(\n\u001B[1;32m   1653\u001B[0m         content_or_path\u001B[38;5;241m=\u001B[39mpath_or_buffer, storage_options\u001B[38;5;241m=\u001B[39mstorage_options\n\u001B[1;32m   1654\u001B[0m     )\n\u001B[1;32m   1655\u001B[0m     \u001B[38;5;28;01mif\u001B[39;00m ext \u001B[38;5;129;01mis\u001B[39;00m \u001B[38;5;28;01mNone\u001B[39;00m:\n\u001B[1;32m   1656\u001B[0m         \u001B[38;5;28;01mraise\u001B[39;00m \u001B[38;5;167;01mValueError\u001B[39;00m(\n\u001B[1;32m   1657\u001B[0m             \u001B[38;5;124m\"\u001B[39m\u001B[38;5;124mExcel file format cannot be determined, you must specify \u001B[39m\u001B[38;5;124m\"\u001B[39m\n\u001B[1;32m   1658\u001B[0m             \u001B[38;5;124m\"\u001B[39m\u001B[38;5;124man engine manually.\u001B[39m\u001B[38;5;124m\"\u001B[39m\n\u001B[1;32m   1659\u001B[0m         )\n",
      "File \u001B[0;32m~/Applications/anaconda3/lib/python3.11/site-packages/pandas/io/excel/_base.py:1525\u001B[0m, in \u001B[0;36minspect_excel_format\u001B[0;34m(content_or_path, storage_options)\u001B[0m\n\u001B[1;32m   1522\u001B[0m \u001B[38;5;28;01mif\u001B[39;00m \u001B[38;5;28misinstance\u001B[39m(content_or_path, \u001B[38;5;28mbytes\u001B[39m):\n\u001B[1;32m   1523\u001B[0m     content_or_path \u001B[38;5;241m=\u001B[39m BytesIO(content_or_path)\n\u001B[0;32m-> 1525\u001B[0m \u001B[38;5;28;01mwith\u001B[39;00m get_handle(\n\u001B[1;32m   1526\u001B[0m     content_or_path, \u001B[38;5;124m\"\u001B[39m\u001B[38;5;124mrb\u001B[39m\u001B[38;5;124m\"\u001B[39m, storage_options\u001B[38;5;241m=\u001B[39mstorage_options, is_text\u001B[38;5;241m=\u001B[39m\u001B[38;5;28;01mFalse\u001B[39;00m\n\u001B[1;32m   1527\u001B[0m ) \u001B[38;5;28;01mas\u001B[39;00m handle:\n\u001B[1;32m   1528\u001B[0m     stream \u001B[38;5;241m=\u001B[39m handle\u001B[38;5;241m.\u001B[39mhandle\n\u001B[1;32m   1529\u001B[0m     stream\u001B[38;5;241m.\u001B[39mseek(\u001B[38;5;241m0\u001B[39m)\n",
      "File \u001B[0;32m~/Applications/anaconda3/lib/python3.11/site-packages/pandas/io/common.py:865\u001B[0m, in \u001B[0;36mget_handle\u001B[0;34m(path_or_buf, mode, encoding, compression, memory_map, is_text, errors, storage_options)\u001B[0m\n\u001B[1;32m    856\u001B[0m         handle \u001B[38;5;241m=\u001B[39m \u001B[38;5;28mopen\u001B[39m(\n\u001B[1;32m    857\u001B[0m             handle,\n\u001B[1;32m    858\u001B[0m             ioargs\u001B[38;5;241m.\u001B[39mmode,\n\u001B[0;32m   (...)\u001B[0m\n\u001B[1;32m    861\u001B[0m             newline\u001B[38;5;241m=\u001B[39m\u001B[38;5;124m\"\u001B[39m\u001B[38;5;124m\"\u001B[39m,\n\u001B[1;32m    862\u001B[0m         )\n\u001B[1;32m    863\u001B[0m     \u001B[38;5;28;01melse\u001B[39;00m:\n\u001B[1;32m    864\u001B[0m         \u001B[38;5;66;03m# Binary mode\u001B[39;00m\n\u001B[0;32m--> 865\u001B[0m         handle \u001B[38;5;241m=\u001B[39m \u001B[38;5;28mopen\u001B[39m(handle, ioargs\u001B[38;5;241m.\u001B[39mmode)\n\u001B[1;32m    866\u001B[0m     handles\u001B[38;5;241m.\u001B[39mappend(handle)\n\u001B[1;32m    868\u001B[0m \u001B[38;5;66;03m# Convert BytesIO or file objects passed with an encoding\u001B[39;00m\n",
      "\u001B[0;31mFileNotFoundError\u001B[0m: [Errno 2] No such file or directory: 'Inputs/data_engineered_PLeR_Modeling input.xlsx'"
     ]
    }
   ],
   "source": [
    "# import data\n",
    "data_engineered_PLeR_modeling = pd.read_excel(\"Inputs/data_engineered_PLeR_Modeling input.xlsx\", index_col='Scene no.').copy()\n",
    "data_engineered_PLeR_modeling = data_engineered_PLeR_modeling.rename({'mcr_DT_output': 'MCR options', 'cdu_DT_output': 'CDU options', 'isb_DT_output':'ISB options'}, axis='columns')\n",
    "display(data_engineered_PLeR_modeling)\n",
    "display(data_engineered_PLeR_modeling.info())\n",
    "display(data_engineered_PLeR_modeling.columns)"
   ]
  },
  {
   "cell_type": "code",
   "execution_count": null,
   "id": "c5151585-b345-4184-ac31-5f9897e3ebd5",
   "metadata": {
    "ExecuteTime": {
     "start_time": "2024-04-06T19:23:59.573129Z"
    }
   },
   "outputs": [],
   "source": [
    "# Features & Target variables\n",
    "X = data_engineered_PLeR_modeling.drop(columns=['MCR options', 'CDU options', 'ISB options'])\n",
    "y = data_engineered_PLeR_modeling[['MCR options', 'CDU options', 'ISB options']]"
   ]
  },
  {
   "cell_type": "code",
   "execution_count": null,
   "id": "84aa706d-8fcc-4a54-915b-7a0a7e677d05",
   "metadata": {
    "ExecuteTime": {
     "start_time": "2024-04-06T19:23:59.573905Z"
    }
   },
   "outputs": [],
   "source": [
    "# Save X & y\n",
    "X.to_excel('Inputs/X.xlsx')\n",
    "y.to_excel('Inputs/y.xlsx')"
   ]
  },
  {
   "cell_type": "markdown",
   "id": "1b3e99b0-7da7-4b10-b318-3150c1eda0c3",
   "metadata": {},
   "source": [
    "## Model for classifying MCR"
   ]
  },
  {
   "cell_type": "markdown",
   "id": "accf83ab-fb44-4b4a-88ad-608fed111239",
   "metadata": {},
   "source": [
    "### Data (Training and Test)"
   ]
  },
  {
   "cell_type": "code",
   "execution_count": null,
   "id": "52ce80d4-10d6-4284-a891-d37029e4ac76",
   "metadata": {
    "ExecuteTime": {
     "start_time": "2024-04-06T19:23:59.574750Z"
    }
   },
   "outputs": [],
   "source": [
    "# Binarize multi-classes (e.g. [1, 2, 2, 3] will be converted into [[1, 0, 0, 0],[0, 1, 1, 0],[0, 1, 1, 0],[0, 0, 0, 1]]\n",
    "# Binarization is needed to calculate FPR & other metric & to draw ROC curve for Multi-class (we dont need binarization for binary classification)\n",
    "# Label binarizer will broadcast 1D array into multiclass array\n",
    "# y = [0 ,1 , 2, 1, 0]\n",
    "# y_label_binarize = [ [1, 0, 0, 0, 0], []] # similar data/array dimension changes happen in one-hot encoding\n",
    "\n",
    "# Binarize the output\n",
    "y_m_b = label_binarize(y['MCR options'], classes=[10, 8, 2, -2])\n",
    "n_classes = y_m_b.shape[1]\n",
    "\n",
    "X_train, X_test, y_train, y_test = train_test_split(X, y_m_b, test_size=0.20, random_state=12)\n"
   ]
  },
  {
   "cell_type": "markdown",
   "id": "40c16650-864f-4496-aaa9-548ef934fc99",
   "metadata": {},
   "source": [
    "### Model Training"
   ]
  },
  {
   "cell_type": "code",
   "execution_count": null,
   "id": "3a8d4fef-2966-4c4c-acd9-fda623347de9",
   "metadata": {
    "ExecuteTime": {
     "end_time": "2024-04-06T19:23:59.582617Z",
     "start_time": "2024-04-06T19:23:59.575601Z"
    }
   },
   "outputs": [],
   "source": [
    "# modeling\n",
    "model_GB_ins =  OneVsRestClassifier(GaussianNB())\n",
    "model_GB = model_GB_ins.fit(X_train, y_train)\n",
    "\n",
    "# model_gb_m = MultiOutputClassifier(model_GB).fit(X_train, y_train)\n",
    "\n",
    "#MultiOutputClassifier(KNeighborsClassifier()).fit(X, y)\n",
    "# https://scikit-learn.org/stable/modules/generated/sklearn.multioutput.MultiOutputClassifier.html\n",
    "#Predict\n",
    "y_pred = model_GB.predict(X_test)\n",
    "\n",
    "y_score = model_GB.predict_proba(X_test)\n",
    "\n",
    "# You should pass into roc_curve function result of decision_function (or some of two columns from predict_proba result) instead of actual predictions\n",
    "# https://stackoverflow.com/questions/33208897/how-to-interpret-this-triangular-shape-roc-auc-curve/33218642#33218642"
   ]
  },
  {
   "cell_type": "markdown",
   "id": "b2aff920-86bb-4b23-b3f9-8d08d1762058",
   "metadata": {},
   "source": [
    "### Model Assessment"
   ]
  },
  {
   "cell_type": "code",
   "execution_count": null,
   "id": "ad379930-6434-4cf7-a2f3-3024c5868983",
   "metadata": {
    "ExecuteTime": {
     "start_time": "2024-04-06T19:23:59.576397Z"
    }
   },
   "outputs": [],
   "source": [
    "from sklearn.metrics import roc_auc_score\n",
    "\n",
    "macro_roc_auc_ovo = roc_auc_score(y_test, y_pred, multi_class=\"ovo\", average=\"macro\")\n",
    "weighted_roc_auc_ovo = roc_auc_score(\n",
    "    y_test, y_score, multi_class=\"ovo\", average=\"weighted\"\n",
    ")\n",
    "macro_roc_auc_ovo\n",
    "weighted_roc_auc_ovo"
   ]
  },
  {
   "cell_type": "markdown",
   "id": "50fdbdab-39f6-44ce-9754-120eeb5e346e",
   "metadata": {},
   "source": [
    "#### ROC with class name"
   ]
  },
  {
   "cell_type": "code",
   "execution_count": null,
   "id": "6b05f636-48a2-4097-94a5-12e55a53751c",
   "metadata": {
    "ExecuteTime": {
     "start_time": "2024-04-06T19:23:59.577312Z"
    }
   },
   "outputs": [],
   "source": [
    "# Binarize the output\n",
    "y_m_b = label_binarize(y['MCR options'], classes=[10, 8, 2, -2])\n",
    "n_classes = y_m_b.shape[1]\n",
    "X_train, X_test, y_train, y_test = train_test_split(X, y_m_b, test_size=0.20, random_state=12)\n",
    "\n",
    "# MCR \n",
    "classifier = OneVsRestClassifier(GaussianNB()).fit(X_train, y_train)\n",
    "y_score = classifier.predict_proba(X_test)\n",
    "y_pred = classifier.predict(X_test)\n",
    "\n",
    "fig2 = plt.figure()\n",
    "fpr = dict()\n",
    "tpr = dict()\n",
    "roc_auc = dict()\n",
    "for i in range(n_classes):\n",
    "    fpr[i], tpr[i], _ = roc_curve(y_test[:, i], y_score[:, i])\n",
    "    roc_auc[i] = auc(fpr[i], tpr[i])\n",
    "color_c = ['green', 'lightgreen', 'blue', 'lightgray']\n",
    "class_c = ['OK', 'Consider', 'Go next season','Unknown']\n",
    "lw = [3,3,1,3]\n",
    "#linestyle = ['solid', 'dashed', '-.', '-.']\n",
    "# opacity/ transparency in lineplot ++\n",
    "\n",
    "for i, color in zip(range(n_classes), color_c):\n",
    "    plt.plot(fpr[i], tpr[i], color=color, lw=lw[i], #, linestyle=linestyle[i]\n",
    "             label=class_c[i]) \n",
    "plt.plot([0, 1], [0, 1], '--', color= 'lightgray',lw=1)\n",
    "plt.xlim([-0.05, 1.0])\n",
    "plt.ylim([0.0, 1.05])\n",
    "#plt.xlabel('False Positive Rate')\n",
    "plt.ylabel(\"True Positive Rate\")\n",
    "plt.legend(loc=\"lower right\")\n",
    "\n",
    "plt.show()\n",
    "fig2.savefig('Outputs/ROC curve mcr, full, name.png', dpi = 600)"
   ]
  },
  {
   "cell_type": "markdown",
   "id": "ad326eed-2118-4e1f-b2d9-6f25dc227318",
   "metadata": {},
   "source": [
    "####  ROC curve with AUC values"
   ]
  },
  {
   "cell_type": "code",
   "execution_count": null,
   "id": "18b45dd7-20f8-44a0-b65d-062fb563bc30",
   "metadata": {
    "ExecuteTime": {
     "start_time": "2024-04-06T19:23:59.578164Z"
    }
   },
   "outputs": [],
   "source": [
    "# Compute ROC curve and ROC area for each class\n",
    "fpr = dict()\n",
    "tpr = dict()\n",
    "roc_auc = dict()\n",
    "for i in range(n_classes):\n",
    "    fpr[i], tpr[i], _ = roc_curve(y_test[:, i], y_score[:, i])\n",
    "    roc_auc[i] = auc(fpr[i], tpr[i])\n",
    "\n",
    "# Compute micro-average ROC curve and ROC area\n",
    "fpr[\"micro\"], tpr[\"micro\"], _ = roc_curve(y_test.ravel(), y_score.ravel())\n",
    "roc_auc[\"micro\"] = auc(fpr[\"micro\"], tpr[\"micro\"])"
   ]
  },
  {
   "cell_type": "code",
   "execution_count": null,
   "id": "4c6085e5-d5c7-4f03-9e4c-dcf8f3c3a248",
   "metadata": {
    "ExecuteTime": {
     "start_time": "2024-04-06T19:23:59.579409Z"
    }
   },
   "outputs": [],
   "source": [
    "# First aggregate all false positive rates\n",
    "all_fpr = np.unique(np.concatenate([fpr[i] for i in range(n_classes)]))\n",
    "\n",
    "# Then interpolate all ROC curves at this points\n",
    "mean_tpr = np.zeros_like(all_fpr)\n",
    "for i in range(n_classes):\n",
    "    mean_tpr += np.interp(all_fpr, fpr[i], tpr[i])\n",
    "\n",
    "# Finally average it and compute AUC\n",
    "mean_tpr /= n_classes\n",
    "\n",
    "fpr[\"macro\"] = all_fpr\n",
    "tpr[\"macro\"] = mean_tpr\n",
    "roc_auc[\"macro\"] = auc(fpr[\"macro\"], tpr[\"macro\"])\n",
    "\n",
    "# Plot all ROC curves\n",
    "fig = plt.figure()\n",
    "plt.plot(\n",
    "    fpr[\"micro\"],\n",
    "    tpr[\"micro\"],\n",
    "    label=\"micro-avg (area = {0:0.2f})\".format(roc_auc[\"micro\"]),\n",
    "    color=\"black\",\n",
    "    linestyle=\":\",\n",
    "    linewidth=2,\n",
    ")\n",
    "\n",
    "plt.plot(\n",
    "    fpr[\"macro\"],\n",
    "    tpr[\"macro\"],\n",
    "    label=\"macro-avg (area = {0:0.2f})\".format(roc_auc[\"macro\"]),\n",
    "    color=\"navy\",\n",
    "    linestyle=\":\",\n",
    "    linewidth=2,\n",
    ")\n",
    "\n",
    "colors = cycle(['limegreen', 'lightgreen', 'gray', 'lightgray'])\n",
    "for i, color in zip(range(n_classes), colors):\n",
    "    plt.plot(\n",
    "        fpr[i],\n",
    "        tpr[i],\n",
    "        color=color,\n",
    "        lw=1,\n",
    "        label=\"ROC curve of class {0} (area = {1:0.2f})\".format(i, roc_auc[i]),\n",
    "    )\n",
    "\n",
    "plt.plot([0, 1], [0, 1], \"--\", color='lightgray')\n",
    "plt.xlim([0.0, 1.0])\n",
    "plt.ylim([0.0, 1.05])\n",
    "plt.xlabel(\"False Positive Rate\")\n",
    "plt.ylabel(\"True Positive Rate\")\n",
    "plt.title(\"MCR\")\n",
    "plt.legend(loc=\"lower right\")\n",
    "plt.show()"
   ]
  },
  {
   "cell_type": "markdown",
   "id": "429ac68f-eb83-421e-a340-6c038c6542d8",
   "metadata": {},
   "source": [
    "#### Confusion metric"
   ]
  },
  {
   "cell_type": "code",
   "execution_count": null,
   "id": "8768624d-7aa9-4899-bee0-86e6d8516ca2",
   "metadata": {
    "ExecuteTime": {
     "start_time": "2024-04-06T19:23:59.579932Z"
    }
   },
   "outputs": [],
   "source": [
    "cm = confusion_matrix(y_test.argmax(axis=1), y_pred.argmax(axis=1))\n",
    "cm_df = pd.DataFrame(cm,\n",
    "                     index = ['OK', 'Consider', 'Go next season', 'Unknown'], \n",
    "                     columns = ['OK', 'Consider', 'Go next season', 'Unknown'])\n",
    "cm_df"
   ]
  },
  {
   "cell_type": "markdown",
   "id": "0f87121a-1793-4fbd-8de6-fba5921028fc",
   "metadata": {},
   "source": [
    "#### LRAP"
   ]
  },
  {
   "cell_type": "code",
   "execution_count": null,
   "id": "eace0d2d-9836-4984-a70c-309195aaa3f3",
   "metadata": {
    "ExecuteTime": {
     "start_time": "2024-04-06T19:23:59.580659Z"
    }
   },
   "outputs": [],
   "source": [
    "label_ranking_average_precision_score(y_test, y_score)"
   ]
  },
  {
   "cell_type": "markdown",
   "id": "f68ddb3c-7e0b-478c-8af0-3a82d6fa94b5",
   "metadata": {},
   "source": [
    "## Model for classifying CDU"
   ]
  },
  {
   "cell_type": "code",
   "execution_count": null,
   "id": "36f6d98d-8fec-4ab2-8bd7-be1952450134",
   "metadata": {
    "ExecuteTime": {
     "start_time": "2024-04-06T19:23:59.582451Z"
    }
   },
   "outputs": [],
   "source": [
    "display(y['CDU options'].value_counts())"
   ]
  },
  {
   "cell_type": "markdown",
   "id": "cadb4786-9380-4e6a-b3d0-bb0b1ee2a80c",
   "metadata": {},
   "source": [
    "### Data, Modeling and Assessment"
   ]
  },
  {
   "cell_type": "code",
   "execution_count": null,
   "id": "7dc55461-5000-473a-b086-0056f598877c",
   "metadata": {
    "ExecuteTime": {
     "end_time": "2024-04-06T19:23:59.637582Z",
     "start_time": "2024-04-06T19:23:59.582907Z"
    }
   },
   "outputs": [],
   "source": [
    "# Binarize the output\n",
    "y_c_b = label_binarize(y['CDU options'], classes=[10, 8, -2, -10])\n",
    "n_classes = y_c_b.shape[1]\n",
    "X_train, X_test, y_train, y_test = train_test_split(X, y_c_b, test_size=0.20, random_state=12)\n",
    "\n",
    "# CDU \n",
    "classifier = OneVsRestClassifier(GaussianNB()).fit(X_train, y_train)\n",
    "y_score = classifier.predict_proba(X_test)\n",
    "y_pred = classifier.predict(X_test)\n",
    "\n",
    "fig2 = plt.figure()\n",
    "fpr = dict()\n",
    "tpr = dict()\n",
    "roc_auc = dict()\n",
    "for i in range(n_classes):\n",
    "    fpr[i], tpr[i], _ = roc_curve(y_test[:, i], y_score[:, i])\n",
    "    roc_auc[i] = auc(fpr[i], tpr[i])\n",
    "color_c = ['green', 'blue', 'red', 'lightgray']\n",
    "class_c = ['OK', 'Consider', 'Not recommended','Unknown']\n",
    "#linestyle = ['solid', 'dashed', '-.', '-.']\n",
    "# opacity/ transparency in lineplot ++\n",
    "lw = [5,2,2,2]\n",
    "for i, color in zip(range(n_classes), color_c):\n",
    "    plt.plot(fpr[i], tpr[i], color=color, lw=lw[i], #, linestyle=linestyle[i]\n",
    "             label=class_c[i]) \n",
    "plt.plot([0, 1], [0, 1], '--', color= 'lightgray',lw=1)\n",
    "plt.xlim([-0.05, 1.0])\n",
    "plt.ylim([0.0, 1.05])\n",
    "#plt.xlabel('False Positive Rate')\n",
    "plt.ylabel(\"True Positive Rate\")\n",
    "\n",
    "plt.legend(loc=\"lower right\")\n",
    "\n",
    "plt.show()\n",
    "fig2.savefig('Outputs/ROC curve cdu, full, name.png', dpi = 600)"
   ]
  },
  {
   "cell_type": "code",
   "execution_count": null,
   "id": "a7a0cc3d-6497-4eca-ab38-bfa03a6537ab",
   "metadata": {
    "ExecuteTime": {
     "start_time": "2024-04-06T19:23:59.583101Z"
    }
   },
   "outputs": [],
   "source": [
    "# Compute ROC curve and ROC area for each class\n",
    "fpr = dict()\n",
    "tpr = dict()\n",
    "roc_auc = dict()\n",
    "for i in range(n_classes):\n",
    "    fpr[i], tpr[i], _ = roc_curve(y_test[:, i], y_score[:, i])\n",
    "    roc_auc[i] = auc(fpr[i], tpr[i])\n",
    "\n",
    "# Compute micro-average ROC curve and ROC area\n",
    "fpr[\"micro\"], tpr[\"micro\"], _ = roc_curve(y_test.ravel(), y_score.ravel())\n",
    "roc_auc[\"micro\"] = auc(fpr[\"micro\"], tpr[\"micro\"])\n",
    "\n",
    "\n",
    "# First aggregate all false positive rates\n",
    "all_fpr = np.unique(np.concatenate([fpr[i] for i in range(n_classes)]))\n",
    "\n",
    "# Then interpolate all ROC curves at this points\n",
    "mean_tpr = np.zeros_like(all_fpr)\n",
    "for i in range(n_classes):\n",
    "    mean_tpr += np.interp(all_fpr, fpr[i], tpr[i])\n",
    "\n",
    "# Finally average it and compute AUC\n",
    "mean_tpr /= n_classes\n",
    "\n",
    "fpr[\"macro\"] = all_fpr\n",
    "tpr[\"macro\"] = mean_tpr\n",
    "roc_auc[\"macro\"] = auc(fpr[\"macro\"], tpr[\"macro\"])\n",
    "\n",
    "# Plot all ROC curves\n",
    "fig3 = plt.figure()\n",
    "plt.plot(\n",
    "    fpr[\"micro\"],\n",
    "    tpr[\"micro\"],\n",
    "    label=\"micro-avg (area = {0:0.2f})\".format(roc_auc[\"micro\"]),\n",
    "    color=\"black\",\n",
    "    linestyle=\":\",\n",
    "    linewidth=2,\n",
    ")\n",
    "\n",
    "plt.plot(\n",
    "    fpr[\"macro\"],\n",
    "    tpr[\"macro\"],\n",
    "    label=\"macro-avg (area = {0:0.2f})\".format(roc_auc[\"macro\"]),\n",
    "    color=\"navy\",\n",
    "    linestyle=\":\",\n",
    "    linewidth=2,\n",
    ")\n",
    "\n",
    "colors = cycle(['limegreen', 'lightgreen', 'gray', 'lightgray'])\n",
    "for i, color in zip(range(n_classes), colors):\n",
    "    plt.plot(\n",
    "        fpr[i],\n",
    "        tpr[i],\n",
    "        color=color,\n",
    "        lw=3,\n",
    "        label=\"ROC curve of class {0} (area = {1:0.2f})\".format(i, roc_auc[i]),\n",
    "    )\n",
    "\n",
    "plt.plot([0, 1], [0, 1], \"--\", color='lightgray')\n",
    "plt.xlim([0.0, 1.0])\n",
    "plt.ylim([0.0, 1.05])\n",
    "#plt.xlabel(\"False Positive Rate\")\n",
    "plt.ylabel(\"True Positive Rate\")\n",
    "plt.title(\"CDU\")\n",
    "plt.legend(loc=\"lower right\")\n",
    "plt.show()"
   ]
  },
  {
   "cell_type": "code",
   "execution_count": null,
   "id": "9cc3fae1-85cf-4e22-bcd9-ad1f8ca9033a",
   "metadata": {
    "ExecuteTime": {
     "start_time": "2024-04-06T19:23:59.584156Z"
    }
   },
   "outputs": [],
   "source": []
  },
  {
   "cell_type": "code",
   "execution_count": null,
   "id": "979f0d02-d786-4fce-a56a-1775cb77038f",
   "metadata": {
    "ExecuteTime": {
     "start_time": "2024-04-06T19:23:59.585233Z"
    }
   },
   "outputs": [],
   "source": [
    "cm_c = multilabel_confusion_matrix(y_test, y_pred)\n",
    "cm_c"
   ]
  },
  {
   "cell_type": "code",
   "execution_count": null,
   "id": "e6c8372c-9366-49b2-9134-454d666d6e96",
   "metadata": {
    "ExecuteTime": {
     "start_time": "2024-04-06T19:23:59.586936Z"
    }
   },
   "outputs": [],
   "source": [
    "cm_c = confusion_matrix(y_test.argmax(axis=1), y_pred.argmax(axis=1))\n",
    "display(cm_c)\n",
    "\n",
    "cm_df = pd.DataFrame(cm_c,\n",
    "                     index = ['OK',  'Not recommended','Unknown'], \n",
    "                     columns = ['OK',   'Not recommended','Unknown'])\n",
    "cm_df\n"
   ]
  },
  {
   "cell_type": "code",
   "execution_count": null,
   "id": "2eb5ebf0-0b9d-47b4-bc33-d8a110d583cb",
   "metadata": {
    "ExecuteTime": {
     "start_time": "2024-04-06T19:23:59.588094Z"
    }
   },
   "outputs": [],
   "source": [
    "label_ranking_average_precision_score(y_test, y_score)"
   ]
  },
  {
   "cell_type": "markdown",
   "id": "f4201f77-6fde-4613-bc7e-4fd62d777e26",
   "metadata": {},
   "source": [
    "## Model for classifying ISB"
   ]
  },
  {
   "cell_type": "code",
   "execution_count": null,
   "id": "d3d40951-0321-4aee-9ee0-2446e67ab5d0",
   "metadata": {
    "ExecuteTime": {
     "start_time": "2024-04-06T19:23:59.589006Z"
    }
   },
   "outputs": [],
   "source": [
    "display(y['ISB options'].value_counts())\n",
    "display(y['ISB options'])\n"
   ]
  },
  {
   "cell_type": "code",
   "execution_count": null,
   "id": "8fdcb6ce-ab9b-494b-b45a-7e65f1f67718",
   "metadata": {
    "ExecuteTime": {
     "start_time": "2024-04-06T19:23:59.589939Z"
    }
   },
   "outputs": [],
   "source": []
  },
  {
   "cell_type": "code",
   "execution_count": null,
   "id": "fabebb3f-7b58-45b6-9eda-7e229c59e782",
   "metadata": {
    "ExecuteTime": {
     "start_time": "2024-04-06T19:23:59.590995Z"
    }
   },
   "outputs": [],
   "source": [
    "# Binarize the output\n",
    "y_i_b = label_binarize(y['ISB options'], classes=[10, 8, -2])\n",
    "n_classes = y_i_b.shape[1]\n",
    "X_train, X_test, y_train, y_test = train_test_split(X, y_i_b, test_size=0.20, random_state=12)\n",
    "\n",
    "# ISB\n",
    "classifier = OneVsRestClassifier(GaussianNB()).fit(X_train, y_train)\n",
    "y_score = classifier.predict_proba(X_test)\n",
    "y_pred = classifier.predict(X_test)\n",
    "\n",
    "fig4 = plt.figure()\n",
    "fpr = dict()\n",
    "tpr = dict()\n",
    "roc_auc = dict()\n",
    "for i in range(n_classes):\n",
    "    fpr[i], tpr[i], _ = roc_curve(y_test[:, i], y_score[:, i])\n",
    "    roc_auc[i] = auc(fpr[i], tpr[i])\n",
    "color_i = ['green', 'limegreen',  'darkgray']\n",
    "class_i = ['OK', 'Consider', 'Unknown']\n",
    "linestyle = ['solid', 'solid', '--']\n",
    "\n",
    "for i, color in zip(range(n_classes), color_i):\n",
    "    plt.plot(fpr[i], tpr[i], color=color, lw=3, \n",
    "             label=class_i[i], linestyle=linestyle[i]) \n",
    "plt.plot([0, 1], [0, 1], '--', lw=1, color='lightgray')\n",
    "plt.xlim([-0.05, 1.0])\n",
    "plt.ylim([0.0, 1.05])\n",
    "plt.ylabel('True Positive Rate')\n",
    "\n",
    "plt.xlabel('False Positive Rate')\n",
    "plt.legend(loc=\"lower right\")\n",
    "\n",
    "plt.show()\n",
    "fig4.savefig('Outputs/ROC curve isb, full, name.png', dpi = 600)"
   ]
  },
  {
   "cell_type": "code",
   "execution_count": null,
   "id": "73e6c54a-702f-4613-9c27-1caea5a958ae",
   "metadata": {
    "ExecuteTime": {
     "start_time": "2024-04-06T19:23:59.591570Z"
    }
   },
   "outputs": [],
   "source": [
    "# Compute ROC curve and ROC area for each class\n",
    "fpr = dict()\n",
    "tpr = dict()\n",
    "roc_auc = dict()\n",
    "for i in range(n_classes):\n",
    "    fpr[i], tpr[i], _ = roc_curve(y_test[:, i], y_score[:, i])\n",
    "    roc_auc[i] = auc(fpr[i], tpr[i])\n",
    "\n",
    "# Compute micro-average ROC curve and ROC area\n",
    "fpr[\"micro\"], tpr[\"micro\"], _ = roc_curve(y_test.ravel(), y_score.ravel())\n",
    "roc_auc[\"micro\"] = auc(fpr[\"micro\"], tpr[\"micro\"])\n",
    "\n",
    "\n",
    "# First aggregate all false positive rates\n",
    "all_fpr = np.unique(np.concatenate([fpr[i] for i in range(n_classes)]))\n",
    "\n",
    "# Then interpolate all ROC curves at this points\n",
    "mean_tpr = np.zeros_like(all_fpr)\n",
    "for i in range(n_classes):\n",
    "    mean_tpr += np.interp(all_fpr, fpr[i], tpr[i])\n",
    "\n",
    "# Finally average it and compute AUC\n",
    "mean_tpr /= n_classes\n",
    "\n",
    "fpr[\"macro\"] = all_fpr\n",
    "tpr[\"macro\"] = mean_tpr\n",
    "roc_auc[\"macro\"] = auc(fpr[\"macro\"], tpr[\"macro\"])\n",
    "\n",
    "# Plot all ROC curves\n",
    "fig5 = plt.figure()\n",
    "\"\"\"\n",
    "plt.plot(\n",
    "    fpr[\"micro\"],\n",
    "    tpr[\"micro\"],\n",
    "    label=\"micro-avg (area = {0:0.2f})\".format(roc_auc[\"micro\"]),\n",
    "    color=\"darkgray\",\n",
    "    linestyle=\":\",\n",
    "    linewidth=2,\n",
    ")\n",
    "\n",
    "plt.plot(\n",
    "    fpr[\"macro\"],\n",
    "    tpr[\"macro\"],\n",
    "    label=\"macro-avg (area = {0:0.2f})\".format(roc_auc[\"macro\"]),\n",
    "    color=\"navy\",\n",
    "    linestyle=\":\",\n",
    "    linewidth=2,\n",
    ")\n",
    "\"\"\"\n",
    "colors = cycle(['limegreen', 'blue', 'gray'])\n",
    "for i, color in zip(range(n_classes), colors):\n",
    "    plt.plot(\n",
    "        fpr[i],\n",
    "        tpr[i],\n",
    "        color=color,\n",
    "        lw=3,\n",
    "        label=\"class {0} (area = {1:0.2f})\".format(i, roc_auc[i]),\n",
    "    )\n",
    "\n",
    "plt.plot([0, 1], [0, 1], \"--\", color='lightgray')\n",
    "plt.xlim([0.0, 1.0])\n",
    "plt.ylim([0.0, 1.05])\n",
    "#plt.xlabel(\"False Positive Rate\")\n",
    "plt.ylabel(\"True Positive Rate\")\n",
    "plt.legend(loc=\"lower right\")\n",
    "plt.show()"
   ]
  },
  {
   "cell_type": "code",
   "execution_count": null,
   "id": "44ab945b-a860-4b05-80df-bb1c2e2b7e0d",
   "metadata": {
    "ExecuteTime": {
     "start_time": "2024-04-06T19:23:59.592127Z"
    }
   },
   "outputs": [],
   "source": []
  },
  {
   "cell_type": "code",
   "execution_count": null,
   "id": "de167d18-d178-4b12-868e-fd90b957db11",
   "metadata": {
    "ExecuteTime": {
     "start_time": "2024-04-06T19:23:59.592738Z"
    }
   },
   "outputs": [],
   "source": [
    "cm = confusion_matrix(y_test.argmax(axis=1), y_pred.argmax(axis=1))\n",
    "cm\n",
    "cm_df = pd.DataFrame(cm,\n",
    "                     index = ['OK', 'Consider',  'Unknown'], \n",
    "                     columns = ['OK', 'Consider', 'Unknown'])\n",
    "cm_df"
   ]
  },
  {
   "cell_type": "code",
   "execution_count": null,
   "id": "5fb752d9-ed10-48f5-abe2-f11c25cfdbab",
   "metadata": {
    "ExecuteTime": {
     "start_time": "2024-04-06T19:23:59.593194Z"
    }
   },
   "outputs": [],
   "source": [
    "cm_c = multilabel_confusion_matrix(y_test, y_pred)\n",
    "cm_c"
   ]
  },
  {
   "cell_type": "markdown",
   "id": "ab2d6a7b-c96b-49c8-82b8-5963c0e2e293",
   "metadata": {},
   "source": [
    "## Miscell"
   ]
  },
  {
   "cell_type": "code",
   "execution_count": null,
   "id": "7baf0c62-07f4-48ef-8c5c-4246a3c59977",
   "metadata": {
    "ExecuteTime": {
     "start_time": "2024-04-06T19:23:59.593731Z"
    }
   },
   "outputs": [],
   "source": []
  },
  {
   "cell_type": "code",
   "execution_count": null,
   "id": "56a5ab27-2cc2-424e-8e91-b0d59b08d228",
   "metadata": {
    "ExecuteTime": {
     "start_time": "2024-04-06T19:23:59.594232Z"
    }
   },
   "outputs": [],
   "source": []
  },
  {
   "cell_type": "code",
   "execution_count": null,
   "id": "7a8603ad-9bb8-4b83-a8ab-75ea3033afde",
   "metadata": {
    "ExecuteTime": {
     "start_time": "2024-04-06T19:23:59.594692Z"
    }
   },
   "outputs": [],
   "source": [
    "classifier.get_params()"
   ]
  },
  {
   "cell_type": "code",
   "execution_count": null,
   "id": "7b2e4f7c-f7b5-413a-b0e7-a103b00ce122",
   "metadata": {
    "ExecuteTime": {
     "start_time": "2024-04-06T19:23:59.595305Z"
    }
   },
   "outputs": [],
   "source": [
    "classifier.estimator.get_params()"
   ]
  },
  {
   "cell_type": "markdown",
   "id": "71838b59-15dd-4e6c-98ea-9102b4bc04d6",
   "metadata": {},
   "source": [
    "## Multioutput multiclass classification"
   ]
  },
  {
   "cell_type": "code",
   "execution_count": null,
   "id": "d8061a43-322e-4e7f-ad8f-ee30bc91bbe2",
   "metadata": {
    "ExecuteTime": {
     "start_time": "2024-04-06T19:23:59.595844Z"
    }
   },
   "outputs": [],
   "source": [
    "\n",
    "X = data_engineered_PLeR_modeling.drop(columns=['MCR options', 'CDU options', 'ISB options'])\n",
    "y = data_engineered_PLeR_modeling[['MCR options', 'CDU options', 'ISB options']]\n",
    "\n",
    "# Drop y with Consider class which has only 5 records\n",
    "#X\n",
    "y = y[y['CDU options'] != 8]\n",
    "X = X.drop(['Scene 26', 'Scene 1247', 'Scene 1380', 'Scene 1655', 'Scene 2109']) # y[y['CDU options'] == 8].index.values\n",
    "\n",
    "\n",
    "# Data Split\n",
    "X_train, X_test, y_train, y_test = train_test_split(X, y, test_size=0.20, random_state=12)\n"
   ]
  },
  {
   "cell_type": "code",
   "execution_count": null,
   "id": "b3fef98c-474f-4937-be3b-0dfd7db76a2f",
   "metadata": {
    "ExecuteTime": {
     "start_time": "2024-04-06T19:23:59.596517Z"
    }
   },
   "outputs": [],
   "source": [
    "display(y_train['CDU options'].value_counts())\n",
    "display(y_test['CDU options'].value_counts())"
   ]
  },
  {
   "cell_type": "code",
   "execution_count": null,
   "id": "ae6d84e4-47f2-4002-a6a2-ccd55208ec26",
   "metadata": {
    "ExecuteTime": {
     "start_time": "2024-04-06T19:23:59.597041Z"
    }
   },
   "outputs": [],
   "source": [
    "# Save training and testing data\n",
    "X_train.to_excel('Inputs/X_train.xlsx')\n",
    "X_test.to_excel('Inputs/X_test.xlsx')\n",
    "y_train.to_excel('Inputs/y_train.xlsx')\n",
    "y_test.to_excel('Inputs/y_test.xlsx')"
   ]
  },
  {
   "cell_type": "code",
   "execution_count": null,
   "id": "e099dc75-9044-4fb5-8761-2cd6c823dbe8",
   "metadata": {
    "ExecuteTime": {
     "start_time": "2024-04-06T19:23:59.597609Z"
    }
   },
   "outputs": [],
   "source": [
    "# modeling\n",
    "model_GB_ins =  GaussianNB()\n",
    "\n",
    "model_gnb_multioutput = MultiOutputClassifier(model_GB_ins).fit(X_train, y_train)\n",
    "# https://scikit-learn.org/stable/modules/generated/sklearn.multioutput.MultiOutputClassifier.html\n",
    "\n",
    "#Predict\n",
    "y_pred = model_gnb_multioutput.predict(X_test)\n",
    "y_score = model_gnb_multioutput.predict_proba(X_test)"
   ]
  },
  {
   "cell_type": "markdown",
   "id": "4593804a-59f4-4c71-a401-d7995f633f50",
   "metadata": {},
   "source": [
    "### Predicting for single cases"
   ]
  },
  {
   "cell_type": "code",
   "execution_count": null,
   "id": "496f696e-5753-4d7a-a50f-59fac5002a33",
   "metadata": {
    "ExecuteTime": {
     "start_time": "2024-04-06T19:23:59.598151Z"
    }
   },
   "outputs": [],
   "source": [
    "y_pred = model_gnb_multioutput.predict(X_train)\n",
    "i= 2336\n",
    "\n",
    "print(y_pred[i])\n",
    "print(y_train.iloc[i,:])\n",
    "print(X_train.iloc[i,:])\n",
    "# Table 4(a) Predicting for i = 3\n",
    "# [10, -10, 10]"
   ]
  },
  {
   "cell_type": "code",
   "execution_count": null,
   "id": "19fea869-f8b9-4eb5-bd71-40a5203819e0",
   "metadata": {
    "ExecuteTime": {
     "start_time": "2024-04-06T19:23:59.598747Z"
    }
   },
   "outputs": [],
   "source": [
    "X_train"
   ]
  },
  {
   "cell_type": "code",
   "execution_count": null,
   "id": "ab3e855c-2e11-4f35-84dc-cd78ff36a38f",
   "metadata": {
    "ExecuteTime": {
     "start_time": "2024-04-06T19:23:59.599240Z"
    }
   },
   "outputs": [],
   "source": [
    "print('----------------------------Confusion Matrix--------------')\n",
    "print('MCR')\n",
    "cm_c = metrics.confusion_matrix(y_test.iloc[:,0], y_pred[:,0])\n",
    "display(cm_c)\n",
    "print('CDU')\n",
    "cm_c = metrics.confusion_matrix(y_test.iloc[:,1], y_pred[:,1])\n",
    "display(cm_c)\n",
    "print('ISB')\n",
    "cm_c = metrics.confusion_matrix(y_test.iloc[:,2], y_pred[:,2])\n",
    "display(cm_c)\n",
    "\n",
    "print('----------------------------Classification Report--------------')\n",
    "print('MCR')\n",
    "print(metrics.classification_report(y_test.iloc[:,0],y_pred[:,0]))\n",
    "print('CDU')\n",
    "print(metrics.classification_report(y_test.iloc[:,1],y_pred[:,1]))\n",
    "\n",
    "print('ISB')\n",
    "print(metrics.classification_report(y_test.iloc[:,2],y_pred[:,2]))"
   ]
  },
  {
   "cell_type": "code",
   "execution_count": null,
   "id": "970dae70-3508-418e-9001-9cf47d4650d3",
   "metadata": {
    "ExecuteTime": {
     "start_time": "2024-04-06T19:23:59.599724Z"
    }
   },
   "outputs": [],
   "source": [
    "print('----------------------------ROC AUC--------------')\n",
    "print('MCR')\n",
    "print(metrics.roc_auc_score(y_test.iloc[:,0],y_score[0], multi_class='ovo'))\n",
    "print('CDU')\n",
    "print(metrics.roc_auc_score(y_test.iloc[:,1],y_score[1], multi_class='ovo'))\n",
    "print('ISB')\n",
    "print(metrics.roc_auc_score(y_test.iloc[:,2],y_score[2], multi_class='ovo'))\n",
    "\n",
    "\n",
    "#print(len(y_score[1]))\n",
    "#print(len(y_test.iloc[:,1]))"
   ]
  },
  {
   "cell_type": "code",
   "execution_count": null,
   "id": "ff3f142d-6018-4d4f-b542-4c3c2c1cd2c0",
   "metadata": {
    "ExecuteTime": {
     "start_time": "2024-04-06T19:23:59.600207Z"
    }
   },
   "outputs": [],
   "source": []
  },
  {
   "cell_type": "markdown",
   "id": "fbc8d3b8-2223-4866-b802-98cb68456361",
   "metadata": {},
   "source": [
    "## Saving data & model"
   ]
  },
  {
   "cell_type": "code",
   "execution_count": null,
   "id": "041653d5-cbbc-4df5-a7b5-c01c10d5bde5",
   "metadata": {
    "ExecuteTime": {
     "start_time": "2024-04-06T19:23:59.600714Z"
    }
   },
   "outputs": [],
   "source": [
    "# Save model\n",
    "# Save the trained model as a pickle string.\n",
    "# saved_model = pickle.dumps('Outputs/model_gb_multioutput.pkl')\n",
    "\n",
    " \n",
    "# Save the model as a pickle in a file\n",
    "joblib.dump(model_gnb_multioutput, 'Inputs/full_model_gnb_multioutput.pkl')"
   ]
  },
  {
   "cell_type": "code",
   "execution_count": null,
   "id": "0a6d8c08-3cb2-44f7-8e1b-c8f7abbf3817",
   "metadata": {
    "ExecuteTime": {
     "start_time": "2024-04-06T19:23:59.601167Z"
    }
   },
   "outputs": [],
   "source": [
    "# Information from this Python Notebook will be used to build the Reduced Model"
   ]
  }
 ],
 "metadata": {
  "kernelspec": {
   "display_name": "Python 3 (ipykernel)",
   "language": "python",
   "name": "python3"
  },
  "language_info": {
   "codemirror_mode": {
    "name": "ipython",
    "version": 3
   },
   "file_extension": ".py",
   "mimetype": "text/x-python",
   "name": "python",
   "nbconvert_exporter": "python",
   "pygments_lexer": "ipython3",
   "version": "3.8.12"
  },
  "toc-autonumbering": false,
  "toc-showtags": false
 },
 "nbformat": 4,
 "nbformat_minor": 5
}

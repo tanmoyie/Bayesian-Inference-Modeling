{
 "cells": [
  {
   "cell_type": "markdown",
   "id": "21b72efa-3fa8-455f-91b7-592c9fc71370",
   "metadata": {
    "tags": []
   },
   "source": [
    "# Data Preparation of PLeR"
   ]
  },
  {
   "cell_type": "markdown",
   "id": "c6957ce5-d45d-438f-81f2-87648617cd66",
   "metadata": {},
   "source": [
    "Generating data based on EOS tool <br>\n",
    "Developed by: TANMOY DAS <br>\n",
    "Date: Jan 2021 (Revised Apr 2024)"
   ]
  },
  {
   "cell_type": "code",
   "execution_count": 1,
   "id": "10360f7e-55d5-451b-ab62-315d7b929d0d",
   "metadata": {
    "ExecuteTime": {
     "end_time": "2024-04-06T17:39:28.459858Z",
     "start_time": "2024-04-06T17:39:27.367340Z"
    }
   },
   "outputs": [],
   "source": [
    "# Load Excel file of EOS tool & get sheet names\n",
    "from openpyxl import load_workbook\n",
    "# import values from Python to Excel\n",
    "# import xlsxwriter\n",
    "import numpy as np\n",
    "from numpy.random import randint, uniform, rand\n",
    "import xlwings as xw\n",
    "import pandas as pd"
   ]
  },
  {
   "cell_type": "code",
   "execution_count": 3,
   "id": "dd045ec9-329c-4c43-bfc4-491806211b2f",
   "metadata": {
    "ExecuteTime": {
     "end_time": "2024-04-06T17:39:38.456968Z",
     "start_time": "2024-04-06T17:39:28.463774Z"
    }
   },
   "outputs": [
    {
     "ename": "CommandError",
     "evalue": "Command failed:\n\t\tOSERROR: -1743\n\t\tMESSAGE: The user has declined permission.\n\t\tCOMMAND: app('/Applications/Microsoft Excel.app', newinstance=(0, 233529)).open_workbook(workbook_file_name='/Users/tanmoydas/Documents/GitHub/Bayesian-Inference-Modeling/src/data-generation/data_preparation_VBA_code.xlsm', update_links=k.do_not_update_links, read_only=None, format=None, password=None, write_reserved_password=None, ignore_read_only_recommended=None, origin=None, delimiter=None, editable=None, notify=None, converter=None, add_to_mru=None, timeout=-1)",
     "output_type": "error",
     "traceback": [
      "\u001b[0;31m---------------------------------------------------------------------------\u001b[0m",
      "\u001b[0;31mKeyError\u001b[0m                                  Traceback (most recent call last)",
      "File \u001b[0;32m~/Applications/anaconda3/envs/PhD_venv/lib/python3.11/site-packages/xlwings/main.py:5017\u001b[0m, in \u001b[0;36mBooks.open\u001b[0;34m(self, fullname, update_links, read_only, format, password, write_res_password, ignore_read_only_recommended, origin, delimiter, editable, notify, converter, add_to_mru, local, corrupt_load, json)\u001b[0m\n\u001b[1;32m   5016\u001b[0m \u001b[38;5;28;01mtry\u001b[39;00m:\n\u001b[0;32m-> 5017\u001b[0m     impl \u001b[38;5;241m=\u001b[39m \u001b[38;5;28mself\u001b[39m\u001b[38;5;241m.\u001b[39mimpl(name)\n\u001b[1;32m   5018\u001b[0m     \u001b[38;5;28;01mif\u001b[39;00m \u001b[38;5;129;01mnot\u001b[39;00m os\u001b[38;5;241m.\u001b[39mpath\u001b[38;5;241m.\u001b[39msamefile(impl\u001b[38;5;241m.\u001b[39mfullname, fullname):\n",
      "File \u001b[0;32m~/Applications/anaconda3/envs/PhD_venv/lib/python3.11/site-packages/xlwings/_xlmac.py:389\u001b[0m, in \u001b[0;36mBooks.__call__\u001b[0;34m(self, name_or_index)\u001b[0m\n\u001b[1;32m    388\u001b[0m \u001b[38;5;28;01mif\u001b[39;00m \u001b[38;5;129;01mnot\u001b[39;00m b\u001b[38;5;241m.\u001b[39mxl\u001b[38;5;241m.\u001b[39mexists():\n\u001b[0;32m--> 389\u001b[0m     \u001b[38;5;28;01mraise\u001b[39;00m \u001b[38;5;167;01mKeyError\u001b[39;00m(name_or_index)\n\u001b[1;32m    390\u001b[0m \u001b[38;5;28;01mreturn\u001b[39;00m b\n",
      "\u001b[0;31mKeyError\u001b[0m: 'data_preparation_VBA_code.xlsm'",
      "\nDuring handling of the above exception, another exception occurred:\n",
      "\u001b[0;31mEventError\u001b[0m                                Traceback (most recent call last)",
      "File \u001b[0;32m~/Applications/anaconda3/envs/PhD_venv/lib/python3.11/site-packages/aeosa/appscript/reference.py:482\u001b[0m, in \u001b[0;36mCommand.__call__\u001b[0;34m(self, *args, **kargs)\u001b[0m\n\u001b[1;32m    481\u001b[0m \u001b[38;5;28;01mtry\u001b[39;00m:\n\u001b[0;32m--> 482\u001b[0m \t\u001b[38;5;28;01mreturn\u001b[39;00m \u001b[38;5;28mself\u001b[39m\u001b[38;5;241m.\u001b[39mAS_appdata\u001b[38;5;241m.\u001b[39mtarget()\u001b[38;5;241m.\u001b[39mevent(\u001b[38;5;28mself\u001b[39m\u001b[38;5;241m.\u001b[39m_code, params, atts, codecs\u001b[38;5;241m=\u001b[39m\u001b[38;5;28mself\u001b[39m\u001b[38;5;241m.\u001b[39mAS_appdata)\u001b[38;5;241m.\u001b[39msend(timeout, sendflags)\n\u001b[1;32m    483\u001b[0m \u001b[38;5;28;01mexcept\u001b[39;00m aem\u001b[38;5;241m.\u001b[39mEventError \u001b[38;5;28;01mas\u001b[39;00m e:\n",
      "File \u001b[0;32m~/Applications/anaconda3/envs/PhD_venv/lib/python3.11/site-packages/aeosa/aem/aemsend.py:92\u001b[0m, in \u001b[0;36mEvent.send\u001b[0;34m(self, timeout, flags)\u001b[0m\n\u001b[1;32m     91\u001b[0m \t\t\terrormsg \u001b[38;5;241m=\u001b[39m _defaultcodecs\u001b[38;5;241m.\u001b[39munpack(errormsg)\n\u001b[0;32m---> 92\u001b[0m \t\t\u001b[38;5;28;01mraise\u001b[39;00m EventError(errornum, errormsg, eventresult)\n\u001b[1;32m     93\u001b[0m \u001b[38;5;28;01mif\u001b[39;00m kae\u001b[38;5;241m.\u001b[39mkeyAEResult \u001b[38;5;129;01min\u001b[39;00m eventresult: \u001b[38;5;66;03m# application has returned a value\u001b[39;00m\n\u001b[1;32m     94\u001b[0m \t\u001b[38;5;66;03m# note: unpack result with [optionally] user-specified codecs, allowing clients to customise unpacking (e.g. appscript)\u001b[39;00m\n",
      "\u001b[0;31mEventError\u001b[0m: Command failed: The user has declined permission. (-1743)",
      "\nThe above exception was the direct cause of the following exception:\n",
      "\u001b[0;31mCommandError\u001b[0m                              Traceback (most recent call last)",
      "Cell \u001b[0;32mIn[3], line 264\u001b[0m\n\u001b[1;32m    261\u001b[0m   EOS_tool\u001b[38;5;241m.\u001b[39mclose() \n\u001b[1;32m    263\u001b[0m   \u001b[38;5;66;03m# run VBA\u001b[39;00m\n\u001b[0;32m--> 264\u001b[0m   data_EOS_DT \u001b[38;5;241m=\u001b[39m xw\u001b[38;5;241m.\u001b[39mBook(\u001b[38;5;124m\"\u001b[39m\u001b[38;5;124mdata_preparation_VBA_code.xlsm\u001b[39m\u001b[38;5;124m\"\u001b[39m)\n\u001b[1;32m    265\u001b[0m \u001b[38;5;66;03m#  macro_closeActive = data_EOS_DT.macro(\"Module1.macro_closeActive\")\u001b[39;00m\n\u001b[1;32m    266\u001b[0m \u001b[38;5;66;03m#  macro_closeActive()\u001b[39;00m\n\u001b[1;32m    268\u001b[0m   macro1 \u001b[38;5;241m=\u001b[39m data_EOS_DT\u001b[38;5;241m.\u001b[39mmacro(\u001b[38;5;124m\"\u001b[39m\u001b[38;5;124mModule1.ExtractData\u001b[39m\u001b[38;5;124m\"\u001b[39m)\n",
      "File \u001b[0;32m~/Applications/anaconda3/envs/PhD_venv/lib/python3.11/site-packages/xlwings/main.py:911\u001b[0m, in \u001b[0;36mBook.__init__\u001b[0;34m(self, fullname, update_links, read_only, format, password, write_res_password, ignore_read_only_recommended, origin, delimiter, editable, notify, converter, add_to_mru, local, corrupt_load, impl, json, mode, engine)\u001b[0m\n\u001b[1;32m    909\u001b[0m     \u001b[38;5;28;01mif\u001b[39;00m \u001b[38;5;129;01mnot\u001b[39;00m app:\n\u001b[1;32m    910\u001b[0m         app \u001b[38;5;241m=\u001b[39m App(add_book\u001b[38;5;241m=\u001b[39m\u001b[38;5;28;01mFalse\u001b[39;00m)\n\u001b[0;32m--> 911\u001b[0m     impl \u001b[38;5;241m=\u001b[39m app\u001b[38;5;241m.\u001b[39mbooks\u001b[38;5;241m.\u001b[39mopen(\n\u001b[1;32m    912\u001b[0m         fullname,\n\u001b[1;32m    913\u001b[0m         update_links,\n\u001b[1;32m    914\u001b[0m         read_only,\n\u001b[1;32m    915\u001b[0m         \u001b[38;5;28mformat\u001b[39m,\n\u001b[1;32m    916\u001b[0m         password,\n\u001b[1;32m    917\u001b[0m         write_res_password,\n\u001b[1;32m    918\u001b[0m         ignore_read_only_recommended,\n\u001b[1;32m    919\u001b[0m         origin,\n\u001b[1;32m    920\u001b[0m         delimiter,\n\u001b[1;32m    921\u001b[0m         editable,\n\u001b[1;32m    922\u001b[0m         notify,\n\u001b[1;32m    923\u001b[0m         converter,\n\u001b[1;32m    924\u001b[0m         add_to_mru,\n\u001b[1;32m    925\u001b[0m         local,\n\u001b[1;32m    926\u001b[0m         corrupt_load,\n\u001b[1;32m    927\u001b[0m     )\u001b[38;5;241m.\u001b[39mimpl\n\u001b[1;32m    928\u001b[0m \u001b[38;5;28;01melif\u001b[39;00m \u001b[38;5;28mlen\u001b[39m(candidates) \u001b[38;5;241m>\u001b[39m \u001b[38;5;241m1\u001b[39m:\n\u001b[1;32m    929\u001b[0m     \u001b[38;5;28;01mraise\u001b[39;00m \u001b[38;5;167;01mException\u001b[39;00m(\n\u001b[1;32m    930\u001b[0m         \u001b[38;5;124m\"\u001b[39m\u001b[38;5;124mWorkbook \u001b[39m\u001b[38;5;124m'\u001b[39m\u001b[38;5;132;01m%s\u001b[39;00m\u001b[38;5;124m'\u001b[39m\u001b[38;5;124m is open in more than one Excel instance.\u001b[39m\u001b[38;5;124m\"\u001b[39m\n\u001b[1;32m    931\u001b[0m         \u001b[38;5;241m%\u001b[39m fullname\n\u001b[1;32m    932\u001b[0m     )\n",
      "File \u001b[0;32m~/Applications/anaconda3/envs/PhD_venv/lib/python3.11/site-packages/xlwings/main.py:5024\u001b[0m, in \u001b[0;36mBooks.open\u001b[0;34m(self, fullname, update_links, read_only, format, password, write_res_password, ignore_read_only_recommended, origin, delimiter, editable, notify, converter, add_to_mru, local, corrupt_load, json)\u001b[0m\n\u001b[1;32m   5019\u001b[0m         \u001b[38;5;28;01mraise\u001b[39;00m \u001b[38;5;167;01mValueError\u001b[39;00m(\n\u001b[1;32m   5020\u001b[0m             \u001b[38;5;124m\"\u001b[39m\u001b[38;5;124mCannot open two workbooks named \u001b[39m\u001b[38;5;124m'\u001b[39m\u001b[38;5;132;01m%s\u001b[39;00m\u001b[38;5;124m'\u001b[39m\u001b[38;5;124m, even if they are saved in\u001b[39m\u001b[38;5;124m\"\u001b[39m\n\u001b[1;32m   5021\u001b[0m             \u001b[38;5;124m\"\u001b[39m\u001b[38;5;124mdifferent locations.\u001b[39m\u001b[38;5;124m\"\u001b[39m \u001b[38;5;241m%\u001b[39m name\n\u001b[1;32m   5022\u001b[0m         )\n\u001b[1;32m   5023\u001b[0m \u001b[38;5;28;01mexcept\u001b[39;00m \u001b[38;5;167;01mKeyError\u001b[39;00m:\n\u001b[0;32m-> 5024\u001b[0m     impl \u001b[38;5;241m=\u001b[39m \u001b[38;5;28mself\u001b[39m\u001b[38;5;241m.\u001b[39mimpl\u001b[38;5;241m.\u001b[39mopen(\n\u001b[1;32m   5025\u001b[0m         fullname,\n\u001b[1;32m   5026\u001b[0m         update_links,\n\u001b[1;32m   5027\u001b[0m         read_only,\n\u001b[1;32m   5028\u001b[0m         \u001b[38;5;28mformat\u001b[39m,\n\u001b[1;32m   5029\u001b[0m         password,\n\u001b[1;32m   5030\u001b[0m         write_res_password,\n\u001b[1;32m   5031\u001b[0m         ignore_read_only_recommended,\n\u001b[1;32m   5032\u001b[0m         origin,\n\u001b[1;32m   5033\u001b[0m         delimiter,\n\u001b[1;32m   5034\u001b[0m         editable,\n\u001b[1;32m   5035\u001b[0m         notify,\n\u001b[1;32m   5036\u001b[0m         converter,\n\u001b[1;32m   5037\u001b[0m         add_to_mru,\n\u001b[1;32m   5038\u001b[0m         local,\n\u001b[1;32m   5039\u001b[0m         corrupt_load,\n\u001b[1;32m   5040\u001b[0m     )\n\u001b[1;32m   5041\u001b[0m \u001b[38;5;28;01mreturn\u001b[39;00m Book(impl\u001b[38;5;241m=\u001b[39mimpl)\n",
      "File \u001b[0;32m~/Applications/anaconda3/envs/PhD_venv/lib/python3.11/site-packages/xlwings/_xlmac.py:441\u001b[0m, in \u001b[0;36mBooks.open\u001b[0;34m(self, fullname, update_links, read_only, format, password, write_res_password, ignore_read_only_recommended, origin, delimiter, editable, notify, converter, add_to_mru, local, corrupt_load)\u001b[0m\n\u001b[1;32m    439\u001b[0m     \u001b[38;5;28mself\u001b[39m\u001b[38;5;241m.\u001b[39mapp\u001b[38;5;241m.\u001b[39mactivate()\n\u001b[1;32m    440\u001b[0m filename \u001b[38;5;241m=\u001b[39m os\u001b[38;5;241m.\u001b[39mpath\u001b[38;5;241m.\u001b[39mbasename(fullname)\n\u001b[0;32m--> 441\u001b[0m \u001b[38;5;28mself\u001b[39m\u001b[38;5;241m.\u001b[39mapp\u001b[38;5;241m.\u001b[39mxl\u001b[38;5;241m.\u001b[39mopen_workbook(\n\u001b[1;32m    442\u001b[0m     workbook_file_name\u001b[38;5;241m=\u001b[39mfullname,\n\u001b[1;32m    443\u001b[0m     update_links\u001b[38;5;241m=\u001b[39mupdate_links,\n\u001b[1;32m    444\u001b[0m     read_only\u001b[38;5;241m=\u001b[39mread_only,\n\u001b[1;32m    445\u001b[0m     \u001b[38;5;28mformat\u001b[39m\u001b[38;5;241m=\u001b[39m\u001b[38;5;28mformat\u001b[39m,\n\u001b[1;32m    446\u001b[0m     password\u001b[38;5;241m=\u001b[39mpassword,\n\u001b[1;32m    447\u001b[0m     write_reserved_password\u001b[38;5;241m=\u001b[39mwrite_res_password,\n\u001b[1;32m    448\u001b[0m     ignore_read_only_recommended\u001b[38;5;241m=\u001b[39mignore_read_only_recommended,\n\u001b[1;32m    449\u001b[0m     origin\u001b[38;5;241m=\u001b[39morigin,\n\u001b[1;32m    450\u001b[0m     delimiter\u001b[38;5;241m=\u001b[39mdelimiter,\n\u001b[1;32m    451\u001b[0m     editable\u001b[38;5;241m=\u001b[39meditable,\n\u001b[1;32m    452\u001b[0m     notify\u001b[38;5;241m=\u001b[39mnotify,\n\u001b[1;32m    453\u001b[0m     converter\u001b[38;5;241m=\u001b[39mconverter,\n\u001b[1;32m    454\u001b[0m     add_to_mru\u001b[38;5;241m=\u001b[39madd_to_mru,\n\u001b[1;32m    455\u001b[0m     timeout\u001b[38;5;241m=\u001b[39m\u001b[38;5;241m-\u001b[39m\u001b[38;5;241m1\u001b[39m,\n\u001b[1;32m    456\u001b[0m )\n\u001b[1;32m    457\u001b[0m wb \u001b[38;5;241m=\u001b[39m Book(\u001b[38;5;28mself\u001b[39m\u001b[38;5;241m.\u001b[39mapp, filename)\n\u001b[1;32m    458\u001b[0m \u001b[38;5;28;01mreturn\u001b[39;00m wb\n",
      "File \u001b[0;32m~/Applications/anaconda3/envs/PhD_venv/lib/python3.11/site-packages/aeosa/appscript/reference.py:518\u001b[0m, in \u001b[0;36mCommand.__call__\u001b[0;34m(self, *args, **kargs)\u001b[0m\n\u001b[1;32m    516\u001b[0m \t\t\t\u001b[38;5;28;01mreturn\u001b[39;00m\n\u001b[1;32m    517\u001b[0m \t\t\u001b[38;5;28;01mraise\u001b[39;00m CommandError(\u001b[38;5;28mself\u001b[39m, (args, kargs), e, \u001b[38;5;28mself\u001b[39m\u001b[38;5;241m.\u001b[39mAS_appdata) \u001b[38;5;28;01mfrom\u001b[39;00m \u001b[38;5;21;01me\u001b[39;00m\n\u001b[0;32m--> 518\u001b[0m \u001b[38;5;28;01mraise\u001b[39;00m CommandError(\u001b[38;5;28mself\u001b[39m, (args, kargs), e, \u001b[38;5;28mself\u001b[39m\u001b[38;5;241m.\u001b[39mAS_appdata) \u001b[38;5;28;01mfrom\u001b[39;00m \u001b[38;5;21;01me\u001b[39;00m\n",
      "\u001b[0;31mCommandError\u001b[0m: Command failed:\n\t\tOSERROR: -1743\n\t\tMESSAGE: The user has declined permission.\n\t\tCOMMAND: app('/Applications/Microsoft Excel.app', newinstance=(0, 233529)).open_workbook(workbook_file_name='/Users/tanmoydas/Documents/GitHub/Bayesian-Inference-Modeling/src/data-generation/data_preparation_VBA_code.xlsm', update_links=k.do_not_update_links, read_only=None, format=None, password=None, write_reserved_password=None, ignore_read_only_recommended=None, origin=None, delimiter=None, editable=None, notify=None, converter=None, add_to_mru=None, timeout=-1)"
     ]
    }
   ],
   "source": [
    "data_eos_PLeR = []\n",
    "\n",
    "for i in range (0,10):\n",
    "    # get input data\n",
    "    #write_values_to_eos\n",
    "#def data_preparation():    \n",
    "    EOS_tool = load_workbook(filename = 'EOS_ver.1.1._2020.xlsx') \n",
    "    S1_basic_data = EOS_tool['Step 1 - Basic data']\n",
    "    S1_VEC_Persistance = EOS_tool['Step 1 - VEC and Persistence']\n",
    "    S1_oil_spill_modeling = EOS_tool['Step 1 - Oil spill modelling']\n",
    "    S2_pollution_assessment = EOS_tool['Step 2 - Pollution Assessment']\n",
    "    S2_OSR_pros_cons = EOS_tool['Step 2 - OSR pros_cons']    \n",
    "    S3_soot_pollution_index = EOS_tool['Step 3 - Soot pollution index']\n",
    "    S3_VEC_R = EOS_tool['Step 3 - Recovery time']\n",
    "    S3_VEC_recruitement_Fraction = EOS_tool['Step 3 - Recruitment_Fractions']\n",
    "  \n",
    "\n",
    "    # Determining the variables\n",
    "\n",
    "    # S1_basic_data\n",
    "    name_of_area = 'Nanuvut'\n",
    "    sea_surface_area = uniform(20, 100) #\t[20,100, uniform]\n",
    "    water_depth = sea_surface_area*0.1\n",
    "    seawater_volume = sea_surface_area*water_depth\n",
    "    seabed_area = sea_surface_area*0.5\n",
    "    shoreline_length = sea_surface_area*0.05\n",
    "    number_of_seasons = 1\n",
    "\n",
    "    depth_of_halocline = sea_surface_area*0.04\n",
    "    seawater_volume_to_halocline = sea_surface_area*0.4\n",
    "    salinity_above_halocline = 0.5\n",
    "    oxygen_level_in_bottom_water = 1\n",
    "    water_temp = -10\n",
    "    nutritional_conditions = 1\n",
    "    n = 0\n",
    "    p = 0\n",
    "\n",
    "    NEC_zooplankton = uniform(0, 0.5) #0 #[0,.5, uniform]\n",
    "    NEC_bivalves = uniform(0, 0.9) #0 #[0,.9, uniform]\n",
    "    NEC_fish = uniform(0, 0.15) #[0,.15, uniform]\n",
    "    LC50_zooplankton = 1\n",
    "    LC50_bivalves = 2\n",
    "    LC50_fish = 1\n",
    "    damage_feather = 0.1\n",
    "    update_water_in_feather = 3\n",
    "\n",
    "    #------------- Step 1 - VEC and Persistance\n",
    "    species_name = 'Coral reefs'\n",
    "    displacement = np.random.choice(['yes', 'no'])\n",
    "    residue_recovery = np.random.choice(['yes', 'no'])\n",
    "    species_in_sea_surface = randint(0,2) #np.random.rand(0,2)0 #[0, 1]\n",
    "    seawater = randint(0,2)#[0, 1]\n",
    "    seabed = randint(0,2) # [0, 1]\n",
    "    shoreline = randint(0,2) # [0, 1]\n",
    "    retaining_capacity = randint(0,2)\n",
    "    \n",
    "    #--------------- Step 1 - Oil spill modelling\n",
    "    oil_spill_size = np.random.choice(['SMALL', 'MEDIUM', 'LARGE'])\n",
    "    if (oil_spill_size == 'SMALL'):\n",
    "        oil_spill_amount = randint(0,7) # 7 exclusive\n",
    "    elif(oil_spill_size == 'MEDIUM'):\n",
    "        oil_spill_amount = randint(7,700)    \n",
    "    else:\n",
    "        oil_spill_amount = randint(700,5000)    \n",
    "    \n",
    "    number_of_scenarios\t = 1\n",
    "    oil_type\t= np.random.choice(['light', 'bunker oil', 'diesel oil'])  # 'light' # ['light', 'bunker oil' 'diesel oil']\n",
    "    oil_density\t= randint(0,50) \n",
    "    oil_viscosity\t= randint(2,22) \n",
    "    oil_amount_to_recover\t= uniform(0.1,2)\n",
    "    duration\t= randint(20,180) \n",
    "\n",
    "    wind\t= randint(10,100)  #[10,100, uniform]\n",
    "    air_temp = randint(-50,2)  #[-50, -30,-10,0]\n",
    "    ice\t= randint(0, 100)  #[0,100, uniform]\n",
    "    release_point\t= 1\n",
    "    start_time\t=1\n",
    "    end_time\t= 1\n",
    "    simulation_length\t= 1\n",
    "    output_from_modeling_after\t = 1\n",
    "\n",
    "    seasurface_volume\t= randint(0,500) #[1,500, uniform]\n",
    "    seawater_volume\t= randint(0,500)  # [1,500, uniform]\n",
    "    seabed_volume\t= randint(0,500)  #[1,500, uniform]\n",
    "    shoreline_volume\t= randint(0,500)  #[1,500, uniform]\n",
    "    total_volume\t = seasurface_volume + seawater_volume +seabed_volume +shoreline_volume\n",
    "    evaporated\t=10\n",
    "    naturally_dispersed\t=20\n",
    "    water_content\t=50\n",
    "    evaporation_and_natural_disperson\t= randint(10,100)  #[10, 100, uniform]\n",
    "\n",
    "    distance_to_inhabitation\t= randint(10,500)  #[10,200, 1000]\n",
    "    distance_to_sensitive_organism\t= randint(10,500)  #[10,200, 1000]\n",
    "    distance_to_permanent_ice\t=randint(20,500) #[10,200, 1000]\n",
    "    distance_to_sensitive_site\t=randint(10,500) #[10,200, 1000]\n",
    "    prevailing_wind_direction\t= 'N' #['N','E','S','W', 'NE']\n",
    "\n",
    "    #--------------- S2\n",
    "    \n",
    "    sufficient_mixing_energy = np.random.choice(['yes', 'no'])\n",
    "    residual_recovery = np.random.choice(['yes', 'no']) \n",
    "    \n",
    "    ss_mcr\t= randint(-1,2)\n",
    "    sw_mcr\t= randint(-1,2)\n",
    "    sb_mcr\t= randint(-1,2)\n",
    "    sl_mcr = randint(-1,2)\n",
    "    ss_cdu\t= randint(-1,2)\n",
    "    sw_cdu\t= randint(-1,2)\n",
    "    sb_cdu\t= randint(-1,2)\n",
    "    sl_cdu = randint(-1,2)\n",
    "    ss_isb\t= randint(-1,2)\n",
    "    sw_isb\t= randint(-1,2)\n",
    "    sb_isb\t= randint(-1,2)\n",
    "    sl_isb =randint(-1,2)\n",
    "    ss_dn\t= randint(-1,2)\n",
    "    sw_dn\t= randint(-1,2)\n",
    "    sb_dn\t= randint(-1,2)\n",
    "    sl_dn = randint(-1,2)\n",
    "\n",
    "    # ----------- S3_soot_pollution_index\t\n",
    "    wind_to_inhabitation\t= np.random.choice(['yes', 'no'])\n",
    "    wind_to_sensitive_organism\t= wind_to_inhabitation #np.random.choice(['yes', 'no']) # ++ need rework\n",
    "    wind_to_ince\t= wind_to_inhabitation #np.random.choice(['yes', 'no'])\n",
    "    wind_to_sensitive_object\t= wind_to_inhabitation #np.random.choice(['yes', 'no'])\n",
    "\n",
    "    # S3_VEC_R\n",
    "    recovery_time_ss\t= uniform(0.2, 2)\n",
    "    recovery_time_sl\t= uniform(0.2, 2)\n",
    "    recovery_time_sw\t= uniform(0.2, 2)\n",
    "    recovery_time_sb\t= uniform(0.2, 2)\n",
    "    recovery_time_limit\t= 2\n",
    "\n",
    "    # ----------- S3_VEC_recruitement_Fraction\t\n",
    "    biodegradation_potential\t= np.random.choice(['yes', 'no'])\n",
    "    sea_surface_area_polluted_limit\t= 2\n",
    "    seawater_volume_fraction_polluted_limit\t= 10\n",
    "    seawater_volume_fraction_polluted_if_nutrient_not_limiting\t= 15\n",
    "    \n",
    "    \n",
    "    #------------\n",
    "    # ---------------- Assign values\n",
    "\n",
    "    # Assigning values in Step 1 - Basic data\n",
    "    S1_basic_data['E11']  = sea_surface_area\n",
    "    S1_basic_data['E12']  = water_depth\n",
    "    S1_basic_data['E13']  = seawater_volume\n",
    "    S1_basic_data['E14']  = seabed_area\n",
    "    S1_basic_data['E15']  = shoreline_length\n",
    "    S1_basic_data['D17']  = number_of_seasons\n",
    "\n",
    "    S1_basic_data['E20']  = depth_of_halocline\n",
    "    S1_basic_data['E21']  = seawater_volume_to_halocline \n",
    "    S1_basic_data['E22']  = salinity_above_halocline \n",
    "    S1_basic_data['E23']  = oxygen_level_in_bottom_water\n",
    "    S1_basic_data['E24']  = water_temp \n",
    "    S1_basic_data['E25']  = nutritional_conditions \n",
    "    S1_basic_data['E26']  = n \n",
    "    S1_basic_data['E27']  = p \n",
    "\n",
    "    S1_basic_data['E32']  = NEC_zooplankton\n",
    "    S1_basic_data['F32']  = NEC_bivalves\n",
    "    S1_basic_data['G32']  = NEC_fish \n",
    "    S1_basic_data['E33']  = LC50_zooplankton \n",
    "    S1_basic_data['F33']  = LC50_bivalves \n",
    "    S1_basic_data['G33']  = LC50_fish\n",
    "    S1_basic_data['E37']  = damage_feather\n",
    "    S1_basic_data['E38']  = update_water_in_feather\n",
    "\n",
    "    #---------- S1_VEC\n",
    "    S1_VEC_Persistance['N13'] = displacement\n",
    "    S1_VEC_Persistance['N14'] = residual_recovery\n",
    "      \n",
    "    S1_VEC_Persistance['C13'] = species_name\n",
    "    S1_VEC_Persistance['P13'] = species_in_sea_surface\n",
    "    S1_VEC_Persistance['Q13'] = seawater\n",
    "    S1_VEC_Persistance['R13'] = seabed\n",
    "    S1_VEC_Persistance['S13'] = shoreline\n",
    "    S1_VEC_Persistance['S41'] = retaining_capacity\n",
    "   \n",
    "    # ------- S1_oil\n",
    "    S1_oil_spill_modeling['D17'] = oil_spill_size\n",
    "    S1_oil_spill_modeling['D16'] = oil_spill_amount\n",
    "\n",
    "    S1_oil_spill_modeling['E18'] = number_of_scenarios\n",
    "    S1_oil_spill_modeling['D21'] = oil_type\n",
    "    S1_oil_spill_modeling['D22'] = oil_density\n",
    "    S1_oil_spill_modeling['D23'] = oil_viscosity\n",
    "    S1_oil_spill_modeling['D24'] = oil_amount_to_recover\n",
    "    S1_oil_spill_modeling['D25'] = duration\n",
    "\n",
    "    S1_oil_spill_modeling['D28'] = wind\n",
    "    S1_oil_spill_modeling['D29'] = air_temp\n",
    "    S1_oil_spill_modeling['D30'] = ice\n",
    "    S1_oil_spill_modeling['D32'] = release_point\n",
    "    S1_oil_spill_modeling['D33'] = start_time\n",
    "    S1_oil_spill_modeling['D34'] = end_time\n",
    "    S1_oil_spill_modeling['D35'] = simulation_length\n",
    "    S1_oil_spill_modeling['D37'] = output_from_modeling_after\n",
    "\n",
    "    S1_oil_spill_modeling['D41'] = seasurface_volume\n",
    "    S1_oil_spill_modeling['E41'] = seawater_volume\n",
    "    S1_oil_spill_modeling['F41'] = seabed_volume\n",
    "    S1_oil_spill_modeling['G41'] = shoreline_volume\n",
    "    S1_oil_spill_modeling['H41'] = total_volume\n",
    "    S1_oil_spill_modeling['I41'] = evaporated\n",
    "    S1_oil_spill_modeling['J41'] = naturally_dispersed\n",
    "    S1_oil_spill_modeling['K41'] = water_content\n",
    "    S1_oil_spill_modeling['P41'] = evaporation_and_natural_disperson\n",
    "\n",
    "    S1_oil_spill_modeling['D57'] = distance_to_inhabitation\n",
    "    S1_oil_spill_modeling['E57'] = distance_to_sensitive_organism\n",
    "    S1_oil_spill_modeling['F57'] = distance_to_permanent_ice\n",
    "    S1_oil_spill_modeling['G57'] = distance_to_sensitive_site\n",
    "    S1_oil_spill_modeling['H57'] = prevailing_wind_direction\n",
    "\n",
    "    #-------S2\n",
    "    \n",
    "    S2_pollution_assessment['E32'] = sufficient_mixing_energy\n",
    "    \n",
    "    S2_OSR_pros_cons['F11'] = ss_mcr\n",
    "    S2_OSR_pros_cons['J11'] = sw_mcr\n",
    "    S2_OSR_pros_cons['N11'] = sb_mcr\n",
    "    S2_OSR_pros_cons['R11'] = sl_mcr\n",
    "\n",
    "    S2_OSR_pros_cons['F13'] = ss_cdu\n",
    "    S2_OSR_pros_cons['J13'] = sw_cdu\n",
    "    S2_OSR_pros_cons['N13'] = sb_cdu\n",
    "    S2_OSR_pros_cons['R13'] = sl_cdu\n",
    "\n",
    "    S2_OSR_pros_cons['F15'] = ss_isb\n",
    "    S2_OSR_pros_cons['J15'] = sw_isb\n",
    "    S2_OSR_pros_cons['N15'] = sb_isb\n",
    "    S2_OSR_pros_cons['R15'] = sl_isb\n",
    "\n",
    "    S2_OSR_pros_cons['F17'] = ss_dn\n",
    "    S2_OSR_pros_cons['J17'] = sw_dn\n",
    "    S2_OSR_pros_cons['N17'] = sb_dn\n",
    "    S2_OSR_pros_cons['R17'] = sl_dn\n",
    "\n",
    "    #-----------\n",
    "    S3_soot_pollution_index['F20']= wind_to_inhabitation\n",
    "    S3_soot_pollution_index['F21']= wind_to_sensitive_organism\n",
    "    S3_soot_pollution_index['F22']= wind_to_ince\n",
    "    S3_soot_pollution_index['F23']= wind_to_sensitive_object\n",
    "\n",
    "    # --------\n",
    "    S3_VEC_R['D8'] = recovery_time_ss\n",
    "    S3_VEC_R['E8'] = recovery_time_sl\n",
    "    S3_VEC_R['F8'] = recovery_time_sw\n",
    "    S3_VEC_R['G8'] = recovery_time_sb\n",
    "    S3_VEC_R['D15'] = recovery_time_limit\n",
    "\n",
    "    # -------\n",
    "    S3_VEC_recruitement_Fraction['D12']= biodegradation_potential\n",
    "    S3_VEC_recruitement_Fraction['D15']= sea_surface_area_polluted_limit\n",
    "    S3_VEC_recruitement_Fraction['D17']= seawater_volume_fraction_polluted_limit\n",
    "    S3_VEC_recruitement_Fraction['D18']= seawater_volume_fraction_polluted_if_nutrient_not_limiting\n",
    "    \n",
    "    # Save workbook before running VBA (so that values are stored)\n",
    "    EOS_tool.save('EOS_ver.1.1._2020.xlsx')\n",
    "    EOS_tool.close() \n",
    "    \n",
    "    # run VBA\n",
    "    data_EOS_DT = xw.Book(\"data_preparation_VBA_code.xlsm\")\n",
    "  #  macro_closeActive = data_EOS_DT.macro(\"Module1.macro_closeActive\")\n",
    "  #  macro_closeActive()\n",
    "    \n",
    "    macro1 = data_EOS_DT.macro(\"Module1.ExtractData\")\n",
    "    macro1()\n",
    "    # get that cell\n",
    "    oil_spill_size = data_EOS_DT.sheets['EOS Results']['C3'].value\n",
    "    evaporation_and_natural_disperson = data_EOS_DT.sheets['EOS Results']['C4'].value\n",
    "    persistence = data_EOS_DT.sheets['EOS Results']['C5'].value\n",
    "    oil_amount_to_recover = data_EOS_DT.sheets['EOS Results']['C6'].value\n",
    "    E_ss = data_EOS_DT.sheets['EOS Results']['C7'].value\n",
    "    E_sl = data_EOS_DT.sheets['EOS Results']['C8'].value\n",
    "    E_sw = data_EOS_DT.sheets['EOS Results']['C9'].value\n",
    "    E_sb = data_EOS_DT.sheets['EOS Results']['C10'].value\n",
    "    \n",
    "    sufficient_mixing_energy = data_EOS_DT.sheets['EOS Results']['E4'].value\n",
    "    seasurface = data_EOS_DT.sheets['EOS Results']['E5'].value\n",
    "    seawater = data_EOS_DT.sheets['EOS Results']['E6'].value\n",
    "    Rtime_ss  = data_EOS_DT.sheets['EOS Results']['E7'].value\n",
    "    Rtime_sw  = data_EOS_DT.sheets['EOS Results']['E8'].value\n",
    "    E_ssC = data_EOS_DT.sheets['EOS Results']['E9'].value\n",
    "    E_slC = data_EOS_DT.sheets['EOS Results']['E10'].value\n",
    "    E_swC = data_EOS_DT.sheets['EOS Results']['E11'].value\n",
    "    E_sbC = data_EOS_DT.sheets['EOS Results']['E12'].value\n",
    "    \n",
    "    soot_pollution = data_EOS_DT.sheets['EOS Results']['G4'].value\n",
    "    residue_recovery = data_EOS_DT.sheets['EOS Results']['G5'].value\n",
    "    displacement  = data_EOS_DT.sheets['EOS Results']['G6'].value\n",
    "    E_ssI  = data_EOS_DT.sheets['EOS Results']['G7'].value\n",
    "    E_slI   = data_EOS_DT.sheets['EOS Results']['G8'].value\n",
    "    E_swI  = data_EOS_DT.sheets['EOS Results']['G9'].value\n",
    "    E_sbI  = data_EOS_DT.sheets['EOS Results']['G10'].value\n",
    "\n",
    "    shoreline_length  = shoreline_length\n",
    "    distance_to_inhabitation  = distance_to_inhabitation\n",
    "    \n",
    "    mcr_DT_output = list(filter(None, data_EOS_DT.sheets['EOS Results']['B3:B15'].value))\n",
    "    cdu_DT_output = list(filter(None, data_EOS_DT.sheets['EOS Results']['D3:D13'].value))\n",
    "    isb_DT_output = list(filter(None, data_EOS_DT.sheets['EOS Results']['F3:F13'].value))\n",
    "      \n",
    "    \n",
    "    # Add this iteration into data_PLeR file (list/dataframe)\n",
    "    row_data = [oil_spill_size, evaporation_and_natural_disperson, persistence, oil_amount_to_recover, E_ss, E_sl, E_sw, E_sb, \n",
    "                sufficient_mixing_energy, seasurface, seawater, Rtime_ss, Rtime_sw, E_ssC,E_slC, E_swC,E_sbC,\n",
    "                soot_pollution, residue_recovery, displacement,  E_ssI,E_slI, E_swI,E_sbI,\n",
    "                shoreline_length, distance_to_inhabitation,\n",
    "                mcr_DT_output, cdu_DT_output, isb_DT_output]\n",
    "    data_eos_PLeR.append(row_data)\n",
    "    \n",
    "    data_EOS_DT.close()\n",
    "    #return row_data"
   ]
  },
  {
   "cell_type": "code",
   "execution_count": null,
   "id": "e6ad1b0f-623c-476d-83ba-8216e84bf987",
   "metadata": {
    "ExecuteTime": {
     "end_time": "2024-04-06T17:39:38.459714Z",
     "start_time": "2024-04-06T17:39:38.458448Z"
    }
   },
   "outputs": [],
   "source": []
  },
  {
   "cell_type": "code",
   "execution_count": null,
   "id": "98affda6-c288-4d05-a609-d7995090dcd9",
   "metadata": {
    "ExecuteTime": {
     "end_time": "2024-04-06T17:39:38.460048Z",
     "start_time": "2024-04-06T17:39:38.459861Z"
    }
   },
   "outputs": [],
   "source": [
    "data_eos_PLeR_df = pd.DataFrame(data_eos_PLeR, columns=[\n",
    "                                'oil_spill_size', 'evaporation_and_natural_disperson', 'persistence', 'oil_amount_to_recover', 'E_ss', 'E_sl', 'E_sw', 'E_sb', \n",
    "                'sufficient_mixing_energy', 'seasurface', 'seawater', 'Rtime_ss', 'Rtime_sw', 'E_ssC','E_slC', 'E_swC','E_sbC',\n",
    "                'soot_pollution', 'residue_recovery', 'displacement', 'E_ssI', 'E_slI', 'E_swI','E_sbI',\n",
    "                'shoreline_length', 'distance_to_inhabitation', \n",
    "                'mcr_DT_output', 'cdu_DT_output', 'isb_DT_output'])\n",
    "\n",
    "display(data_eos_PLeR_df)\n",
    "data_eos_PLeR_df.to_csv('raw_data/data_04.2024.csv')"
   ]
  },
  {
   "cell_type": "code",
   "execution_count": null,
   "id": "888326d0-44eb-44be-96dd-206770091b0a",
   "metadata": {
    "ExecuteTime": {
     "start_time": "2024-04-06T17:39:38.460957Z"
    }
   },
   "outputs": [],
   "source": [
    "df1 = pd.read_csv('raw_data/data_04.2024.csv')"
   ]
  },
  {
   "cell_type": "code",
   "execution_count": null,
   "id": "f4ec3811-aa80-4c73-9484-b54b2462009d",
   "metadata": {
    "ExecuteTime": {
     "start_time": "2024-04-06T17:39:38.461863Z"
    }
   },
   "outputs": [],
   "source": [
    "df2 = data_eos_PLeR_df\n",
    "frames = [df1, df2]\n",
    "  \n",
    "#result = pd.concat(frames)\n",
    "df22 = df1.append(df2)\n",
    "\n",
    "display(df22)"
   ]
  },
  {
   "cell_type": "code",
   "execution_count": null,
   "id": "c4022b11-90fa-48fd-8e2b-a8220843154a",
   "metadata": {
    "ExecuteTime": {
     "start_time": "2024-04-06T17:39:38.462895Z"
    }
   },
   "outputs": [],
   "source": [
    "len(data_eos_PLeR_df)"
   ]
  },
  {
   "cell_type": "code",
   "execution_count": null,
   "id": "b22cc779-db66-4c0e-a89e-22db1222176c",
   "metadata": {
    "ExecuteTime": {
     "end_time": "2024-04-06T17:39:38.465595Z",
     "start_time": "2024-04-06T17:39:38.464182Z"
    }
   },
   "outputs": [],
   "source": []
  },
  {
   "cell_type": "code",
   "execution_count": null,
   "id": "b6acd783-675f-4203-8751-3bda8d277cba",
   "metadata": {
    "ExecuteTime": {
     "start_time": "2024-04-06T17:39:38.465050Z"
    }
   },
   "outputs": [],
   "source": [
    "data_eos_PLeR_df.info()"
   ]
  },
  {
   "cell_type": "code",
   "execution_count": null,
   "id": "98a20a90-5258-4363-ad19-dc6b3eb9d24d",
   "metadata": {
    "ExecuteTime": {
     "end_time": "2024-04-06T17:39:38.466194Z",
     "start_time": "2024-04-06T17:39:38.465928Z"
    }
   },
   "outputs": [],
   "source": [
    "data_EOS_DT = xw.Book(\"raw_data/data_EOS_DT.xlsm\")"
   ]
  },
  {
   "cell_type": "code",
   "execution_count": null,
   "id": "4feb0c15-5395-47ba-a9f8-0d7a705060bd",
   "metadata": {
    "ExecuteTime": {
     "end_time": "2024-04-06T17:39:38.466511Z",
     "start_time": "2024-04-06T17:39:38.466384Z"
    }
   },
   "outputs": [],
   "source": []
  },
  {
   "cell_type": "code",
   "execution_count": null,
   "id": "f5dd6de3-767e-4a3e-b245-10decd3c63c2",
   "metadata": {
    "ExecuteTime": {
     "start_time": "2024-04-06T17:39:38.467002Z"
    }
   },
   "outputs": [],
   "source": [
    "EOS_tool.save('raw_data/data_PLeR.xlsx')\n",
    "EOS_tool.close"
   ]
  }
 ],
 "metadata": {
  "kernelspec": {
   "display_name": "Python 3 (ipykernel)",
   "language": "python",
   "name": "python3"
  },
  "language_info": {
   "codemirror_mode": {
    "name": "ipython",
    "version": 3
   },
   "file_extension": ".py",
   "mimetype": "text/x-python",
   "name": "python",
   "nbconvert_exporter": "python",
   "pygments_lexer": "ipython3",
   "version": "3.11.4"
  }
 },
 "nbformat": 4,
 "nbformat_minor": 5
}
